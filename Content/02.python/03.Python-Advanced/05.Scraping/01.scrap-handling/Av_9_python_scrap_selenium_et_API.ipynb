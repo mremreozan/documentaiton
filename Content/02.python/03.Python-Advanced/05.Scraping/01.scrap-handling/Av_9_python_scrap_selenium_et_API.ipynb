{
 "cells": [
  {
   "cell_type": "markdown",
   "metadata": {},
   "source": [
    "### Today, we will scrape Producthunt with Selenium\n",
    "\n",
    "Selenium is a tool initially created to automate tests on websites. It is therefore very useful when information is accessible by clicking on links. A button for example is an element on which it is very difficult to obtain the link. Beautifull soup then becomes limited.\n",
    "In this case, use Selenium"
   ]
  },
  {
   "cell_type": "markdown",
   "metadata": {},
   "source": [
    "### Load libraries"
   ]
  },
  {
   "cell_type": "code",
   "execution_count": 1,
   "metadata": {},
   "outputs": [],
   "source": [
    "import bs4\n",
    "import requests\n",
    "from bs4 import BeautifulSoup\n",
    "import numpy as np\n",
    "import pandas as pd\n",
    "import json\n",
    "import re\n",
    "import lxml.html\n",
    "import time\n",
    "import random\n",
    "from random import randint\n",
    "import logging\n",
    "import collections\n",
    "from time import gmtime, strftime\n",
    "\n",
    "import re\n",
    "#from tabulate import tabulate\n",
    "import os\n",
    "date=strftime(\"%Y-%m-%d\")\n"
   ]
  },
  {
   "cell_type": "markdown",
   "metadata": {},
   "source": [
    "### Install Selenium according to this manual\n",
    "\n",
    "https://selenium-python.readthedocs.io/installation.html#downloading-python-bindings-for-selenium/bin\n",
    "\n",
    "nb: Linux: put your geckodriver (the downloaded extension) in the equivalent path at home to /home/YOURNAME/.local/bin"
   ]
  },
  {
   "cell_type": "markdown",
   "metadata": {},
   "source": [
    "We will simulate a search on the official Phython website"
   ]
  },
  {
   "cell_type": "code",
   "execution_count": 2,
   "metadata": {},
   "outputs": [],
   "source": [
    "import selenium\n",
    "\n",
    "# The selenium.webdriver module provides all the implementations of WebDriver. WebDriver implementations \n",
    "# Currently supported are Firefox, Chrome, IE and Remote. The Keys class provides keys in \n",
    "# the keyboard such as RETURN, F1, ALT etc.\n",
    "from selenium import webdriver\n",
    "from selenium.webdriver.common.keys import Keys\n",
    "# Then, the instance of Firefox WebDriver is created.\n",
    "driver = webdriver.Chrome(executable_path='C:/Users/dogan/Documents/becode/BXL-Bouman-2.22/Content/02.python/03.Python-Advanced/05.Scraping/01.scrap-handling/chromedriver.exe')\n",
    "# The driver.get method will lead to a page given by the URL. WebDriver will wait until the page is fully completed \n",
    "# loaded (i.e. the \"onload\" event has been triggered) before returning the control to your script. \n",
    "# It should be noted that if your page uses a lot of AJAX when loading, WebDriver may not know \n",
    "# when it was fully charged:\n",
    "driver.get(\"http://www.python.org\")\n",
    "# The following line is a statement confirming that the title contains the word \"Python\"\n",
    "assert \"Python\" in driver.title\n",
    "# WebDriver offers several methods to search for items using one of the methods \n",
    "# find_element_by_by_ * . For example, the input text element can be located by its name attribute by \n",
    "# using the find_element_by_name method \n",
    "elem = driver.find_element_by_name(\"q\")\n",
    "# Then we send keys. This is similar to entering keys using your keyboard. \n",
    "# Special keys can be sent using the imported selenium.webdriver.common.keys Keys class. \n",
    "# For security reasons, we will delete any pre-filled text in the input field \n",
    "# (for example, \"Search\") so that it does not affect our search results:\n",
    "\n",
    "\n",
    "elem.clear()\n",
    "elem.send_keys(\"pycon\")\n",
    "elem.send_keys(Keys.RETURN)\n",
    "\n",
    "#After submitting the page, you should get the result if there is one. To ensure that certain results \n",
    "# are found, make an assertion:\n",
    "assert \"No results found.\" not in driver.page_source\n",
    "driver.close()"
   ]
  },
  {
   "cell_type": "markdown",
   "metadata": {},
   "source": [
    "#### Open the source code of this page (HTML) and check that the search area (field) is called \"q\".\n",
    "\n",
    "input id=\"id-search-field\" name=\"q\" type=\"search\" role=\"textbox\" class=\"search-field placeholder\" placeholder=\"Search\" value=\"\" tabindex=\"1\""
   ]
  },
  {
   "cell_type": "code",
   "execution_count": null,
   "metadata": {},
   "outputs": [],
   "source": []
  },
  {
   "cell_type": "markdown",
   "metadata": {},
   "source": [
    "### Getting a phone number from an ad in the right place"
   ]
  },
  {
   "cell_type": "code",
   "execution_count": 2,
   "metadata": {},
   "outputs": [
    {
     "ename": "IndexError",
     "evalue": "list index out of range",
     "output_type": "error",
     "traceback": [
      "\u001b[1;31m---------------------------------------------------------------------------\u001b[0m",
      "\u001b[1;31mIndexError\u001b[0m                                Traceback (most recent call last)",
      "\u001b[1;32m<ipython-input-2-e62ee4b3fdae>\u001b[0m in \u001b[0;36m<module>\u001b[1;34m\u001b[0m\n\u001b[0;32m     16\u001b[0m \u001b[1;33m\u001b[0m\u001b[0m\n\u001b[0;32m     17\u001b[0m \u001b[1;33m\u001b[0m\u001b[0m\n\u001b[1;32m---> 18\u001b[1;33m \u001b[0mpython_button\u001b[0m \u001b[1;33m=\u001b[0m \u001b[0mdriver\u001b[0m\u001b[1;33m.\u001b[0m\u001b[0mfind_elements_by_xpath\u001b[0m\u001b[1;33m(\u001b[0m\u001b[1;34m'//div[@data-reactid=\"269\"]'\u001b[0m\u001b[1;33m)\u001b[0m\u001b[1;33m[\u001b[0m\u001b[1;36m0\u001b[0m\u001b[1;33m]\u001b[0m\u001b[1;33m\u001b[0m\u001b[1;33m\u001b[0m\u001b[0m\n\u001b[0m\u001b[0;32m     19\u001b[0m \u001b[0mpython_button\u001b[0m\u001b[1;33m.\u001b[0m\u001b[0mclick\u001b[0m\u001b[1;33m(\u001b[0m\u001b[1;33m)\u001b[0m\u001b[1;33m\u001b[0m\u001b[1;33m\u001b[0m\u001b[0m\n\u001b[0;32m     20\u001b[0m \u001b[1;33m\u001b[0m\u001b[0m\n",
      "\u001b[1;31mIndexError\u001b[0m: list index out of range"
     ]
    }
   ],
   "source": [
    "from selenium import webdriver\n",
    "from selenium.webdriver.support.ui import WebDriverWait\n",
    "from selenium.webdriver.support import expected_conditions as EC\n",
    "from selenium.common.exceptions import TimeoutException\n",
    "from selenium.webdriver.common.by import By\n",
    "from selenium.webdriver.chrome.options import Options\n",
    "\n",
    "url='https://www.leboncoin.fr/sports_hobbies/1536839557.htm/'\n",
    "\n",
    "chrome_options = Options()\n",
    "chrome_options.add_argument(\"--disable-infobars\")\n",
    "EXECUTABLE_PATH = 'C:/Users/dogan/Documents/becode/BXL-Bouman-2.22/Content/02.python/03.Python-Advanced/05.Scraping/01.scrap-handling/chromedriver.exe'\n",
    "driver = webdriver.Chrome(executable_path=EXECUTABLE_PATH, options=chrome_options)\n",
    "driver.implicitly_wait(30)\n",
    "driver.get(url)\n",
    "\n",
    "\n",
    "python_button = driver.find_elements_by_xpath('//div[@data-reactid=\"269\"]')[0]\n",
    "python_button.click()\n",
    "\n",
    "# And then it's like Beautiful soup\n",
    "soup=BeautifulSoup(driver.page_source)\n",
    "\n",
    "driver.close()\n",
    "\n",
    "# And then it's like Beautiful soup\n",
    "for elem in soup.find_all('a',attrs={\"data-qa-id\" :\"adview_number_phone_contact\" }):\n",
    "    print(elem.text)"
   ]
  },
  {
   "cell_type": "markdown",
   "metadata": {},
   "source": [
    "### Starting from an ad in the right place, collect all the information available to define the product being sold. Use selenium for the telephone number"
   ]
  },
  {
   "cell_type": "markdown",
   "metadata": {},
   "source": [
    "this website want to verify whether he is human using automated test. Because of that, here I coudn't do anything at this website"
   ]
  },
  {
   "cell_type": "markdown",
   "metadata": {},
   "source": [
    "### API (Application Program Interface)"
   ]
  },
  {
   "cell_type": "markdown",
   "metadata": {},
   "source": [
    "A set of tools and methods that allow different applications to interact with each other. In the case of a web service, we can retrieve data dynamically. By using an API correctly, we can thus obtain in real time, the modifications made on a \"parent\" site.\n",
    "\n",
    "For example, we will retrieve online news, for example from the \"L'équipe\" website."
   ]
  },
  {
   "cell_type": "markdown",
   "metadata": {},
   "source": [
    "Follow the instructions at https://newsapi.org/s/lequipe-api to retrieve an \"API key\" connection key"
   ]
  },
  {
   "cell_type": "markdown",
   "metadata": {},
   "source": [
    "Your API key is: 73bbb95f8ecb49b499113a46481b4af1\n",
    "\n",
    "\n",
    "It is frequent that a key does not work after a while 5mins 30 mins 1 d ...\n",
    "So don't jump up if you get an error message back."
   ]
  },
  {
   "cell_type": "code",
   "execution_count": 5,
   "metadata": {
    "scrolled": true
   },
   "outputs": [
    {
     "name": "stdout",
     "output_type": "stream",
     "text": [
      "{'status': 'ok', 'totalResults': 10, 'articles': [{'source': {'id': 'lequipe', 'name': \"L'equipe\"}, 'author': \"L'EQUIPE\", 'title': \"Transferts\\xa0: Patrice Carteron nommé entraîneur d'Al Taawoun (Arabie Saoudite) - Foot - Transferts\", 'description': \"L'entraîneur français Patrice Carteron, qui avait quitté le Zamalek (Égypte) mardi pour «\\xa0raisons personnelles\\xa0», s'est engagé jeudi avec le club saoudien d'Al Taawoun.\", 'url': 'https://www.lequipe.fr/Football/Actualites/Transferts-patrice-carteron-nomme-entraineur-d-al-taawoun-arabie-saoudite/1172656', 'urlToImage': 'https://medias.lequipe.fr/img-photo-jpg/patrice-a-rapidement-retrouve-un-club-amr-abdallah-dalsh-reuters/1500000001381567/0:0,1492:994-640-427-25/90982.jpg', 'publishedAt': '2020-09-17T08:38:00+00:00', 'content': \"Patrice Carteron, vainqueur de la Ligue des champions d'Afrique 2015 avec le Tout Puissant Mazembe (RDC), maîtrise l'art du rebond. L'entraîneur français, qui venait de quitter le Zamalek (Égypte) ma… [+161 chars]\"}, {'source': {'id': 'lequipe', 'name': \"L'equipe\"}, 'author': \"L'EQUIPE\", 'title': 'Angleterre\\xa0: Wigan Athletic (D3) menacé de liquidation judiciaire - Foot - ANG', 'description': \"Vainqueur de la Cup en 2013, Wigan Athletic, relégué en League One (D3 anglaise) pourrait être liquidé faute d'investisseurs.\", 'url': 'https://www.lequipe.fr/Football/Actualites/Angleterre-wigan-athletic-d3-menace-de-liquidation-judiciaire/1172654', 'urlToImage': 'https://medias.lequipe.fr/img-photo-jpg/les-supporteurs-de-wigan-dans-l-attente-d-une-eventuelle-liquidation-de-leur-club-t-gromik-l-equi/1500000001381566/0:0,1991:1328-640-427-25/c2e45.jpg', 'publishedAt': '2020-09-17T08:31:00+00:00', 'content': \"Wigan Athletic est sous la menace d'une liquidation judiciaire. Placé sous administration judiciaire en juillet moins d'un mois après avoir été repris par un homme d'affaires hongkongais, le club de … [+141 chars]\"}, {'source': {'id': 'lequipe', 'name': \"L'equipe\"}, 'author': \"L'EQUIPE\", 'title': \"Section Paloise : Tom Taylor demande près d'1 million d'euros - Rugby - Top 14 - Pau\", 'description': \"Licencié début juin par la Section Paloise pour avoir rejoint la Nouvelle-Zélande sans l'accord du club en pleine pandémie de coronavirus, Tom Taylor et le club palois ont rendez-vous devant les Prud'hommes le 1er octobre pour une audience de conciliation. Le…\", 'url': 'https://www.lequipe.fr/Rugby/Actualites/Section-paloise-tom-taylor-demande-pres-d-1-million-d-euros/1172651', 'urlToImage': 'https://medias.lequipe.fr/img-photo-jpg/tom-taylor-aura-joue-quatre-saisons-sous-le-maillot-de-pau-r-perrocheau-l-equipe/1500000001381563/0:0,1995:1330-640-427-25/dc445.jpg', 'publishedAt': '2020-09-17T08:09:00+00:00', 'content': \"Début juin, dans un communiqué, la Section Paloise annonçait qu'une procédure de licenciement avait été engagée contre Tom Taylor. Il était reproché au polyvalent trois-quart néo-zélandais, arrivé au… [+238 chars]\"}, {'source': {'id': 'lequipe', 'name': \"L'equipe\"}, 'author': \"L'EQUIPE\", 'title': \"Un partenariat pour accélérer l'innovation numérique en Ligue\\xa01 - Foot - Eco\", 'description': \"Le syndicat Première Ligue et l'incubateur «\\xa0Le Tremplin\\xa0» annoncent une collaboration pour faciliter l'adoption par les clubs de solutions numériques adaptées à l'univers du sport.\", 'url': 'https://www.lequipe.fr/Football/Actualites/Un-partenariat-pour-accelerer-l-innovation-numerique-en-ligue-1/1172522', 'urlToImage': 'https://medias.lequipe.fr/img-photo-jpg/le-tremplin-est-une-plateforme-de-soutien-et-de-stimulation-de-l-innovation-dans-le-secteur-du-sport/1500000001381359/0:0,663:442-640-427-25/27421.jpg', 'publishedAt': '2020-09-17T08:00:00+00:00', 'content': \"Un tremplin numérique pour les clubs de Ligue\\xa01... Le syndicat Première Ligue, qui représente la majorité des clubs de l'élite, va annoncer dans les prochains jours la conclusion d'un partenariat ave… [+974 chars]\"}, {'source': {'id': 'lequipe', 'name': \"L'equipe\"}, 'author': \"L'EQUIPE\", 'title': \"Wilfried Happio : « Avec Warholm, ça fait monter l'adrénaline » - Athlé - LD - Rome\", 'description': \"Le champion d'Europe espoirs 2019 du 400m haies est aligné à Rome, jeudi soir, sans doute sa dernière opportunité de battre le record de France de la catégorie (48''92) de Stéphane Diagana.\", 'url': 'https://www.lequipe.fr/Athletisme/Actualites/Wilfried-happio-avec-warholm-ca-fait-monter-l-adrenaline/1172649', 'urlToImage': 'https://medias.lequipe.fr/img-photo-jpg/wilfried-happio-compte-sur-une-belle-adversite-pour-faire-descendre-le-chrono-a-rome-s-boue-l-equ/1500000001381559/0:0,1995:1330-640-427-25/6e1e3.jpg', 'publishedAt': '2020-09-17T07:53:00+00:00', 'content': \"« Avez-vous bien récupéré de vos deux courses en deux jours, le week-end dernier à Albi ?Oui, je me suis bien remis, j'étais un peu fatigué aux Championnats de France par contre. J'en ai justement pr… [+2048 chars]\"}, {'source': {'id': 'lequipe', 'name': \"L'equipe\"}, 'author': \"L'EQUIPE\", 'title': \"L'Asvel battue en finale du tournoi de Valence - Basket - Euroligue (H)\", 'description': \"Les hommes de TJ Parker ont été dominés de bout en bout (77-66) par Valence en finale d'un tournoi de pré-saison organisé par l'Euroligue à Valence.\", 'url': 'https://www.lequipe.fr/Basket/Actualites/L-asvel-battue-en-finale-du-tournoi-de-valence/1172646', 'urlToImage': 'https://medias.lequipe.fr/img-photo-jpg/le-nouveau-pivot-de-l-asvel-moustapha-fall-s-oppose-ici-au-neo-valencian-nikola-kalinic-12-euro/1500000001381553/0:0,1498:998-640-427-25/0fa44.jpg', 'publishedAt': '2020-09-17T07:42:00+00:00', 'content': \"Dans un autre match de préparation mercredi face à une équipe d'Euroligue, Vitoria, qui évoluait à domicile, l'Élan Béarnais Pau-Orthez a concédé l'une des plus grosses défaites de son histoire, s'in… [+42 chars]\"}, {'source': {'id': 'lequipe', 'name': \"L'equipe\"}, 'author': \"L'EQUIPE\", 'title': \"MLS\\xa0: pas de finale du Championnat canadien pour l'Impact Montréal de Thierry Henry - Foot - MLS\", 'description': \"Battu sur le terrain des Whitecaps de Vancouver mercredi (1-3), l'Impact Montréal de Thierry Henry ne disputera pas la finale du Championnat canadien.\", 'url': 'https://www.lequipe.fr/Football/Actualites/Mls-pas-de-finale-du-championnat-canadien-pour-l-impact-montreal-de-thierry-henry/1172641', 'urlToImage': 'https://medias.lequipe.fr/img-photo-jpg/le-milieu-de-terrain-de-l-impact-montreal-saphir-taider-aux-prises-avec-deux-defenseurs-des-vancouv/1500000001381541/0:0,1996:1331-640-427-25/0deb9.jpg', 'publishedAt': '2020-09-17T06:52:00+00:00', 'content': \"Trois jours après s'être imposé en MLS sur le terrain de Vancouver (4-2), l'Impact Montréal de Thierry Henry s'est incliné contre ces mêmes Whitecaps et toujours sur leur pelouse du BC Place (1-3).\\r\\n… [+598 chars]\"}, {'source': {'id': 'lequipe', 'name': \"L'equipe\"}, 'author': \"L'EQUIPE\", 'title': 'Luka Doncic (Dallas) nommé dans la première équipe NBA de la saison - Basket - NBA', 'description': 'Le Slovène de Dallas, Luka Doncic, fait partie du meilleur cinq de la saison régulière aux côtés de LeBron James, Giannis Antetokounmpo, James Harden et Anthony Davis.', 'url': 'https://www.lequipe.fr/Basket/Actualites/Luka-doncic-dallas-nomme-dans-la-premiere-equipe-nba-de-la-saison/1172640', 'urlToImage': 'https://medias.lequipe.fr/img-photo-jpg/pour-sa-deuxieme-saison-luka-doncic-est-associe-a-la-creme-de-la-ligue-dans-la-meilleure-equipe-de/1500000001381540/0:0,1995:1330-640-427-25/24a40.jpg', 'publishedAt': '2020-09-17T06:45:00+00:00', 'content': 'Alors que les finales de conférence débutent cette semaine, la NBA a révélé mercredi soir les compositions des traditionnels «\\xa0cinq de la saison régulière\\xa0», en attendant la révélation du MVP, le der… [+1101 chars]'}, {'source': {'id': 'lequipe', 'name': \"L'equipe\"}, 'author': \"L'EQUIPE\", 'title': 'Un peu, beaucoup, à la connerie - Humeur', 'description': \"Le sport en direct sur L'Équipe. Les informations, résultats et classements de tous les sports. Directs commentés, images et vidéos à regarder et à partager !\", 'url': 'https://www.lequipe.fr/Football/Actualites/Un-peu-beaucoup-a-la-connerie/1172086', 'urlToImage': 'https://medias.lequipe.fr/img-photo-jpg/-/1500000001380815/0:0,1499:999-640-427-25/aef40.jpg', 'publishedAt': '2020-09-17T05:55:00+00:00', 'content': \"Etonnant mécanisme intellectuel qui fait que des gens passent du temps à élaborer des banderoles dénotant d'un gros problème avec la sexualité en générale et avec celle qui se pratique par la poupe e… [+2084 chars]\"}, {'source': {'id': 'lequipe', 'name': \"L'equipe\"}, 'author': \"L'EQUIPE\", 'title': 'PSG\\xa0:\\xa0Thomas Tuchel «\\xa0très surpris\\xa0» par les décisions de la commission de discipline de la LFP - Foot - L1...', 'description': \"Après la victoire contre Metz ce mercredi soir (1-0), l'entraîneur parisien a - un peu - commenté les décisions de la Ligue, qui a notamment infligé deux matches de suspension ferme (plus un avec sursis) à Leandro Paredes et convoqué Angel Di Maria la semaine…\", 'url': 'https://www.lequipe.fr/Football/Actualites/Psg-thomas-tuchel-tres-surpris-par-les-decisions-de-la-commission-de-discipline-de-la-lfp/1172636', 'urlToImage': 'https://medias.lequipe.fr/img-video-cover/1500000001381534/640/0', 'publishedAt': '2020-09-16T22:20:00+00:00', 'content': \"S'il a soigneusement évité de répondre à la question de Téléfoot dans la foulée du coup de sifflet final face à Metz ce mercredi soir (1-0), Thomas Tuchel a de nouveau été interrogé sur les décisions… [+368 chars]\"}]}\n"
     ]
    }
   ],
   "source": [
    "import requests\n",
    "key='73bbb95f8ecb49b499113a46481b4af1'\n",
    "url ='https://newsapi.org/v2/top-headlines?sources=lequipe&apiKey='+key\n",
    "response = requests.get(url)\n",
    "\n",
    "# Here the response format is a json file, it is used as a dictionary\n",
    "\n",
    "print (response.json())"
   ]
  },
  {
   "cell_type": "code",
   "execution_count": 6,
   "metadata": {},
   "outputs": [
    {
     "name": "stdout",
     "output_type": "stream",
     "text": [
      "dict_keys(['status', 'totalResults', 'articles'])\n"
     ]
    }
   ],
   "source": [
    "dic=response.json()\n",
    "print(dic.keys())"
   ]
  },
  {
   "cell_type": "code",
   "execution_count": 7,
   "metadata": {
    "scrolled": true
   },
   "outputs": [
    {
     "name": "stdout",
     "output_type": "stream",
     "text": [
      "##############################################\n",
      "clé:  status // values:  ok\n",
      "##############################################\n",
      "clé:  totalResults // values:  10\n",
      "##############################################\n",
      "clé:  articles // values:  [{'source': {'id': 'lequipe', 'name': \"L'equipe\"}, 'author': \"L'EQUIPE\", 'title': \"Transferts\\xa0: Patrice Carteron nommé entraîneur d'Al Taawoun (Arabie Saoudite) - Foot - Transferts\", 'description': \"L'entraîneur français Patrice Carteron, qui avait quitté le Zamalek (Égypte) mardi pour «\\xa0raisons personnelles\\xa0», s'est engagé jeudi avec le club saoudien d'Al Taawoun.\", 'url': 'https://www.lequipe.fr/Football/Actualites/Transferts-patrice-carteron-nomme-entraineur-d-al-taawoun-arabie-saoudite/1172656', 'urlToImage': 'https://medias.lequipe.fr/img-photo-jpg/patrice-a-rapidement-retrouve-un-club-amr-abdallah-dalsh-reuters/1500000001381567/0:0,1492:994-640-427-25/90982.jpg', 'publishedAt': '2020-09-17T08:38:00+00:00', 'content': \"Patrice Carteron, vainqueur de la Ligue des champions d'Afrique 2015 avec le Tout Puissant Mazembe (RDC), maîtrise l'art du rebond. L'entraîneur français, qui venait de quitter le Zamalek (Égypte) ma… [+161 chars]\"}, {'source': {'id': 'lequipe', 'name': \"L'equipe\"}, 'author': \"L'EQUIPE\", 'title': 'Angleterre\\xa0: Wigan Athletic (D3) menacé de liquidation judiciaire - Foot - ANG', 'description': \"Vainqueur de la Cup en 2013, Wigan Athletic, relégué en League One (D3 anglaise) pourrait être liquidé faute d'investisseurs.\", 'url': 'https://www.lequipe.fr/Football/Actualites/Angleterre-wigan-athletic-d3-menace-de-liquidation-judiciaire/1172654', 'urlToImage': 'https://medias.lequipe.fr/img-photo-jpg/les-supporteurs-de-wigan-dans-l-attente-d-une-eventuelle-liquidation-de-leur-club-t-gromik-l-equi/1500000001381566/0:0,1991:1328-640-427-25/c2e45.jpg', 'publishedAt': '2020-09-17T08:31:00+00:00', 'content': \"Wigan Athletic est sous la menace d'une liquidation judiciaire. Placé sous administration judiciaire en juillet moins d'un mois après avoir été repris par un homme d'affaires hongkongais, le club de … [+141 chars]\"}, {'source': {'id': 'lequipe', 'name': \"L'equipe\"}, 'author': \"L'EQUIPE\", 'title': \"Section Paloise : Tom Taylor demande près d'1 million d'euros - Rugby - Top 14 - Pau\", 'description': \"Licencié début juin par la Section Paloise pour avoir rejoint la Nouvelle-Zélande sans l'accord du club en pleine pandémie de coronavirus, Tom Taylor et le club palois ont rendez-vous devant les Prud'hommes le 1er octobre pour une audience de conciliation. Le…\", 'url': 'https://www.lequipe.fr/Rugby/Actualites/Section-paloise-tom-taylor-demande-pres-d-1-million-d-euros/1172651', 'urlToImage': 'https://medias.lequipe.fr/img-photo-jpg/tom-taylor-aura-joue-quatre-saisons-sous-le-maillot-de-pau-r-perrocheau-l-equipe/1500000001381563/0:0,1995:1330-640-427-25/dc445.jpg', 'publishedAt': '2020-09-17T08:09:00+00:00', 'content': \"Début juin, dans un communiqué, la Section Paloise annonçait qu'une procédure de licenciement avait été engagée contre Tom Taylor. Il était reproché au polyvalent trois-quart néo-zélandais, arrivé au… [+238 chars]\"}, {'source': {'id': 'lequipe', 'name': \"L'equipe\"}, 'author': \"L'EQUIPE\", 'title': \"Un partenariat pour accélérer l'innovation numérique en Ligue\\xa01 - Foot - Eco\", 'description': \"Le syndicat Première Ligue et l'incubateur «\\xa0Le Tremplin\\xa0» annoncent une collaboration pour faciliter l'adoption par les clubs de solutions numériques adaptées à l'univers du sport.\", 'url': 'https://www.lequipe.fr/Football/Actualites/Un-partenariat-pour-accelerer-l-innovation-numerique-en-ligue-1/1172522', 'urlToImage': 'https://medias.lequipe.fr/img-photo-jpg/le-tremplin-est-une-plateforme-de-soutien-et-de-stimulation-de-l-innovation-dans-le-secteur-du-sport/1500000001381359/0:0,663:442-640-427-25/27421.jpg', 'publishedAt': '2020-09-17T08:00:00+00:00', 'content': \"Un tremplin numérique pour les clubs de Ligue\\xa01... Le syndicat Première Ligue, qui représente la majorité des clubs de l'élite, va annoncer dans les prochains jours la conclusion d'un partenariat ave… [+974 chars]\"}, {'source': {'id': 'lequipe', 'name': \"L'equipe\"}, 'author': \"L'EQUIPE\", 'title': \"Wilfried Happio : « Avec Warholm, ça fait monter l'adrénaline » - Athlé - LD - Rome\", 'description': \"Le champion d'Europe espoirs 2019 du 400m haies est aligné à Rome, jeudi soir, sans doute sa dernière opportunité de battre le record de France de la catégorie (48''92) de Stéphane Diagana.\", 'url': 'https://www.lequipe.fr/Athletisme/Actualites/Wilfried-happio-avec-warholm-ca-fait-monter-l-adrenaline/1172649', 'urlToImage': 'https://medias.lequipe.fr/img-photo-jpg/wilfried-happio-compte-sur-une-belle-adversite-pour-faire-descendre-le-chrono-a-rome-s-boue-l-equ/1500000001381559/0:0,1995:1330-640-427-25/6e1e3.jpg', 'publishedAt': '2020-09-17T07:53:00+00:00', 'content': \"« Avez-vous bien récupéré de vos deux courses en deux jours, le week-end dernier à Albi ?Oui, je me suis bien remis, j'étais un peu fatigué aux Championnats de France par contre. J'en ai justement pr… [+2048 chars]\"}, {'source': {'id': 'lequipe', 'name': \"L'equipe\"}, 'author': \"L'EQUIPE\", 'title': \"L'Asvel battue en finale du tournoi de Valence - Basket - Euroligue (H)\", 'description': \"Les hommes de TJ Parker ont été dominés de bout en bout (77-66) par Valence en finale d'un tournoi de pré-saison organisé par l'Euroligue à Valence.\", 'url': 'https://www.lequipe.fr/Basket/Actualites/L-asvel-battue-en-finale-du-tournoi-de-valence/1172646', 'urlToImage': 'https://medias.lequipe.fr/img-photo-jpg/le-nouveau-pivot-de-l-asvel-moustapha-fall-s-oppose-ici-au-neo-valencian-nikola-kalinic-12-euro/1500000001381553/0:0,1498:998-640-427-25/0fa44.jpg', 'publishedAt': '2020-09-17T07:42:00+00:00', 'content': \"Dans un autre match de préparation mercredi face à une équipe d'Euroligue, Vitoria, qui évoluait à domicile, l'Élan Béarnais Pau-Orthez a concédé l'une des plus grosses défaites de son histoire, s'in… [+42 chars]\"}, {'source': {'id': 'lequipe', 'name': \"L'equipe\"}, 'author': \"L'EQUIPE\", 'title': \"MLS\\xa0: pas de finale du Championnat canadien pour l'Impact Montréal de Thierry Henry - Foot - MLS\", 'description': \"Battu sur le terrain des Whitecaps de Vancouver mercredi (1-3), l'Impact Montréal de Thierry Henry ne disputera pas la finale du Championnat canadien.\", 'url': 'https://www.lequipe.fr/Football/Actualites/Mls-pas-de-finale-du-championnat-canadien-pour-l-impact-montreal-de-thierry-henry/1172641', 'urlToImage': 'https://medias.lequipe.fr/img-photo-jpg/le-milieu-de-terrain-de-l-impact-montreal-saphir-taider-aux-prises-avec-deux-defenseurs-des-vancouv/1500000001381541/0:0,1996:1331-640-427-25/0deb9.jpg', 'publishedAt': '2020-09-17T06:52:00+00:00', 'content': \"Trois jours après s'être imposé en MLS sur le terrain de Vancouver (4-2), l'Impact Montréal de Thierry Henry s'est incliné contre ces mêmes Whitecaps et toujours sur leur pelouse du BC Place (1-3).\\r\\n… [+598 chars]\"}, {'source': {'id': 'lequipe', 'name': \"L'equipe\"}, 'author': \"L'EQUIPE\", 'title': 'Luka Doncic (Dallas) nommé dans la première équipe NBA de la saison - Basket - NBA', 'description': 'Le Slovène de Dallas, Luka Doncic, fait partie du meilleur cinq de la saison régulière aux côtés de LeBron James, Giannis Antetokounmpo, James Harden et Anthony Davis.', 'url': 'https://www.lequipe.fr/Basket/Actualites/Luka-doncic-dallas-nomme-dans-la-premiere-equipe-nba-de-la-saison/1172640', 'urlToImage': 'https://medias.lequipe.fr/img-photo-jpg/pour-sa-deuxieme-saison-luka-doncic-est-associe-a-la-creme-de-la-ligue-dans-la-meilleure-equipe-de/1500000001381540/0:0,1995:1330-640-427-25/24a40.jpg', 'publishedAt': '2020-09-17T06:45:00+00:00', 'content': 'Alors que les finales de conférence débutent cette semaine, la NBA a révélé mercredi soir les compositions des traditionnels «\\xa0cinq de la saison régulière\\xa0», en attendant la révélation du MVP, le der… [+1101 chars]'}, {'source': {'id': 'lequipe', 'name': \"L'equipe\"}, 'author': \"L'EQUIPE\", 'title': 'Un peu, beaucoup, à la connerie - Humeur', 'description': \"Le sport en direct sur L'Équipe. Les informations, résultats et classements de tous les sports. Directs commentés, images et vidéos à regarder et à partager !\", 'url': 'https://www.lequipe.fr/Football/Actualites/Un-peu-beaucoup-a-la-connerie/1172086', 'urlToImage': 'https://medias.lequipe.fr/img-photo-jpg/-/1500000001380815/0:0,1499:999-640-427-25/aef40.jpg', 'publishedAt': '2020-09-17T05:55:00+00:00', 'content': \"Etonnant mécanisme intellectuel qui fait que des gens passent du temps à élaborer des banderoles dénotant d'un gros problème avec la sexualité en générale et avec celle qui se pratique par la poupe e… [+2084 chars]\"}, {'source': {'id': 'lequipe', 'name': \"L'equipe\"}, 'author': \"L'EQUIPE\", 'title': 'PSG\\xa0:\\xa0Thomas Tuchel «\\xa0très surpris\\xa0» par les décisions de la commission de discipline de la LFP - Foot - L1...', 'description': \"Après la victoire contre Metz ce mercredi soir (1-0), l'entraîneur parisien a - un peu - commenté les décisions de la Ligue, qui a notamment infligé deux matches de suspension ferme (plus un avec sursis) à Leandro Paredes et convoqué Angel Di Maria la semaine…\", 'url': 'https://www.lequipe.fr/Football/Actualites/Psg-thomas-tuchel-tres-surpris-par-les-decisions-de-la-commission-de-discipline-de-la-lfp/1172636', 'urlToImage': 'https://medias.lequipe.fr/img-video-cover/1500000001381534/640/0', 'publishedAt': '2020-09-16T22:20:00+00:00', 'content': \"S'il a soigneusement évité de répondre à la question de Téléfoot dans la foulée du coup de sifflet final face à Metz ce mercredi soir (1-0), Thomas Tuchel a de nouveau été interrogé sur les décisions… [+368 chars]\"}]\n"
     ]
    }
   ],
   "source": [
    "for elem in list(dic.keys()):\n",
    "    print('##############################################')\n",
    "    print(\"clé: \",elem,\"// values: \", dic[elem])"
   ]
  },
  {
   "cell_type": "code",
   "execution_count": 8,
   "metadata": {
    "scrolled": true
   },
   "outputs": [
    {
     "name": "stdout",
     "output_type": "stream",
     "text": [
      "###############################################\n",
      "(0, {'source': {'id': 'lequipe', 'name': \"L'equipe\"}, 'author': \"L'EQUIPE\", 'title': \"Transferts\\xa0: Patrice Carteron nommé entraîneur d'Al Taawoun (Arabie Saoudite) - Foot - Transferts\", 'description': \"L'entraîneur français Patrice Carteron, qui avait quitté le Zamalek (Égypte) mardi pour «\\xa0raisons personnelles\\xa0», s'est engagé jeudi avec le club saoudien d'Al Taawoun.\", 'url': 'https://www.lequipe.fr/Football/Actualites/Transferts-patrice-carteron-nomme-entraineur-d-al-taawoun-arabie-saoudite/1172656', 'urlToImage': 'https://medias.lequipe.fr/img-photo-jpg/patrice-a-rapidement-retrouve-un-club-amr-abdallah-dalsh-reuters/1500000001381567/0:0,1492:994-640-427-25/90982.jpg', 'publishedAt': '2020-09-17T08:38:00+00:00', 'content': \"Patrice Carteron, vainqueur de la Ligue des champions d'Afrique 2015 avec le Tout Puissant Mazembe (RDC), maîtrise l'art du rebond. L'entraîneur français, qui venait de quitter le Zamalek (Égypte) ma… [+161 chars]\"})\n",
      "###############################################\n",
      "(1, {'source': {'id': 'lequipe', 'name': \"L'equipe\"}, 'author': \"L'EQUIPE\", 'title': 'Angleterre\\xa0: Wigan Athletic (D3) menacé de liquidation judiciaire - Foot - ANG', 'description': \"Vainqueur de la Cup en 2013, Wigan Athletic, relégué en League One (D3 anglaise) pourrait être liquidé faute d'investisseurs.\", 'url': 'https://www.lequipe.fr/Football/Actualites/Angleterre-wigan-athletic-d3-menace-de-liquidation-judiciaire/1172654', 'urlToImage': 'https://medias.lequipe.fr/img-photo-jpg/les-supporteurs-de-wigan-dans-l-attente-d-une-eventuelle-liquidation-de-leur-club-t-gromik-l-equi/1500000001381566/0:0,1991:1328-640-427-25/c2e45.jpg', 'publishedAt': '2020-09-17T08:31:00+00:00', 'content': \"Wigan Athletic est sous la menace d'une liquidation judiciaire. Placé sous administration judiciaire en juillet moins d'un mois après avoir été repris par un homme d'affaires hongkongais, le club de … [+141 chars]\"})\n",
      "###############################################\n",
      "(2, {'source': {'id': 'lequipe', 'name': \"L'equipe\"}, 'author': \"L'EQUIPE\", 'title': \"Section Paloise : Tom Taylor demande près d'1 million d'euros - Rugby - Top 14 - Pau\", 'description': \"Licencié début juin par la Section Paloise pour avoir rejoint la Nouvelle-Zélande sans l'accord du club en pleine pandémie de coronavirus, Tom Taylor et le club palois ont rendez-vous devant les Prud'hommes le 1er octobre pour une audience de conciliation. Le…\", 'url': 'https://www.lequipe.fr/Rugby/Actualites/Section-paloise-tom-taylor-demande-pres-d-1-million-d-euros/1172651', 'urlToImage': 'https://medias.lequipe.fr/img-photo-jpg/tom-taylor-aura-joue-quatre-saisons-sous-le-maillot-de-pau-r-perrocheau-l-equipe/1500000001381563/0:0,1995:1330-640-427-25/dc445.jpg', 'publishedAt': '2020-09-17T08:09:00+00:00', 'content': \"Début juin, dans un communiqué, la Section Paloise annonçait qu'une procédure de licenciement avait été engagée contre Tom Taylor. Il était reproché au polyvalent trois-quart néo-zélandais, arrivé au… [+238 chars]\"})\n",
      "###############################################\n",
      "(3, {'source': {'id': 'lequipe', 'name': \"L'equipe\"}, 'author': \"L'EQUIPE\", 'title': \"Un partenariat pour accélérer l'innovation numérique en Ligue\\xa01 - Foot - Eco\", 'description': \"Le syndicat Première Ligue et l'incubateur «\\xa0Le Tremplin\\xa0» annoncent une collaboration pour faciliter l'adoption par les clubs de solutions numériques adaptées à l'univers du sport.\", 'url': 'https://www.lequipe.fr/Football/Actualites/Un-partenariat-pour-accelerer-l-innovation-numerique-en-ligue-1/1172522', 'urlToImage': 'https://medias.lequipe.fr/img-photo-jpg/le-tremplin-est-une-plateforme-de-soutien-et-de-stimulation-de-l-innovation-dans-le-secteur-du-sport/1500000001381359/0:0,663:442-640-427-25/27421.jpg', 'publishedAt': '2020-09-17T08:00:00+00:00', 'content': \"Un tremplin numérique pour les clubs de Ligue\\xa01... Le syndicat Première Ligue, qui représente la majorité des clubs de l'élite, va annoncer dans les prochains jours la conclusion d'un partenariat ave… [+974 chars]\"})\n",
      "###############################################\n",
      "(4, {'source': {'id': 'lequipe', 'name': \"L'equipe\"}, 'author': \"L'EQUIPE\", 'title': \"Wilfried Happio : « Avec Warholm, ça fait monter l'adrénaline » - Athlé - LD - Rome\", 'description': \"Le champion d'Europe espoirs 2019 du 400m haies est aligné à Rome, jeudi soir, sans doute sa dernière opportunité de battre le record de France de la catégorie (48''92) de Stéphane Diagana.\", 'url': 'https://www.lequipe.fr/Athletisme/Actualites/Wilfried-happio-avec-warholm-ca-fait-monter-l-adrenaline/1172649', 'urlToImage': 'https://medias.lequipe.fr/img-photo-jpg/wilfried-happio-compte-sur-une-belle-adversite-pour-faire-descendre-le-chrono-a-rome-s-boue-l-equ/1500000001381559/0:0,1995:1330-640-427-25/6e1e3.jpg', 'publishedAt': '2020-09-17T07:53:00+00:00', 'content': \"« Avez-vous bien récupéré de vos deux courses en deux jours, le week-end dernier à Albi ?Oui, je me suis bien remis, j'étais un peu fatigué aux Championnats de France par contre. J'en ai justement pr… [+2048 chars]\"})\n",
      "###############################################\n",
      "(5, {'source': {'id': 'lequipe', 'name': \"L'equipe\"}, 'author': \"L'EQUIPE\", 'title': \"L'Asvel battue en finale du tournoi de Valence - Basket - Euroligue (H)\", 'description': \"Les hommes de TJ Parker ont été dominés de bout en bout (77-66) par Valence en finale d'un tournoi de pré-saison organisé par l'Euroligue à Valence.\", 'url': 'https://www.lequipe.fr/Basket/Actualites/L-asvel-battue-en-finale-du-tournoi-de-valence/1172646', 'urlToImage': 'https://medias.lequipe.fr/img-photo-jpg/le-nouveau-pivot-de-l-asvel-moustapha-fall-s-oppose-ici-au-neo-valencian-nikola-kalinic-12-euro/1500000001381553/0:0,1498:998-640-427-25/0fa44.jpg', 'publishedAt': '2020-09-17T07:42:00+00:00', 'content': \"Dans un autre match de préparation mercredi face à une équipe d'Euroligue, Vitoria, qui évoluait à domicile, l'Élan Béarnais Pau-Orthez a concédé l'une des plus grosses défaites de son histoire, s'in… [+42 chars]\"})\n",
      "###############################################\n",
      "(6, {'source': {'id': 'lequipe', 'name': \"L'equipe\"}, 'author': \"L'EQUIPE\", 'title': \"MLS\\xa0: pas de finale du Championnat canadien pour l'Impact Montréal de Thierry Henry - Foot - MLS\", 'description': \"Battu sur le terrain des Whitecaps de Vancouver mercredi (1-3), l'Impact Montréal de Thierry Henry ne disputera pas la finale du Championnat canadien.\", 'url': 'https://www.lequipe.fr/Football/Actualites/Mls-pas-de-finale-du-championnat-canadien-pour-l-impact-montreal-de-thierry-henry/1172641', 'urlToImage': 'https://medias.lequipe.fr/img-photo-jpg/le-milieu-de-terrain-de-l-impact-montreal-saphir-taider-aux-prises-avec-deux-defenseurs-des-vancouv/1500000001381541/0:0,1996:1331-640-427-25/0deb9.jpg', 'publishedAt': '2020-09-17T06:52:00+00:00', 'content': \"Trois jours après s'être imposé en MLS sur le terrain de Vancouver (4-2), l'Impact Montréal de Thierry Henry s'est incliné contre ces mêmes Whitecaps et toujours sur leur pelouse du BC Place (1-3).\\r\\n… [+598 chars]\"})\n",
      "###############################################\n",
      "(7, {'source': {'id': 'lequipe', 'name': \"L'equipe\"}, 'author': \"L'EQUIPE\", 'title': 'Luka Doncic (Dallas) nommé dans la première équipe NBA de la saison - Basket - NBA', 'description': 'Le Slovène de Dallas, Luka Doncic, fait partie du meilleur cinq de la saison régulière aux côtés de LeBron James, Giannis Antetokounmpo, James Harden et Anthony Davis.', 'url': 'https://www.lequipe.fr/Basket/Actualites/Luka-doncic-dallas-nomme-dans-la-premiere-equipe-nba-de-la-saison/1172640', 'urlToImage': 'https://medias.lequipe.fr/img-photo-jpg/pour-sa-deuxieme-saison-luka-doncic-est-associe-a-la-creme-de-la-ligue-dans-la-meilleure-equipe-de/1500000001381540/0:0,1995:1330-640-427-25/24a40.jpg', 'publishedAt': '2020-09-17T06:45:00+00:00', 'content': 'Alors que les finales de conférence débutent cette semaine, la NBA a révélé mercredi soir les compositions des traditionnels «\\xa0cinq de la saison régulière\\xa0», en attendant la révélation du MVP, le der… [+1101 chars]'})\n",
      "###############################################\n",
      "(8, {'source': {'id': 'lequipe', 'name': \"L'equipe\"}, 'author': \"L'EQUIPE\", 'title': 'Un peu, beaucoup, à la connerie - Humeur', 'description': \"Le sport en direct sur L'Équipe. Les informations, résultats et classements de tous les sports. Directs commentés, images et vidéos à regarder et à partager !\", 'url': 'https://www.lequipe.fr/Football/Actualites/Un-peu-beaucoup-a-la-connerie/1172086', 'urlToImage': 'https://medias.lequipe.fr/img-photo-jpg/-/1500000001380815/0:0,1499:999-640-427-25/aef40.jpg', 'publishedAt': '2020-09-17T05:55:00+00:00', 'content': \"Etonnant mécanisme intellectuel qui fait que des gens passent du temps à élaborer des banderoles dénotant d'un gros problème avec la sexualité en générale et avec celle qui se pratique par la poupe e… [+2084 chars]\"})\n",
      "###############################################\n",
      "(9, {'source': {'id': 'lequipe', 'name': \"L'equipe\"}, 'author': \"L'EQUIPE\", 'title': 'PSG\\xa0:\\xa0Thomas Tuchel «\\xa0très surpris\\xa0» par les décisions de la commission de discipline de la LFP - Foot - L1...', 'description': \"Après la victoire contre Metz ce mercredi soir (1-0), l'entraîneur parisien a - un peu - commenté les décisions de la Ligue, qui a notamment infligé deux matches de suspension ferme (plus un avec sursis) à Leandro Paredes et convoqué Angel Di Maria la semaine…\", 'url': 'https://www.lequipe.fr/Football/Actualites/Psg-thomas-tuchel-tres-surpris-par-les-decisions-de-la-commission-de-discipline-de-la-lfp/1172636', 'urlToImage': 'https://medias.lequipe.fr/img-video-cover/1500000001381534/640/0', 'publishedAt': '2020-09-16T22:20:00+00:00', 'content': \"S'il a soigneusement évité de répondre à la question de Téléfoot dans la foulée du coup de sifflet final face à Metz ce mercredi soir (1-0), Thomas Tuchel a de nouveau été interrogé sur les décisions… [+368 chars]\"})\n"
     ]
    }
   ],
   "source": [
    "# And now we have lists in dictionaries it's json but it's always the same thing\n",
    "# We will discover the information of the article key\n",
    "for elem in enumerate(dic['articles']):\n",
    "    print('###############################################')\n",
    "    print(elem)"
   ]
  },
  {
   "cell_type": "code",
   "execution_count": 9,
   "metadata": {
    "scrolled": true
   },
   "outputs": [
    {
     "name": "stdout",
     "output_type": "stream",
     "text": [
      " Key :  source Values :  {'id': 'lequipe', 'name': \"L'equipe\"}\n",
      " Key :  author Values :  L'EQUIPE\n",
      " Key :  title Values :  Transferts : Patrice Carteron nommé entraîneur d'Al Taawoun (Arabie Saoudite) - Foot - Transferts\n",
      " Key :  description Values :  L'entraîneur français Patrice Carteron, qui avait quitté le Zamalek (Égypte) mardi pour « raisons personnelles », s'est engagé jeudi avec le club saoudien d'Al Taawoun.\n",
      " Key :  url Values :  https://www.lequipe.fr/Football/Actualites/Transferts-patrice-carteron-nomme-entraineur-d-al-taawoun-arabie-saoudite/1172656\n",
      " Key :  urlToImage Values :  https://medias.lequipe.fr/img-photo-jpg/patrice-a-rapidement-retrouve-un-club-amr-abdallah-dalsh-reuters/1500000001381567/0:0,1492:994-640-427-25/90982.jpg\n",
      " Key :  publishedAt Values :  2020-09-17T08:38:00+00:00\n",
      " Key :  content Values :  Patrice Carteron, vainqueur de la Ligue des champions d'Afrique 2015 avec le Tout Puissant Mazembe (RDC), maîtrise l'art du rebond. L'entraîneur français, qui venait de quitter le Zamalek (Égypte) ma… [+161 chars]\n"
     ]
    }
   ],
   "source": [
    "# So if we keep going, it gives us another dictionary!\n",
    "for elem in dic['articles'][0].keys():\n",
    "    print(' Key : ',elem,'Values : ',dic['articles'][0][elem])"
   ]
  },
  {
   "cell_type": "markdown",
   "metadata": {},
   "source": [
    "### Make a script that allows you to take details of the last ten news from the team or another site. Store them in a nice csv or excel file"
   ]
  },
  {
   "cell_type": "code",
   "execution_count": 27,
   "metadata": {},
   "outputs": [],
   "source": [
    "emre_list_of_dicts = dic['articles'][-10:]\n",
    "details = []\n",
    "title = []\n",
    "for dicts in emre_list_of_dicts:\n",
    "    title.append(dicts['title'])\n",
    "    details.append(dicts['content'])"
   ]
  },
  {
   "cell_type": "code",
   "execution_count": 28,
   "metadata": {},
   "outputs": [],
   "source": [
    "import pandas as pd \n",
    "\n",
    "df = pd.DataFrame({'title':title, 'content':details})\n",
    "df.to_csv('../../04.File-handling/data/news.csv')"
   ]
  }
 ],
 "metadata": {
  "kernelspec": {
   "display_name": "Python 3",
   "language": "python",
   "name": "python3"
  },
  "language_info": {
   "codemirror_mode": {
    "name": "ipython",
    "version": 3
   },
   "file_extension": ".py",
   "mimetype": "text/x-python",
   "name": "python",
   "nbconvert_exporter": "python",
   "pygments_lexer": "ipython3",
   "version": "3.7.3"
  }
 },
 "nbformat": 4,
 "nbformat_minor": 2
}
