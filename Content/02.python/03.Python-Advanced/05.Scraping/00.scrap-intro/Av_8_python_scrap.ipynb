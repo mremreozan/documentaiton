{
 "cells": [
  {
   "cell_type": "markdown",
   "metadata": {},
   "source": [
    "### Targeted information retrieval"
   ]
  },
  {
   "cell_type": "markdown",
   "metadata": {},
   "source": [
    "We have seen how to parse a page, retrieve without distinction the information of a web page\n",
    "\n",
    "But, in general, the purpose of scrapping is to automate the collection of targeted information on the web\n"
   ]
  },
  {
   "cell_type": "code",
   "execution_count": 2,
   "metadata": {},
   "outputs": [],
   "source": [
    "from bs4 import BeautifulSoup\n",
    "import requests\n"
   ]
  },
  {
   "cell_type": "markdown",
   "metadata": {},
   "source": [
    "Let's say I want to scrape the description of the latest movies released in theaters\n",
    "\n",
    "So I go to the allo ciné site and try to find the tags that will give me links to the specific pages of these films to get their summaries."
   ]
  },
  {
   "cell_type": "markdown",
   "metadata": {},
   "source": [
    "#### Recovery of the url of the pages of films freshly released in the cinema"
   ]
  },
  {
   "cell_type": "code",
   "execution_count": 4,
   "metadata": {},
   "outputs": [
    {
     "name": "stdout",
     "output_type": "stream",
     "text": [
      "http://www.allocine.fr/ 200\n",
      "<!DOCTYPE html>\n",
      "<html lang=\"fr\">\n",
      "<head>\n",
      "<meta content=\"IE=edge,chrome=1\" http-equiv=\"X-UA-Compatible\"/>\n",
      "<meta charset=\"utf-8\"/>\n",
      "<meta content=\"width=device-width, initial-scale=1.0, maximum-scale=1.0, minimum-scale=1.0, user-scalable=no\" name=\"viewport\"/>\n",
      "<meta content=\"index,follow,max-snippet:-1\" name=\"robots\"/>\n",
      "<title>AlloCiné : Cinéma, Séries TV, BO de films et séries, Vidéos, DVD et VOD</title>\n",
      "<meta content=\"\" name=\"keywords\"/>\n",
      "<meta content=\"noarchive\" name=\"Googlebot\"/>\n"
     ]
    }
   ],
   "source": [
    "url='http://www.allocine.fr/'\n",
    "r = requests.get(url)\n",
    "print(url, r.status_code)\n",
    "soup = BeautifulSoup(r.content,'lxml')\n",
    "soup_list = str(soup).split('\\n')\n",
    "for i in soup_list[:10]:\n",
    "    print(i)"
   ]
  },
  {
   "cell_type": "markdown",
   "metadata": {},
   "source": [
    "On my web browser (Chrome, mozilla...) I use the \"inspect\" function (right click / inspect) and I drag my mouse to the areas of the page that interest me. At the same time I will see the html script move to the instructions of the html script in question. \n",
    "\n",
    "That's how I do it to find the tags I'm interested in."
   ]
  },
  {
   "cell_type": "markdown",
   "metadata": {},
   "source": [
    "I notice that the relative link of the web page specific to the new movie on the poster is stored in these tags:\n",
    "\n",
    "a class=\"meta-title meta-title-link\" href=\"/film/fichefilm_gen_cfilm=235582.html\" title=\"Le Grand Bain\">Le Grand Bain</a\n"
   ]
  },
  {
   "cell_type": "code",
   "execution_count": 7,
   "metadata": {
    "scrolled": true
   },
   "outputs": [
    {
     "name": "stdout",
     "output_type": "stream",
     "text": [
      "Top Gun 2: Maverick\n",
      "The Last Duel\n",
      "Prodigal Son\n",
      "Modern Family\n",
      "\n",
      "            Cinéma\n",
      "        \n",
      "\n",
      "            Séries\n",
      "        \n",
      "\n",
      "            Trailers\n",
      "        \n"
     ]
    }
   ],
   "source": [
    "for p in soup.find_all('a')[:7]:\n",
    "    print (p.text)"
   ]
  },
  {
   "cell_type": "markdown",
   "metadata": {},
   "source": [
    "This time the site is more difficult to \"extract\", let's use additional parameters to this search function, find_all, much more specific than the one currently used"
   ]
  },
  {
   "cell_type": "code",
   "execution_count": 8,
   "metadata": {},
   "outputs": [
    {
     "name": "stdout",
     "output_type": "stream",
     "text": [
      "<a class=\"meta-title meta-title-link\" href=\"/film/fichefilm_gen_cfilm=272217.html\" title=\"Antoinette dans les Cévennes\">Antoinette dans les Cévennes</a>\n",
      "<a class=\"meta-title meta-title-link\" href=\"/film/fichefilm_gen_cfilm=274282.html\" title=\"J’irai mourir dans les Carpates\">J’irai mourir dans les Carpates</a>\n",
      "<a class=\"meta-title meta-title-link\" href=\"/film/fichefilm_gen_cfilm=278943.html\" title=\"Les Choses qu’on dit, les choses qu’on fait\">Les Choses qu’on dit, les choses qu’on fait</a>\n",
      "<a class=\"meta-title meta-title-link\" href=\"/film/fichefilm_gen_cfilm=281582.html\" title=\"Une nuit au Louvre: Léonard de Vinci\">Une nuit au Louvre: Léonard de Vinci</a>\n",
      "<a class=\"meta-title meta-title-link\" href=\"/film/fichefilm_gen_cfilm=283952.html\" title=\"Les Mal-aimés\">Les Mal-aimés</a>\n",
      "<a class=\"meta-title meta-title-link\" href=\"/film/fichefilm_gen_cfilm=270321.html\" title=\"Honeyland\">Honeyland</a>\n",
      "<a class=\"meta-title meta-title-link\" href=\"/film/fichefilm_gen_cfilm=281998.html\" title=\"Africa Mia\">Africa Mia</a>\n",
      "<a class=\"meta-title meta-title-link\" href=\"/film/fichefilm_gen_cfilm=277759.html\" title=\"Trio\">Trio</a>\n",
      "<a class=\"meta-title meta-title-link\" href=\"/film/fichefilm_gen_cfilm=279600.html\" title=\"La Maquisarde\">La Maquisarde</a>\n",
      "<a class=\"meta-title meta-title-link\" href=\"/film/fichefilm_gen_cfilm=285874.html\" title=\"Mathilde et Rosette\">Mathilde et Rosette</a>\n",
      "<a class=\"meta-title meta-title-link\" href=\"/film/fichefilm_gen_cfilm=251315.html\" title=\"Tenet\">Tenet</a>\n",
      "<a class=\"meta-title meta-title-link\" href=\"/film/fichefilm_gen_cfilm=275608.html\" title=\"Effacer l’historique\">Effacer l’historique</a>\n",
      "<a class=\"meta-title meta-title-link\" href=\"/film/fichefilm_gen_cfilm=269704.html\" title=\"Petit Pays\">Petit Pays</a>\n",
      "<a class=\"meta-title meta-title-link\" href=\"/film/fichefilm_gen_cfilm=267302.html\" title=\"Police\">Police</a>\n",
      "<a class=\"meta-title meta-title-link\" href=\"/film/fichefilm_gen_cfilm=268644.html\" title=\"La Daronne\">La Daronne</a>\n",
      "<a class=\"meta-title meta-title-link\" href=\"/film/fichefilm_gen_cfilm=271602.html\" title=\"Le Bonheur des uns...\">Le Bonheur des uns...</a>\n",
      "<a class=\"meta-title meta-title-link\" href=\"/film/fichefilm_gen_cfilm=237864.html\" title=\"Les Nouveaux mutants\">Les Nouveaux mutants</a>\n",
      "<a class=\"meta-title meta-title-link\" href=\"/film/fichefilm_gen_cfilm=258205.html\" title=\"Enorme\">Enorme</a>\n",
      "<a class=\"meta-title meta-title-link\" href=\"/series/ficheserie_gen_cserie=26001.html\" title=\"Grand Hôtel (2020)\">Grand Hôtel (2020)</a>\n",
      "<a class=\"meta-title meta-title-link\" href=\"/series/ficheserie_gen_cserie=24218.html\" title=\"Family Business\">Family Business</a>\n",
      "<a class=\"meta-title meta-title-link\" href=\"/series/ficheserie_gen_cserie=25147.html\" title=\"La Révolution\">La Révolution</a>\n",
      "<a class=\"meta-title meta-title-link\" href=\"/series/ficheserie_gen_cserie=25236.html\" title=\"No Man's Land\">No Man's Land</a>\n",
      "<a class=\"meta-title meta-title-link\" href=\"/series/ficheserie_gen_cserie=25046.html\" title=\"The Walking Dead: World Beyond\">The Walking Dead: World Beyond</a>\n",
      "<a class=\"meta-title meta-title-link\" href=\"/series/ficheserie_gen_cserie=25304.html\" title=\"The Haunting of Bly Manor\">The Haunting of Bly Manor</a>\n"
     ]
    }
   ],
   "source": [
    "# In addition to the tag a, well identified, we notice some additional \n",
    "# information such as the value of the class variable of these identical tags\n",
    "for elem in soup.find_all('a',attrs={\"class\" :\"meta-title meta-title-link\"}):\n",
    "    print(elem)"
   ]
  },
  {
   "cell_type": "markdown",
   "metadata": {},
   "source": [
    "#### Recovery of href"
   ]
  },
  {
   "cell_type": "markdown",
   "metadata": {},
   "source": [
    "We have noticed the presence of href links to the pages that interest us. Let's go get them back:"
   ]
  },
  {
   "cell_type": "code",
   "execution_count": 9,
   "metadata": {},
   "outputs": [
    {
     "name": "stdout",
     "output_type": "stream",
     "text": [
      "/film/fichefilm_gen_cfilm=272217.html\n",
      "/film/fichefilm_gen_cfilm=274282.html\n",
      "/film/fichefilm_gen_cfilm=278943.html\n",
      "/film/fichefilm_gen_cfilm=281582.html\n",
      "/film/fichefilm_gen_cfilm=283952.html\n",
      "/film/fichefilm_gen_cfilm=270321.html\n",
      "/film/fichefilm_gen_cfilm=281998.html\n",
      "/film/fichefilm_gen_cfilm=277759.html\n",
      "/film/fichefilm_gen_cfilm=279600.html\n",
      "/film/fichefilm_gen_cfilm=285874.html\n",
      "/film/fichefilm_gen_cfilm=251315.html\n",
      "/film/fichefilm_gen_cfilm=275608.html\n",
      "/film/fichefilm_gen_cfilm=269704.html\n",
      "/film/fichefilm_gen_cfilm=267302.html\n",
      "/film/fichefilm_gen_cfilm=268644.html\n",
      "/film/fichefilm_gen_cfilm=271602.html\n",
      "/film/fichefilm_gen_cfilm=237864.html\n",
      "/film/fichefilm_gen_cfilm=258205.html\n",
      "/series/ficheserie_gen_cserie=26001.html\n",
      "/series/ficheserie_gen_cserie=24218.html\n",
      "/series/ficheserie_gen_cserie=25147.html\n",
      "/series/ficheserie_gen_cserie=25236.html\n",
      "/series/ficheserie_gen_cserie=25046.html\n",
      "/series/ficheserie_gen_cserie=25304.html\n"
     ]
    }
   ],
   "source": [
    "for elem in soup.find_all('a',attrs={\"class\" :\"meta-title meta-title-link\"}):\n",
    "    print(elem.get('href'))\n",
    "    # return a list"
   ]
  },
  {
   "cell_type": "markdown",
   "metadata": {},
   "source": [
    "Can you retrieve the titles for me via the search for \"title\" in the items of the previous list?"
   ]
  },
  {
   "cell_type": "code",
   "execution_count": 10,
   "metadata": {},
   "outputs": [
    {
     "name": "stdout",
     "output_type": "stream",
     "text": [
      "Antoinette dans les Cévennes\n",
      "J’irai mourir dans les Carpates\n",
      "Les Choses qu’on dit, les choses qu’on fait\n",
      "Une nuit au Louvre: Léonard de Vinci\n",
      "Les Mal-aimés\n",
      "Honeyland\n",
      "Africa Mia\n",
      "Trio\n",
      "La Maquisarde\n",
      "Mathilde et Rosette\n",
      "Tenet\n",
      "Effacer l’historique\n",
      "Petit Pays\n",
      "Police\n",
      "La Daronne\n",
      "Le Bonheur des uns...\n",
      "Les Nouveaux mutants\n",
      "Enorme\n",
      "Grand Hôtel (2020)\n",
      "Family Business\n",
      "La Révolution\n",
      "No Man's Land\n",
      "The Walking Dead: World Beyond\n",
      "The Haunting of Bly Manor\n"
     ]
    }
   ],
   "source": [
    "for elem in soup.find_all('a', attrs={\"class\":\"meta-title meta-title-link\"}):\n",
    "    print(elem.get('title'))"
   ]
  },
  {
   "cell_type": "markdown",
   "metadata": {},
   "source": [
    "#### Get summary"
   ]
  },
  {
   "cell_type": "markdown",
   "metadata": {},
   "source": [
    "Let's start by building the url that we will use to retrieve the summaries\n",
    "\n",
    "Start by putting the href values in a list of links\n"
   ]
  },
  {
   "cell_type": "code",
   "execution_count": 11,
   "metadata": {},
   "outputs": [
    {
     "data": {
      "text/plain": [
       "['/film/fichefilm_gen_cfilm=272217.html',\n",
       " '/film/fichefilm_gen_cfilm=274282.html',\n",
       " '/film/fichefilm_gen_cfilm=278943.html',\n",
       " '/film/fichefilm_gen_cfilm=281582.html',\n",
       " '/film/fichefilm_gen_cfilm=283952.html',\n",
       " '/film/fichefilm_gen_cfilm=270321.html',\n",
       " '/film/fichefilm_gen_cfilm=281998.html',\n",
       " '/film/fichefilm_gen_cfilm=277759.html',\n",
       " '/film/fichefilm_gen_cfilm=279600.html',\n",
       " '/film/fichefilm_gen_cfilm=285874.html',\n",
       " '/film/fichefilm_gen_cfilm=251315.html',\n",
       " '/film/fichefilm_gen_cfilm=275608.html',\n",
       " '/film/fichefilm_gen_cfilm=269704.html',\n",
       " '/film/fichefilm_gen_cfilm=267302.html',\n",
       " '/film/fichefilm_gen_cfilm=268644.html',\n",
       " '/film/fichefilm_gen_cfilm=271602.html',\n",
       " '/film/fichefilm_gen_cfilm=237864.html',\n",
       " '/film/fichefilm_gen_cfilm=258205.html',\n",
       " '/series/ficheserie_gen_cserie=26001.html',\n",
       " '/series/ficheserie_gen_cserie=24218.html',\n",
       " '/series/ficheserie_gen_cserie=25147.html',\n",
       " '/series/ficheserie_gen_cserie=25236.html',\n",
       " '/series/ficheserie_gen_cserie=25046.html',\n",
       " '/series/ficheserie_gen_cserie=25304.html']"
      ]
     },
     "execution_count": 11,
     "metadata": {},
     "output_type": "execute_result"
    }
   ],
   "source": [
    "links=[]\n",
    "for elem in soup.find_all('a',attrs={\"class\" :\"meta-title meta-title-link\"}):\n",
    "    # Tout simplement\n",
    "    links.append(elem.get('href'))\n",
    "    # Je range tout cela dans une liste \n",
    "links"
   ]
  },
  {
   "cell_type": "markdown",
   "metadata": {},
   "source": [
    "The absolute url of the searched film pages is built in this form: http://www.allocine.fr/film/fichefilm_gen_cfilm=243835.html\n",
    "\n",
    "It is therefore necessary to repeat the previous list and build the absolute urls for our search\n",
    "\n",
    "It's up to you to play\n",
    "\n",
    "nb: Do not take the links for the series"
   ]
  },
  {
   "cell_type": "code",
   "execution_count": 12,
   "metadata": {
    "scrolled": true
   },
   "outputs": [
    {
     "data": {
      "text/plain": [
       "['http://www.allocine.fr/film/fichefilm_gen_cfilm=272217.html',\n",
       " 'http://www.allocine.fr/film/fichefilm_gen_cfilm=274282.html',\n",
       " 'http://www.allocine.fr/film/fichefilm_gen_cfilm=278943.html',\n",
       " 'http://www.allocine.fr/film/fichefilm_gen_cfilm=281582.html',\n",
       " 'http://www.allocine.fr/film/fichefilm_gen_cfilm=283952.html',\n",
       " 'http://www.allocine.fr/film/fichefilm_gen_cfilm=270321.html',\n",
       " 'http://www.allocine.fr/film/fichefilm_gen_cfilm=281998.html',\n",
       " 'http://www.allocine.fr/film/fichefilm_gen_cfilm=277759.html',\n",
       " 'http://www.allocine.fr/film/fichefilm_gen_cfilm=279600.html',\n",
       " 'http://www.allocine.fr/film/fichefilm_gen_cfilm=285874.html',\n",
       " 'http://www.allocine.fr/film/fichefilm_gen_cfilm=251315.html',\n",
       " 'http://www.allocine.fr/film/fichefilm_gen_cfilm=275608.html',\n",
       " 'http://www.allocine.fr/film/fichefilm_gen_cfilm=269704.html',\n",
       " 'http://www.allocine.fr/film/fichefilm_gen_cfilm=267302.html',\n",
       " 'http://www.allocine.fr/film/fichefilm_gen_cfilm=268644.html',\n",
       " 'http://www.allocine.fr/film/fichefilm_gen_cfilm=271602.html',\n",
       " 'http://www.allocine.fr/film/fichefilm_gen_cfilm=237864.html',\n",
       " 'http://www.allocine.fr/film/fichefilm_gen_cfilm=258205.html']"
      ]
     },
     "execution_count": 12,
     "metadata": {},
     "output_type": "execute_result"
    }
   ],
   "source": [
    "links_movie=['http://www.allocine.fr'+ elem for elem in links if 'film' in elem]\n",
    "links_movie"
   ]
  },
  {
   "cell_type": "markdown",
   "metadata": {},
   "source": [
    "Finally, on each page, the title and synopsis must be retrieved. Let's try for a movie, the first of the link list"
   ]
  },
  {
   "cell_type": "code",
   "execution_count": 13,
   "metadata": {
    "scrolled": false
   },
   "outputs": [
    {
     "name": "stdout",
     "output_type": "stream",
     "text": [
      "A̲n̲t̲o̲i̲n̲e̲t̲t̲e̲ ̲d̲a̲n̲s̲ ̲l̲e̲s̲ ̲C̲é̲v̲e̲n̲n̲e̲s\n",
      "Le film fait partie de la Sélection Officielle Cannes 2020Des mois qu’Antoinette attend l’été et la promesse d’une semaine en amoureux avec son amant, Vladimir. Alors quand celui-ci annule leurs vacances pour partir marcher dans les Cévennes avec sa femme et sa fille, Antoinette ne réfléchit pas longtemps : elle part sur ses traces ! Mais à son arrivée, point de Vladimir - seulement Patrick, un âne récalcitrant qui va l'accompagner dans son singulier périple…\n",
      "\n",
      "J̲’̲i̲r̲a̲i̲ ̲m̲o̲u̲r̲i̲r̲ ̲d̲a̲n̲s̲ ̲l̲e̲s̲ ̲C̲a̲r̲p̲a̲t̲e̲s\n",
      "L’histoire commence par un banal accident de voiture sur une route montagneuse des Carpates. La voiture d'Antoine de Maximy, le présentateur de la série \"J'irai dormir chez vous\" a été emportée dans une rivière et son corps n’a pas été retrouvé. Le matériel et les images du globe-squatteur sont rapatriés à Paris. Agnès, la monteuse de la série, décide de terminer ce dernier épisode. Après avoir visionné les images elle s’attaque au montage du film. Mais des détails attirent l'attention d'Agnès. Petit à petit le doute s'insinue. L’histoire n’est peut-être pas aussi simple...\n",
      "\n",
      "L̲e̲s̲ ̲C̲h̲o̲s̲e̲s̲ ̲q̲u̲’̲o̲n̲ ̲d̲i̲t̲,̲ ̲l̲e̲s̲ ̲c̲h̲o̲s̲e̲s̲ ̲q̲u̲’̲o̲n̲ ̲f̲a̲i̲t\n",
      "Le film fait partie de la Sélection Officielle de Cannes 2020Daphné, enceinte de trois mois, est en vacances à la campagne avec son compagnon François. Il doit s’absenter pour son travail et elle se retrouve seule pour accueillir Maxime, son cousin qu’elle n’avait jamais rencontré. Pendant quatre jours, tandis qu'ils attendent le retour de François, Daphné et Maxime font petit à petit connaissance et se confient des récits de plus en plus intimes sur leurs histoires d'amour présentes et passées...\n",
      "\n"
     ]
    }
   ],
   "source": [
    "for url in links_movie[:3]:\n",
    "    r = requests.get(url)\n",
    "    soup = BeautifulSoup(r.text)\n",
    "    title = soup.find_all('div', {'class':'titlebar-title titlebar-title-lg'})\n",
    "    print(\"\\u0332\".join(title[0].text))\n",
    "    synopsis = soup.find_all('div', {'class':'content-txt'})\n",
    "    print(synopsis[0].text.strip())\n",
    "    print()"
   ]
  },
  {
   "cell_type": "markdown",
   "metadata": {},
   "source": [
    "For title \n",
    "\n",
    "div class=\"titlebar-title titlebar-title-lg\">Le Grand Bain</div\n",
    "\n",
    "For the synopsis\n",
    "\n",
    "div class=\"content-txt \" itemprop=\"description\"\n",
    "    \n",
    "              C’est dans les couloirs de leur piscine municipale que Bertrand, Marcus, Simon, Laurent, Thierry et les autres s’entraînent sous l’autorité toute relative de Delphine, ancienne gloire des bassins. Ensemble, ils se sentent libres et utiles. Ils vont mettre toute leur énergie dans une discipline jusque-là propriété de la gent féminine : la natation synchronisée. Alors, oui c’est une idée plutôt bizarre, mais ce défi leur permettra de trouver un sens à leur vie...\n",
    "    \n",
    "      </div"
   ]
  },
  {
   "cell_type": "markdown",
   "metadata": {},
   "source": [
    "1) Automate this script for the entire list\n",
    "\n",
    "2) Put the information in three lists (film_links, title, synopsis)\n",
    "\n",
    "3) Create a dataframe that includes these three informations in three associated columns\n",
    "\n",
    "4) Save this dataframe in a csv file\n",
    "\n",
    "And here's your first real scrap, you're real hackers now."
   ]
  },
  {
   "cell_type": "code",
   "execution_count": 14,
   "metadata": {},
   "outputs": [
    {
     "name": "stdout",
     "output_type": "stream",
     "text": [
      "http://www.allocine.fr/film/fichefilm_gen_cfilm=272217.html 200\n",
      "http://www.allocine.fr/film/fichefilm_gen_cfilm=274282.html 200\n",
      "http://www.allocine.fr/film/fichefilm_gen_cfilm=278943.html 200\n",
      "http://www.allocine.fr/film/fichefilm_gen_cfilm=281582.html 200\n",
      "http://www.allocine.fr/film/fichefilm_gen_cfilm=283952.html 200\n",
      "http://www.allocine.fr/film/fichefilm_gen_cfilm=270321.html 200\n",
      "http://www.allocine.fr/film/fichefilm_gen_cfilm=281998.html 200\n",
      "http://www.allocine.fr/film/fichefilm_gen_cfilm=277759.html 200\n",
      "http://www.allocine.fr/film/fichefilm_gen_cfilm=279600.html 200\n",
      "http://www.allocine.fr/film/fichefilm_gen_cfilm=285874.html 200\n",
      "http://www.allocine.fr/film/fichefilm_gen_cfilm=251315.html 200\n",
      "http://www.allocine.fr/film/fichefilm_gen_cfilm=275608.html 200\n",
      "http://www.allocine.fr/film/fichefilm_gen_cfilm=269704.html 200\n",
      "http://www.allocine.fr/film/fichefilm_gen_cfilm=267302.html 200\n",
      "http://www.allocine.fr/film/fichefilm_gen_cfilm=268644.html 200\n",
      "http://www.allocine.fr/film/fichefilm_gen_cfilm=271602.html 200\n",
      "http://www.allocine.fr/film/fichefilm_gen_cfilm=237864.html 200\n",
      "http://www.allocine.fr/film/fichefilm_gen_cfilm=258205.html 200\n"
     ]
    },
    {
     "data": {
      "text/plain": [
       "(18, 18, 18)"
      ]
     },
     "execution_count": 14,
     "metadata": {},
     "output_type": "execute_result"
    }
   ],
   "source": [
    "import time\n",
    "import random\n",
    "from random import randint\n",
    "\n",
    "title=[]\n",
    "synopsis=[]\n",
    "\n",
    "for link in links_movie:\n",
    "    \n",
    "    url=link\n",
    "    # I slow down the frequency of requests to avoid being identified and therefore ban from the site\n",
    "    time.sleep(random.uniform(1.0, 2.0))\n",
    "    r = requests.get(url)\n",
    "    print(url, r.status_code)\n",
    "    soup = BeautifulSoup(r.content,'lxml')\n",
    "    \n",
    "    \n",
    "    for elem in soup.find_all('div',attrs={\"class\" :\"titlebar-title titlebar-title-lg\"}):\n",
    "        title.append(elem.text.strip())\n",
    "\n",
    "    synopsis.append((soup.find_all('div',attrs={\"class\" :\"content-txt\"}))[0].text.strip())\n",
    "\n",
    "        \n",
    "# I check the length of the lists before creating the df\n",
    "len(title),len(synopsis),len(links_movie)"
   ]
  },
  {
   "cell_type": "code",
   "execution_count": 15,
   "metadata": {},
   "outputs": [],
   "source": [
    "import pandas as pd\n",
    "df=pd.DataFrame({'Title':title})\n",
    "df['synopsis']=synopsis\n",
    "df['liens']=links_movie"
   ]
  },
  {
   "cell_type": "code",
   "execution_count": 16,
   "metadata": {},
   "outputs": [],
   "source": [
    "df.to_csv('../../04.File-handling/data/allo_cine.csv', index=False)"
   ]
  },
  {
   "cell_type": "code",
   "execution_count": null,
   "metadata": {
    "collapsed": true
   },
   "outputs": [],
   "source": []
  }
 ],
 "metadata": {
  "kernelspec": {
   "display_name": "Python 3",
   "language": "python",
   "name": "python3"
  },
  "language_info": {
   "codemirror_mode": {
    "name": "ipython",
    "version": 3
   },
   "file_extension": ".py",
   "mimetype": "text/x-python",
   "name": "python",
   "nbconvert_exporter": "python",
   "pygments_lexer": "ipython3",
   "version": "3.7.3"
  }
 },
 "nbformat": 4,
 "nbformat_minor": 2
}
