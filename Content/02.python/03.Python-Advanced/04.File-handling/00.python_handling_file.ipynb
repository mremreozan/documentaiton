{
 "cells": [
  {
   "cell_type": "markdown",
   "metadata": {},
   "source": [
    "# Read and write files"
   ]
  },
  {
   "cell_type": "markdown",
   "metadata": {},
   "source": [
    "We have made good progress and now we can get down to the serious business of manipulating data files. This is one of the very important points concerning this training. \n"
   ]
  },
  {
   "cell_type": "markdown",
   "metadata": {},
   "source": [
    "To open/edit a file in python we use the \"open()\" function.\n",
    "\n",
    "This function takes as first parameter the path of the file (relative * or absolute *) and as second parameter the type of opening\n",
    "\n",
    "*A relative path in computing is a path that takes into account the reading location.*\n",
    "\n",
    "*An absolute path is a complete path that can be read regardless of the reading location.*\n",
    "\n"
   ]
  },
  {
   "cell_type": "code",
   "execution_count": 2,
   "metadata": {},
   "outputs": [],
   "source": [
    "file = open(\"./data/data.txt\", \"r\") # r for \"read\""
   ]
  },
  {
   "cell_type": "markdown",
   "metadata": {},
   "source": [
    "* r, for a read opening (READ).\n",
    "\n",
    "* w, for a write opening (WRITE), each time the file is opened, the content of the file is overwritten. If the file does not exist, python creates it.\n",
    "\n",
    "* a, for an opening in add mode at the end of the file (APPEND). If the file does not exist, python creates it.\n",
    "\n",
    "* x, creates a new file and opens it for writing"
   ]
  },
  {
   "cell_type": "markdown",
   "metadata": {},
   "source": [
    "Like any open element, it must be closed again once the instructions have been completed. To do this, we use the close() method."
   ]
  },
  {
   "cell_type": "code",
   "execution_count": 8,
   "metadata": {
    "collapsed": true
   },
   "outputs": [],
   "source": [
    "file.close()"
   ]
  },
  {
   "cell_type": "code",
   "execution_count": 3,
   "metadata": {},
   "outputs": [
    {
     "name": "stdout",
     "output_type": "stream",
     "text": [
      "Alan Mathison Turing OBE FRS (/ˈtjʊərɪŋ/; 23 June 1912 – 7 June 1954) was an English mathematician, computer scientist, logician, cryptanalyst, philosopher and theoretical biologist.[5] Turing was highly influential in the development of theoretical computer science, providing a formalisation of the concepts of algorithm and computation with the Turing machine, which can be considered a model of a general-purpose computer.[6][7][8] Turing is widely considered to be the father of theoretical computer science and artificial intelligence.[9] Despite these accomplishments, he was never fully recognised in his home country during his lifetime, due to his homosexuality, which was then a crime in the UK.\n",
      "\n",
      "During the Second World War, Turing worked for the Government Code and Cypher School (GC&CS) at Bletchley Park, Britain's codebreaking centre that produced Ultra intelligence. For a time he led Hut 8, the section that was responsible for German naval cryptanalysis. Here, he devised a number of techniques for speeding the breaking of German ciphers, including improvements to the pre-war Polish bombe method, an electromechanical machine that could find settings for the Enigma machine.\n",
      "\n",
      "Turing played a pivotal role in cracking intercepted coded messages that enabled the Allies to defeat the Nazis in many crucial engagements, including the Battle of the Atlantic, and in so doing helped win the war.[10][11] Counterfactual history is difficult with respect to the effect Ultra intelligence had on the length of the war,[12] but at the upper end it has been estimated that this work shortened the war in Europe by more than two years and saved over 14 million lives.[10]\n",
      "\n",
      "After the war, Turing worked at the National Physical Laboratory, where he designed the Automatic Computing Engine, which was one of the first designs for a stored-program computer. In 1948, Turing joined Max Newman's Computing Machine Laboratory at the Victoria University of Manchester, where he helped develop the Manchester computers[13] and became interested in mathematical biology. He wrote a paper on the chemical basis of morphogenesis[1] and predicted oscillating chemical reactions such as the Belousov–Zhabotinsky reaction, first observed in the 1960s.\n",
      "\n",
      "Turing was prosecuted in 1952 for homosexual acts; the Labouchere Amendment had mandated that \"gross indecency\" was a criminal offence in the UK. He accepted chemical castration treatment, with DES, as an alternative to prison. Turing died in 1954, 16 days before his 42nd birthday, from cyanide poisoning. An inquest determined his death as a suicide, but it has been noted that the known evidence is also consistent with accidental poisoning.[14]\n",
      "\n",
      "In 2009, following an Internet campaign, British Prime Minister Gordon Brown made an official public apology on behalf of the British government for \"the appalling way he was treated\". Queen Elizabeth II granted Turing a posthumous pardon in 2013.[15][16][17] The Alan Turing law is now an informal term for a 2017 law in the United Kingdom that retroactively pardoned men cautioned or convicted under historical legislation that outlawed homosexual acts.[18] \n",
      "\n"
     ]
    }
   ],
   "source": [
    "# Let's find out what's going on there\n",
    "file = open(\"./data/data.txt\", \"r\")\n",
    "print (file.read())\n",
    "file.close()"
   ]
  },
  {
   "cell_type": "markdown",
   "metadata": {},
   "source": [
    "Other possibility of opening without closing"
   ]
  },
  {
   "cell_type": "code",
   "execution_count": null,
   "metadata": {
    "collapsed": true
   },
   "outputs": [],
   "source": [
    "with open(\"./data/data.txt\", \"r\") as fichier:\n",
    "    print (fichier.read())"
   ]
  },
  {
   "cell_type": "markdown",
   "metadata": {},
   "source": [
    "Can you put the contents of this file in the form of a list in which each element is a sentence ?  \n",
    "*(Use .split() for example...)*"
   ]
  },
  {
   "cell_type": "code",
   "execution_count": 4,
   "metadata": {},
   "outputs": [
    {
     "name": "stdout",
     "output_type": "stream",
     "text": [
      "['Alan', 'Mathison', 'Turing', 'OBE']\n"
     ]
    }
   ],
   "source": [
    "with open(\"./data/data.txt\", \"r\") as emre:\n",
    "    words = emre.read().split()\n",
    "    print(words[:4])"
   ]
  },
  {
   "cell_type": "markdown",
   "metadata": {},
   "source": [
    "To write in a file, just open a file (existing or not), write in it and close it, we impose \"a\" so that what is written is after the content of this file"
   ]
  },
  {
   "cell_type": "code",
   "execution_count": 9,
   "metadata": {},
   "outputs": [],
   "source": [
    "file = open(\"./data/write.txt\", \"a\")\n",
    "file.write(\"Hi everyone, I am adding a sentence !\")\n",
    "file.close()"
   ]
  },
  {
   "cell_type": "markdown",
   "metadata": {},
   "source": [
    "Can you take the content of the data.txt file from the data directory, capitalize all the words and write them in the writing file after the existing one ?\n"
   ]
  },
  {
   "cell_type": "code",
   "execution_count": 18,
   "metadata": {},
   "outputs": [],
   "source": [
    "# It's up to you to write the end \n",
    "with open(\"./data/write.txt\", \"r\") as fichier:\n",
    "    words = fichier.read().split()\n",
    "    with open(\"./data/write.txt\", \"w\") as emre:\n",
    "        for word in words:\n",
    "            word = word.capitalize()\n",
    "            emre.write(word+\" \")\n",
    "        emre.close()\n",
    "    fichier.close()"
   ]
  },
  {
   "cell_type": "markdown",
   "metadata": {},
   "source": [
    "## Management of directory paths..."
   ]
  },
  {
   "cell_type": "markdown",
   "metadata": {},
   "source": [
    "This module is a library dedicated to file and folder management needs."
   ]
  },
  {
   "cell_type": "code",
   "execution_count": 19,
   "metadata": {},
   "outputs": [],
   "source": [
    "import os"
   ]
  },
  {
   "cell_type": "markdown",
   "metadata": {},
   "source": [
    "Each file or folder is associated with a kind of address that makes it easy to find it without errors. It is not possible to identically name a file in the same folder (except if the extension is different).\n",
    "\n",
    "There are two types of paths: the absolute path from the root of your file system and the relative path from the folder being read."
   ]
  },
  {
   "cell_type": "code",
   "execution_count": 20,
   "metadata": {},
   "outputs": [],
   "source": [
    "# For python a path is a string, so there are methods to manipulate it.\n",
    "import os.path"
   ]
  },
  {
   "cell_type": "markdown",
   "metadata": {},
   "source": [
    "By looking with the help function, we can see the available methods"
   ]
  },
  {
   "cell_type": "code",
   "execution_count": 21,
   "metadata": {},
   "outputs": [
    {
     "name": "stdout",
     "output_type": "stream",
     "text": [
      "Help on module ntpath:\n",
      "\n",
      "NAME\n",
      "    ntpath - Common pathname manipulations, WindowsNT/95 version.\n",
      "\n",
      "DESCRIPTION\n",
      "    Instead of importing this module directly, import os and refer to this\n",
      "    module as os.path.\n",
      "\n",
      "FUNCTIONS\n",
      "    abspath(path)\n",
      "        Return the absolute version of a path.\n",
      "    \n",
      "    basename(p)\n",
      "        Returns the final component of a pathname\n",
      "    \n",
      "    commonpath(paths)\n",
      "        Given a sequence of path names, returns the longest common sub-path.\n",
      "    \n",
      "    commonprefix(m)\n",
      "        Given a list of pathnames, returns the longest common leading component\n",
      "    \n",
      "    dirname(p)\n",
      "        Returns the directory component of a pathname\n",
      "    \n",
      "    exists(path)\n",
      "        Test whether a path exists.  Returns False for broken symbolic links\n",
      "    \n",
      "    expanduser(path)\n",
      "        Expand ~ and ~user constructs.\n",
      "        \n",
      "        If user or $HOME is unknown, do nothing.\n",
      "    \n",
      "    expandvars(path)\n",
      "        Expand shell variables of the forms $var, ${var} and %var%.\n",
      "        \n",
      "        Unknown variables are left unchanged.\n",
      "    \n",
      "    getatime(filename)\n",
      "        Return the last access time of a file, reported by os.stat().\n",
      "    \n",
      "    getctime(filename)\n",
      "        Return the metadata change time of a file, reported by os.stat().\n",
      "    \n",
      "    getmtime(filename)\n",
      "        Return the last modification time of a file, reported by os.stat().\n",
      "    \n",
      "    getsize(filename)\n",
      "        Return the size of a file, reported by os.stat().\n",
      "    \n",
      "    isabs(s)\n",
      "        Test whether a path is absolute\n",
      "    \n",
      "    isdir = _isdir(path, /)\n",
      "        Return true if the pathname refers to an existing directory.\n",
      "    \n",
      "    isfile(path)\n",
      "        Test whether a path is a regular file\n",
      "    \n",
      "    islink(path)\n",
      "        Test whether a path is a symbolic link.\n",
      "        This will always return false for Windows prior to 6.0.\n",
      "    \n",
      "    ismount(path)\n",
      "        Test whether a path is a mount point (a drive root, the root of a\n",
      "        share, or a mounted volume)\n",
      "    \n",
      "    join(path, *paths)\n",
      "        # Join two (or more) paths.\n",
      "    \n",
      "    lexists(path)\n",
      "        Test whether a path exists.  Returns True for broken symbolic links\n",
      "    \n",
      "    normcase(s)\n",
      "        Normalize case of pathname.\n",
      "        \n",
      "        Makes all characters lowercase and all slashes into backslashes.\n",
      "    \n",
      "    normpath(path)\n",
      "        Normalize path, eliminating double slashes, etc.\n",
      "    \n",
      "    realpath = abspath(path)\n",
      "        Return the absolute version of a path.\n",
      "    \n",
      "    relpath(path, start=None)\n",
      "        Return a relative version of a path\n",
      "    \n",
      "    samefile(f1, f2)\n",
      "        Test whether two pathnames reference the same actual file\n",
      "    \n",
      "    sameopenfile(fp1, fp2)\n",
      "        Test whether two open file objects reference the same file\n",
      "    \n",
      "    samestat(s1, s2)\n",
      "        Test whether two stat buffers reference the same file\n",
      "    \n",
      "    split(p)\n",
      "        Split a pathname.\n",
      "        \n",
      "        Return tuple (head, tail) where tail is everything after the final slash.\n",
      "        Either part may be empty.\n",
      "    \n",
      "    splitdrive(p)\n",
      "        Split a pathname into drive/UNC sharepoint and relative path specifiers.\n",
      "        Returns a 2-tuple (drive_or_unc, path); either part may be empty.\n",
      "        \n",
      "        If you assign\n",
      "            result = splitdrive(p)\n",
      "        It is always true that:\n",
      "            result[0] + result[1] == p\n",
      "        \n",
      "        If the path contained a drive letter, drive_or_unc will contain everything\n",
      "        up to and including the colon.  e.g. splitdrive(\"c:/dir\") returns (\"c:\", \"/dir\")\n",
      "        \n",
      "        If the path contained a UNC path, the drive_or_unc will contain the host name\n",
      "        and share up to but not including the fourth directory separator character.\n",
      "        e.g. splitdrive(\"//host/computer/dir\") returns (\"//host/computer\", \"/dir\")\n",
      "        \n",
      "        Paths cannot contain both a drive letter and a UNC path.\n",
      "    \n",
      "    splitext(p)\n",
      "        Split the extension from a pathname.\n",
      "        \n",
      "        Extension is everything from the last dot to the end, ignoring\n",
      "        leading dots.  Returns \"(root, ext)\"; ext may be empty.\n",
      "\n",
      "DATA\n",
      "    __all__ = ['normcase', 'isabs', 'join', 'splitdrive', 'split', 'splite...\n",
      "    altsep = '/'\n",
      "    curdir = '.'\n",
      "    defpath = r'.;C:\\bin'\n",
      "    devnull = 'nul'\n",
      "    extsep = '.'\n",
      "    pardir = '..'\n",
      "    pathsep = ';'\n",
      "    sep = r'\\'\n",
      "    supports_unicode_filenames = True\n",
      "\n",
      "FILE\n",
      "    c:\\anaconda3\\lib\\ntpath.py\n",
      "\n",
      "\n"
     ]
    }
   ],
   "source": [
    "help(os.path)"
   ]
  },
  {
   "cell_type": "markdown",
   "metadata": {},
   "source": [
    "To know your current absolute path"
   ]
  },
  {
   "cell_type": "code",
   "execution_count": 22,
   "metadata": {},
   "outputs": [
    {
     "name": "stdout",
     "output_type": "stream",
     "text": [
      "C:\\Users\\dogan\\Documents\\becode\\BXL-Bouman-2.22\\Content\\02.python\\03.Python-Advanced\\04.File-handling\n"
     ]
    }
   ],
   "source": [
    "path=os.path.abspath('')\n",
    "print(path)"
   ]
  },
  {
   "cell_type": "markdown",
   "metadata": {},
   "source": [
    " The directory in which you work"
   ]
  },
  {
   "cell_type": "code",
   "execution_count": 23,
   "metadata": {},
   "outputs": [
    {
     "name": "stdout",
     "output_type": "stream",
     "text": [
      "04.File-handling\n"
     ]
    }
   ],
   "source": [
    "print(os.path.basename(path))"
   ]
  },
  {
   "cell_type": "markdown",
   "metadata": {},
   "source": [
    "Add a directory \"text\" in path"
   ]
  },
  {
   "cell_type": "code",
   "execution_count": 24,
   "metadata": {},
   "outputs": [
    {
     "name": "stdout",
     "output_type": "stream",
     "text": [
      "C:\\Users\\dogan\\Documents\\becode\\BXL-Bouman-2.22\\Content\\02.python\\03.Python-Advanced\\04.File-handling\\text\n"
     ]
    }
   ],
   "source": [
    "rep_text=os.path.join(path, \"text\")\n",
    "print(rep_text)"
   ]
  },
  {
   "cell_type": "markdown",
   "metadata": {},
   "source": [
    "It is possible to retrieve all the elements of a folder in a list using the listdir() method"
   ]
  },
  {
   "cell_type": "code",
   "execution_count": 25,
   "metadata": {},
   "outputs": [
    {
     "name": "stdout",
     "output_type": "stream",
     "text": [
      "['01.OOP', '02.Exception-handling', '03.Regex', '04.File-handling', '05.Scraping', '06.Threading', '07.Decorator', '08.Typing', '09.Good_practices', '10.Data-structure']\n"
     ]
    }
   ],
   "source": [
    "# Items are returned to a list and include folders and hidden files.\n",
    "print(os.listdir(\"../\"))"
   ]
  },
  {
   "cell_type": "markdown",
   "metadata": {},
   "source": [
    "### How to display all the elements of a folder as well as its child folders? \n",
    "\n",
    "With the function walk()\n",
    "```\n",
    "walk(top, topdown=True, onerror=None, followlinks=False)\n",
    "```\n",
    "\n",
    "\n"
   ]
  },
  {
   "cell_type": "code",
   "execution_count": null,
   "metadata": {},
   "outputs": [],
   "source": [
    "folder_path"
   ]
  },
  {
   "cell_type": "code",
   "execution_count": 47,
   "metadata": {},
   "outputs": [
    {
     "name": "stdout",
     "output_type": "stream",
     "text": [
      "01.Python_OOP_intro.ipynb\n",
      "01.Python_OOP_intro.py\n",
      "02.Encapsulation_in_python.ipynb\n",
      "02.Encapsulation_in_python.py\n",
      "03.Inheritance_in_python.ipynb\n",
      "03.Inheritance_in_python.py\n",
      "04.Static_method_in_python.ipynb\n",
      "04.Static_method_in_python.py\n",
      "05.Drill-OOP.ipynb\n",
      "05.Drill-OOP.py\n",
      "05.Drill-OOP-checkpoint.ipynb\n",
      "Exception handling in Python.ipynb\n",
      "Exception_handling_in_python.py\n",
      "Exception handling in Python-checkpoint.ipynb\n",
      "00.regex.ipynb\n",
      "00.regex.py\n",
      "00.python_handling_file.ipynb\n",
      "00.python_handling_file.py\n",
      "00.python_handling_file-checkpoint.ipynb\n",
      "allo_cine.csv\n",
      "becode.html\n",
      "comptagevelo2017.csv\n",
      "comptagevelo2017.xlsx\n",
      "data.txt\n",
      "data.xml\n",
      "discours_politicien.zip\n",
      "final.txt\n",
      "L'équipe,du sport en continu..html\n",
      "mail.txt\n",
      "VOEUX01.txt\n",
      "VOEUX05.txt\n",
      "VOEUX06.txt\n",
      "VOEUX07.txt\n",
      "VOEUX08.txt\n",
      "VOEUX09.txt\n",
      "VOEUX74.txt\n",
      "VOEUX75.txt\n",
      "VOEUX79.txt\n",
      "VOEUX83.txt\n",
      "VOEUX87.txt\n",
      "VOEUX89.txt\n",
      "VOEUX90.txt\n",
      "VOEUX94.txt\n",
      "weather_2012.csv\n",
      "weather_2017.csv\n",
      "write.txt\n",
      "0a315.jpg\n",
      "0CA20181029124202ADs201810291242024F98d8q4aBxcs.js\n",
      "0d3f9.png\n",
      "0f245.jpg\n",
      "110.png\n",
      "125278988146629\n",
      "140(1).jpg\n",
      "140(10).jpg\n",
      "140(11).jpg\n",
      "140(2).jpg\n",
      "140(3).jpg\n",
      "140(4).jpg\n",
      "140(5).jpg\n",
      "140(6).jpg\n",
      "140(7).jpg\n",
      "140(8).jpg\n",
      "140(9).jpg\n",
      "140.jpg\n",
      "1ce06.jpg\n",
      "1x1.a\n",
      "201b8.jpg\n",
      "20d4b.jpg\n",
      "226ee.jpg\n",
      "2402-245398-48616-4(1).gif\n",
      "2402-245398-48616-4.gif\n",
      "275(1).jpg\n",
      "275(2).jpg\n",
      "275(3).jpg\n",
      "275(4).jpg\n",
      "275(5).jpg\n",
      "275.jpg\n",
      "30b06.jpg\n",
      "3b4c8.jpg\n",
      "3c6f0.jpg\n",
      "44ddc.jpg\n",
      "49d3b.jpg\n",
      "4f412.jpg\n",
      "6636b.jpg\n",
      "67b5b.jpg\n",
      "6f4bb.jpg\n",
      "6uQTKQJz(1).html\n",
      "6uQTKQJz.html\n",
      "800(1).jpg\n",
      "800.jpg\n",
      "ads-cch-20181026165210.js\n",
      "f(10).txt\n",
      "f(2).txt\n",
      "f(3).txt\n",
      "f(4).txt\n",
      "f(5).txt\n",
      "f(6).txt\n",
      "f(7).txt\n",
      "f(8).txt\n",
      "f(9).txt\n",
      "f.txt\n",
      "f21a9.jpg\n",
      "f3de7.jpg\n",
      "fb0a7.jpg\n",
      "fbevents.js\n",
      "gather_id\n",
      "gather_id(1)\n",
      "gen_204(1).gif\n",
      "gen_204.gif\n",
      "get\n",
      "get(1)\n",
      "get(2)\n",
      "getids\n",
      "gpt.js\n",
      "guid.html\n",
      "html_inpage_rendering_lib_200_243.js\n",
      "hudactive.html\n",
      "styles.css\n",
      "SVG-EFR(1).svg\n",
      "SVG-EFR.svg\n",
      "tag.min.js\n",
      "V6zvOIoD.js\n",
      "wamfactory_dpm.lequipe.min.js\n",
      "widget.css\n",
      "widget.js\n",
      "widgetGlobalEvent\n",
      "widgetGlobalEvent(1)\n",
      "widgetGlobalEvent(2)\n",
      "wonderpush-loader.min.js\n",
      "wonderpush.min.html\n",
      "wonderpush.min.js\n",
      "Av_7_python_Scrap_intro.ipynb\n",
      "Av_8_python_scrap.ipynb\n",
      "Av_9_python_scrap_selenium_et_API.ipynb\n",
      "00.threading-in-python.ipynb\n",
      "01.drill.ipynb\n",
      "first_thread.txt\n",
      "synch_thread.txt\n",
      "data_part_1.txt\n",
      "data_part_10.txt\n",
      "data_part_2.txt\n",
      "data_part_3.txt\n",
      "data_part_4.txt\n",
      "data_part_5.txt\n",
      "data_part_6.txt\n",
      "data_part_7.txt\n",
      "data_part_8.txt\n",
      "data_part_9.txt\n",
      "00.decorators.ipynb\n",
      "01.Drill.ipynb\n",
      "00.Typing.ipynb\n",
      "01.drill.ipynb\n",
      "Capture.PNG\n",
      "good_practices.ipynb\n",
      "test.py\n",
      "data_structure.ipynb\n"
     ]
    }
   ],
   "source": [
    "import os\n",
    "path=os.path.abspath('../')\n",
    "folder_path = path\n",
    "\n",
    "for path, dirs, files in os.walk(folder_path):\n",
    "    for filename in files:\n",
    "        print(filename)"
   ]
  },
  {
   "cell_type": "markdown",
   "metadata": {},
   "source": [
    "Put all the files in the text directory in a variable (check that they are only.txt files).\n",
    "\n",
    "And copy the content of this variable into a file in the text directory that you will name: final.txt\n"
   ]
  },
  {
   "cell_type": "code",
   "execution_count": 51,
   "metadata": {},
   "outputs": [],
   "source": [
    "import os\n",
    "path=os.path.abspath('data')\n",
    "folder_path = path\n",
    "\n",
    "with open(\"data/final.txt\", \"w\") as final:\n",
    "    for path, dirs, files in os.walk(folder_path):\n",
    "        for filename in files:\n",
    "            if \".txt\" in filename:\n",
    "                final.write(filename)\n",
    "    final.close()"
   ]
  },
  {
   "cell_type": "markdown",
   "metadata": {},
   "source": [
    "And then, can you open all the files in your data directory and save all their contents in a variable, using a loop?"
   ]
  },
  {
   "cell_type": "code",
   "execution_count": 77,
   "metadata": {},
   "outputs": [],
   "source": [
    "import os\n",
    "path=os.path.abspath('data')\n",
    "folder_path = path\n",
    "\n",
    "emre = []\n",
    "for path, dirs, files in os.walk(folder_path):\n",
    "    for filename in files:\n",
    "        with open(path+\"/\"+filename, 'r') as contents_files:\n",
    "            if \".txt\" in filename:\n",
    "                emre.append(contents_files.read())\n",
    "contents_files.close()"
   ]
  },
  {
   "cell_type": "markdown",
   "metadata": {},
   "source": [
    "Finally, save this concatenated information (assemblies) in a new file "
   ]
  },
  {
   "cell_type": "code",
   "execution_count": 79,
   "metadata": {},
   "outputs": [],
   "source": [
    "with open('data/all_text.txt', 'w') as alltext:\n",
    "    string = \"\\n\".join(emre)\n",
    "    alltext.write(string)\n",
    "    alltext.close()"
   ]
  },
  {
   "cell_type": "code",
   "execution_count": null,
   "metadata": {},
   "outputs": [],
   "source": []
  }
 ],
 "metadata": {
  "kernelspec": {
   "display_name": "Python 3",
   "language": "python",
   "name": "python3"
  },
  "language_info": {
   "codemirror_mode": {
    "name": "ipython",
    "version": 3
   },
   "file_extension": ".py",
   "mimetype": "text/x-python",
   "name": "python",
   "nbconvert_exporter": "python",
   "pygments_lexer": "ipython3",
   "version": "3.7.3"
  }
 },
 "nbformat": 4,
 "nbformat_minor": 2
}
