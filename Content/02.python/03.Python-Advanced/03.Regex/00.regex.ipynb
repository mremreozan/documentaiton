{
 "cells": [
  {
   "cell_type": "markdown",
   "metadata": {
    "colab_type": "text",
    "id": "Y2WIldGAzeGi"
   },
   "source": [
    "# Regular expressions (regex) : love or hate?"
   ]
  },
  {
   "cell_type": "markdown",
   "metadata": {},
   "source": [
    "![commit strip](http://www.commitstrip.com/wp-content/uploads/2014/02/Strips-Le-dernier-des-vrais-codeurs-650-finalenglsih.jpg)"
   ]
  },
  {
   "cell_type": "markdown",
   "metadata": {
    "colab_type": "text",
    "id": "ncgjdsP6zeGk"
   },
   "source": [
    "Regular expressions are used in almost all languages. It is a very powerful tool to check if the content of a variable has the shape of what you expect. \n",
    "\n",
    "For example, if you retrieve a phone number, you expect the variable to be composed of numbers and spaces (or dashes) but nothing more. \n",
    "\n",
    "Regular expressions not only warn you of an unwanted character but also delete/modify all those that are not desirable.\n"
   ]
  },
  {
   "cell_type": "markdown",
   "metadata": {
    "colab_type": "text",
    "id": "J9tTw4kpzeGm"
   },
   "source": [
    "**There are two ways to use regexes:**\n",
    "* The first consists in calling the function with the pattern as the first parameter, and the string to be analyzed as the second parameter.\n",
    "* The second way is to compile the regex, and then use the methods of the created object to analyze a string passed as an argument. This method speeds up processing when a regex is used several times.  "
   ]
  },
  {
   "cell_type": "code",
   "execution_count": 1,
   "metadata": {
    "colab": {},
    "colab_type": "code",
    "id": "uW-ELEWSzeGn"
   },
   "outputs": [],
   "source": [
    "import re "
   ]
  },
  {
   "cell_type": "code",
   "execution_count": 2,
   "metadata": {
    "colab": {
     "base_uri": "https://localhost:8080/",
     "height": 202
    },
    "colab_type": "code",
    "executionInfo": {
     "elapsed": 1164,
     "status": "error",
     "timestamp": 1544433890947,
     "user": {
      "displayName": "jeanmichel matz",
      "photoUrl": "",
      "userId": "07185903058039212847"
     },
     "user_tz": -60
    },
    "id": "UZH4lcDtzeGr",
    "outputId": "56f57bbf-62d5-43a6-9a8c-e625eb5f51e1"
   },
   "outputs": [
    {
     "name": "stdout",
     "output_type": "stream",
     "text": [
      "<re.Match object; span=(1, 2), match=' '>\n"
     ]
    }
   ],
   "source": [
    "pattern='[ ]'\n",
    "string ='I am fine ! There are still 6 months left :()'\n",
    "\n",
    "#Search the pattern in the past string and return a MatchObject if matches are found,\n",
    "#otherwise return None.\n",
    "print(re.search(pattern, string)) "
   ]
  },
  {
   "cell_type": "code",
   "execution_count": 3,
   "metadata": {
    "colab": {},
    "colab_type": "code",
    "id": "8CHrRMMnzeGx",
    "outputId": "7985c200-12be-4488-f07d-e67cd582be82"
   },
   "outputs": [
    {
     "name": "stdout",
     "output_type": "stream",
     "text": [
      "['I', 'am', 'fine', '!', 'There', 'are', 'still', '6', 'months', 'left', ':()']\n"
     ]
    }
   ],
   "source": [
    "pattern='[ ]'\n",
    "string ='I am fine ! There are still 6 months left :()'\n",
    "\n",
    "#Cut the string according to the occurrence of the pattern.\n",
    "print(re.split(pattern, string))"
   ]
  },
  {
   "cell_type": "markdown",
   "metadata": {
    "colab_type": "text",
    "id": "00ZYg2cezeG2"
   },
   "source": [
    "### A little syntax\n",
    "\n",
    "    [xy]  A possible segment list. Example[abc] equals: a, b or c\n",
    "\n",
    "    (x|y) Indicates a multiple choice type (ps|ump) equals \"ps\" OR \"UMP\" \n",
    "\n",
    "    \\d    the segment is composed only of numbers, which is equivalent to[0-9].\n",
    "\n",
    "    \\D    the segment is not composed of numbers, which is equivalent to[^0-9].\n",
    "\n",
    "    \\s    A space, which is equivalent to [ \\t\\n\\r\\r\\f\\v].\n",
    "\n",
    "    \\S    No space, which is equivalent to[^ ^ \\t\\n\\r\\f\\v].\n",
    "\n",
    "    \\w    Alphanumeric presence, which is equivalent to[a-zA-Z0-9_].\n",
    "\n",
    "    \\W    No alphanumeric presence[^a-zA-Z0-9_].\n",
    "\n",
    "    \\     Is an escape character"
   ]
  },
  {
   "cell_type": "markdown",
   "metadata": {
    "colab_type": "text",
    "id": "kyiLpajFzeG3"
   },
   "source": [
    "Let's try it \n",
    "\n",
    "If the answer is not None, it means the match matches. GREY is indeed a name beginning GR followed by a character and ending with Y"
   ]
  },
  {
   "cell_type": "code",
   "execution_count": 3,
   "metadata": {
    "colab": {},
    "colab_type": "code",
    "id": "d-vUiHQJzeG4",
    "outputId": "79709efc-6003-46a4-9c5e-80f9b60d7b65"
   },
   "outputs": [
    {
     "name": "stdout",
     "output_type": "stream",
     "text": [
      "<re.Match object; span=(0, 4), match='GREY'>\n"
     ]
    }
   ],
   "source": [
    "\n",
    "print(re.match(\"GR(.)?Y\", \"GREY\")) \n",
    "# (.)? means that we expect 0 or 1 character"
   ]
  },
  {
   "cell_type": "code",
   "execution_count": 4,
   "metadata": {
    "colab": {},
    "colab_type": "code",
    "id": "K8cC1TGhzeG7",
    "outputId": "3fdb669d-7e94-4b73-c292-1e5c98cedf9e"
   },
   "outputs": [
    {
     "name": "stdout",
     "output_type": "stream",
     "text": [
      "<re.Match object; span=(0, 4), match='GREY'>\n",
      "<re.Match object; span=(0, 4), match='GREY'>\n"
     ]
    }
   ],
   "source": [
    "pattern=\"GR(.)?Y\"\n",
    "string=\"GREY\"\n",
    "\n",
    "result = re.match(pattern, string)\n",
    "print(result)\n",
    "\n",
    "# It is equals to\n",
    "prog = re.compile(pattern)\n",
    "result = prog.match(string)\n",
    "print(result)"
   ]
  },
  {
   "cell_type": "code",
   "execution_count": 5,
   "metadata": {
    "colab": {},
    "colab_type": "code",
    "id": "_yNpUAH-zeG_",
    "outputId": "2c8fd1ff-90a9-4cac-f599-2f6f11bcb536"
   },
   "outputs": [
    {
     "name": "stdout",
     "output_type": "stream",
     "text": [
      "GREY 'S <re.Match object; span=(0, 4), match='GREY'>\n",
      "GRAY <re.Match object; span=(0, 4), match='GRAY'>\n",
      "GREYISH <re.Match object; span=(0, 4), match='GREY'>\n",
      "A GREY None\n"
     ]
    }
   ],
   "source": [
    "#  So in a loop the second syntax is nice\n",
    "pattern=\"GR(.)?Y\"\n",
    "prog = re.compile(pattern)\n",
    "l=[\"GREY 'S\",\"GRAY\",\"GREYISH\",\"A GREY\"]\n",
    "for elem in l:\n",
    "    result = prog.match(elem)\n",
    "    print(elem,result)\n"
   ]
  },
  {
   "cell_type": "markdown",
   "metadata": {},
   "source": [
    "To search for specific expressions in a character string."
   ]
  },
  {
   "cell_type": "code",
   "execution_count": 6,
   "metadata": {
    "colab": {},
    "colab_type": "code",
    "id": "dSppk5IszeHE",
    "outputId": "90badda8-bab3-4eba-9c8d-9547e9da2f48"
   },
   "outputs": [
    {
     "name": "stdout",
     "output_type": "stream",
     "text": [
      "['E']\n"
     ]
    }
   ],
   "source": [
    "print(re.findall(\"GR(.)?Y\", \"GREY\"))\n",
    "# so here we are looking for a unique element (.)? between GR and Y"
   ]
  },
  {
   "cell_type": "code",
   "execution_count": 7,
   "metadata": {
    "colab": {},
    "colab_type": "code",
    "id": "c7xuIjyLzeHJ",
    "outputId": "5f86f01d-7b12-40d3-bf21-27546c53ce15"
   },
   "outputs": [
    {
     "data": {
      "text/plain": [
       "[('R', 'E')]"
      ]
     },
     "execution_count": 7,
     "metadata": {},
     "output_type": "execute_result"
    }
   ],
   "source": [
    "# Ditto for two characters to be found\n",
    "re.findall(\"G(.)?(.)?Y\", \"GREY\")"
   ]
  },
  {
   "cell_type": "markdown",
   "metadata": {},
   "source": [
    "To keep only the numbers : "
   ]
  },
  {
   "cell_type": "code",
   "execution_count": 13,
   "metadata": {
    "colab": {},
    "colab_type": "code",
    "id": "WBrIVn-_zeHN",
    "outputId": "fc9c1cfe-4b92-4994-ce15-b5d4e7139ff1"
   },
   "outputs": [
    {
     "name": "stdout",
     "output_type": "stream",
     "text": [
      "['7', '220']\n"
     ]
    }
   ],
   "source": [
    "# Only numbers\n",
    "print(re.findall(\"[0-9]+\", \"Hello I live on the 7th floor of 220 street of sims\"))\n",
    "# \"+\" Means 1 or more characters"
   ]
  },
  {
   "cell_type": "markdown",
   "metadata": {},
   "source": [
    "And conversely, if you only want to keep the words. "
   ]
  },
  {
   "cell_type": "code",
   "execution_count": 9,
   "metadata": {
    "colab": {},
    "colab_type": "code",
    "id": "ox7Nu7kUzeHU",
    "outputId": "69941c41-5c8f-4056-dfe6-ff66651d7bbd"
   },
   "outputs": [
    {
     "name": "stdout",
     "output_type": "stream",
     "text": [
      "['Hello', 'I', 'live', 'on', 'the', 'th', 'floor', 'of', 'street', 'of', 'sims']\n"
     ]
    }
   ],
   "source": [
    "# Only words\n",
    "print(re.findall(\"([A-z]+)\", \"Hello I live on the 7th floor of 220 street of sims\"))"
   ]
  },
  {
   "cell_type": "markdown",
   "metadata": {
    "colab_type": "text",
    "id": "kjICFwLNzeHX"
   },
   "source": [
    "### Stop, we recap !"
   ]
  },
  {
   "cell_type": "markdown",
   "metadata": {
    "colab_type": "text",
    "id": "dMMTCegrzeHY"
   },
   "source": [
    "Character | Meaning   \n",
    ":-------------------------:|:-------------------------:\n",
    "**.** | **Refers to any character.**\n",
    "**^** | **Indicates that the beginning of the string must match <br/> (i.e. a string can only match if it starts in the same way, <br /> if it is preceded by spaces or a line break)**\n",
    "**$** | **Indicates that the end of the chain must match <br /> (the same remark as above applies, but at the end level).**\n",
    "**{n}**|**Indicates that the previous character must be repeated n times.**\n",
    "**{n, m}**|**Indicates that the previous character must be repeated between n and m times.**\n",
    " *| **The previous character can be repeated none or several times. <br />For example, ab* may correspond to: a, ab, or a followed by any number of b.**\n",
    "**+**|**The previous character can be repeated once or several times. <br/>For example, to ab+ corresponds an a followed by any number of b.**\n",
    "**?**|**The previous character can be repeated zero or once.<br /> For example, to ab? correspond ab and a.**\n",
    "**\\w** | **it corresponds to any alphabetical character, it is equivalent to [a-zA-Z].**\n",
    "**\\W** | **it corresponds to everything that is not an alphabetical character.**\n",
    "**\\d** | **it corresponds to any numeric character, i.e. it is equivalent to[0-9].**\n",
    "**\\D** | **it corresponds to everything that is not a numeric character.**"
   ]
  },
  {
   "cell_type": "markdown",
   "metadata": {
    "colab_type": "text",
    "id": "ZNoamLAczeHc"
   },
   "source": [
    "![alt text](http://www.codercaste.com/wp-content/uploads/2013/01/regex.gif)"
   ]
  },
  {
   "cell_type": "markdown",
   "metadata": {
    "colab_type": "text",
    "id": "kHIg2LmjzeHd"
   },
   "source": [
    "### Some useful resources\n",
    "http://www.rexegg.com/regex-quickstart.html  \n",
    "http://www.dreambank.net/regex.html#examples  \n",
    "https://pythex.org/ *(Pythex is a real-time regular expression editor for Python, a quick way to test your regular expressions.)*   \n",
    "https://regex101.com/   \n",
    "*(Regex101 is online regex editor and debugger. Regex101 allows you to create, debug, test and have your expressions explained for PHP, PCRE, Python, Golang and JavaScript. The website also features a community where you can share useful expressions.)*"
   ]
  },
  {
   "cell_type": "markdown",
   "metadata": {
    "colab_type": "text",
    "id": "f-xPzTvWzeHe"
   },
   "source": [
    "#### How to check that the entered string is that of a number ?"
   ]
  },
  {
   "cell_type": "code",
   "execution_count": 11,
   "metadata": {
    "colab": {},
    "colab_type": "code",
    "id": "w3nZ_oIbzeHf",
    "outputId": "890ed6b5-b5f5-4c19-a7d0-3848899346a1"
   },
   "outputs": [
    {
     "name": "stdout",
     "output_type": "stream",
     "text": [
      "Your number : erer21312\n",
      "The string entered is NOT a number\n"
     ]
    }
   ],
   "source": [
    "nb = input('Your number : ')\n",
    "if (re.match(\"^[0-9]+$\", nb)): \n",
    "    print(\"The string entered is a number.\")\n",
    "else:\n",
    "    print(\"The string entered is NOT a number\")"
   ]
  },
  {
   "cell_type": "markdown",
   "metadata": {},
   "source": [
    "Another way"
   ]
  },
  {
   "cell_type": "code",
   "execution_count": null,
   "metadata": {
    "colab": {},
    "colab_type": "code",
    "collapsed": true,
    "id": "hH4MzAn5zeHi",
    "outputId": "799bd89d-35df-406f-e1d5-f17d4c1a2889"
   },
   "outputs": [],
   "source": [
    "prog = re.compile(\"^[0-9]+$\")\n",
    "if  prog.search(nb) is not None : \n",
    "    print(\"The string entered is a number.\")\n",
    "else:\n",
    "    print(\"The string entered is NOT a number\")"
   ]
  },
  {
   "cell_type": "markdown",
   "metadata": {},
   "source": [
    "## Drill "
   ]
  },
  {
   "cell_type": "markdown",
   "metadata": {
    "colab_type": "text",
    "id": "f5YsM8CYzeHl"
   },
   "source": [
    "\n",
    "**1. Create a regex that finds integers without size limit.**"
   ]
  },
  {
   "cell_type": "code",
   "execution_count": 15,
   "metadata": {
    "colab": {},
    "colab_type": "code",
    "id": "-Ui9NhETzeHm",
    "outputId": "e0932e42-44c0-4718-b4d0-6b247fc1f674"
   },
   "outputs": [
    {
     "name": "stdout",
     "output_type": "stream",
     "text": [
      "231231\n",
      "5\n"
     ]
    }
   ],
   "source": [
    "s=re.findall('\\d+', 'Emre 231231 poured 5 litres milk.')\n",
    "for elem in s:\n",
    "    print(elem)"
   ]
  },
  {
   "cell_type": "markdown",
   "metadata": {
    "colab_type": "text",
    "id": "5s96xBmKzeHr"
   },
   "source": [
    "**2. Create a regex that finds negative integer without size limit.**"
   ]
  },
  {
   "cell_type": "code",
   "execution_count": 16,
   "metadata": {
    "colab": {},
    "colab_type": "code",
    "id": "_BE3W4FrzeHr"
   },
   "outputs": [
    {
     "name": "stdout",
     "output_type": "stream",
     "text": [
      "['-123', '-55']\n"
     ]
    }
   ],
   "source": [
    "s= re.findall('-\\d+', \"Emre's point is -123, Philip's point is -55\")\n",
    "print(s)"
   ]
  },
  {
   "cell_type": "markdown",
   "metadata": {
    "colab_type": "text",
    "id": "VTyKX9W6zeHt"
   },
   "source": [
    "**3. Create a regex that finds (positive or negative) integer without size limit.**"
   ]
  },
  {
   "cell_type": "code",
   "execution_count": 18,
   "metadata": {
    "colab": {},
    "colab_type": "code",
    "id": "aUt7Ut6szeHu"
   },
   "outputs": [
    {
     "name": "stdout",
     "output_type": "stream",
     "text": [
      "['-123', '-55', '231231', '5']\n"
     ]
    }
   ],
   "source": [
    "s= re.findall('-?\\d+', \"Emre's point is -123, Philip's point is -55. Emre 231231 poured 5 litres milk.\")\n",
    "print(s)"
   ]
  },
  {
   "cell_type": "markdown",
   "metadata": {
    "colab_type": "text",
    "id": "0PHROIn0zeHw"
   },
   "source": [
    "**4. Capture all the numbers of the following sentence :**"
   ]
  },
  {
   "cell_type": "code",
   "execution_count": 20,
   "metadata": {
    "colab": {},
    "colab_type": "code",
    "id": "ZqZWhh6DzeHx"
   },
   "outputs": [
    {
     "name": "stdout",
     "output_type": "stream",
     "text": [
      "['21 ', '3 ', '4,003', '100.00']\n"
     ]
    }
   ],
   "source": [
    "text = '21 scouts and 3 tanks fought against 4,003 protestors, so the manager was not 100.00% happy.'\n",
    "s= re.findall('-?\\d+,?.?\\d*', text)\n",
    "print(s)"
   ]
  },
  {
   "cell_type": "markdown",
   "metadata": {
    "colab_type": "text",
    "id": "eMyqTHyTzeH2"
   },
   "source": [
    "**5. Find all words that end with 'ly'.**"
   ]
  },
  {
   "cell_type": "code",
   "execution_count": 24,
   "metadata": {
    "colab": {},
    "colab_type": "code",
    "id": "F0zce0lbzeH2"
   },
   "outputs": [
    {
     "name": "stdout",
     "output_type": "stream",
     "text": [
      "['prudently', 'quickly']\n"
     ]
    }
   ],
   "source": [
    "text = \"He had prudently disguised himself but was quickly captured by the police.\"\n",
    "s = re.findall('\\w*ly', text)\n",
    "print(s)"
   ]
  },
  {
   "cell_type": "markdown",
   "metadata": {
    "colab": {},
    "colab_type": "code",
    "id": "QoIRhUQazeH4"
   },
   "source": [
    "**6. License plate number**  \n",
    "A license plate consists of 2 capital letters, a dash ('-'), 3 digits, a dash ('-') and finally 2 capital letters. Write a script to check that an input string is a license plate (input () method).  \n",
    "If it's correct, print \"good\". If it's not correct, print \"Not good\"."
   ]
  },
  {
   "cell_type": "code",
   "execution_count": 26,
   "metadata": {
    "colab": {},
    "colab_type": "code",
    "id": "PA-6loX6zeH8",
    "outputId": "b7289953-b595-4a76-c493-a6964423804a"
   },
   "outputs": [
    {
     "name": "stdout",
     "output_type": "stream",
     "text": [
      "Enter your License plate number:EE-213-RR\n",
      "good\n"
     ]
    }
   ],
   "source": [
    "plate = input(\"Enter your License plate number:\")\n",
    "s = re.match('[A-Z]{2}-\\d{3}-[A-Z]{2}', plate)\n",
    "if s:\n",
    "    print('good')\n",
    "else:\n",
    "    print('Not good')"
   ]
  },
  {
   "cell_type": "markdown",
   "metadata": {
    "colab_type": "text",
    "id": "3ioJXWmXzeIC"
   },
   "source": [
    "**7 . Address IPV4**  \n",
    "An IPv4 address is composed of 4 numbers between 0 and 255 separated by '.'   \n",
    "Write a script to verify that a string entered is that of an IPv4 address (input() method)"
   ]
  },
  {
   "cell_type": "code",
   "execution_count": 23,
   "metadata": {
    "colab": {},
    "colab_type": "code",
    "id": "AEcNL-vXzeIE"
   },
   "outputs": [
    {
     "name": "stdout",
     "output_type": "stream",
     "text": [
      "Enter your IP address :1.1.1.256\n",
      "IP is faulty\n"
     ]
    },
    {
     "data": {
      "text/plain": [
       "False"
      ]
     },
     "execution_count": 23,
     "metadata": {},
     "output_type": "execute_result"
    }
   ],
   "source": [
    "import re \n",
    "\n",
    "def valid_IP(ip): \n",
    "    s = re.match('^(?:1?\\d{1,2}\\.|2[0-4]\\d\\.|25[0-5]\\.){3}(?:1?\\d{1,2}|2[0-4]\\d|25[0-5])$', ip)\n",
    "    if s:\n",
    "        print(s)\n",
    "        print('IP is correct')\n",
    "        return True\n",
    "    else:\n",
    "        print('IP is faulty')\n",
    "        return False\n",
    "\n",
    "ip = input(\"Enter your IP address :\")\n",
    "valid_IP(ip)"
   ]
  },
  {
   "cell_type": "markdown",
   "metadata": {},
   "source": [
    "**8. Valid Mail**  \n",
    "An email is composed of alphanumeric characters followed by @ and a domain name.  \n",
    "Write a script that checks that the string entered by a User is indeed that of an email, otherwise ask him to re-enter it again (until he gets a valid email)?"
   ]
  },
  {
   "cell_type": "code",
   "execution_count": 14,
   "metadata": {
    "colab": {},
    "colab_type": "code",
    "id": "8NGjap8NzeIH"
   },
   "outputs": [
    {
     "name": "stdout",
     "output_type": "stream",
     "text": [
      "Enter your email :1.1.1.289\n",
      "mail is not valid\n"
     ]
    },
    {
     "data": {
      "text/plain": [
       "False"
      ]
     },
     "execution_count": 14,
     "metadata": {},
     "output_type": "execute_result"
    }
   ],
   "source": [
    "def valid_mail(mail): \n",
    "    s = re.match(\"^\\w+[!#$%&'\\*\\+\\-\\/=?^_`{|}~]*?\\.?\\w+@[A-Za-z0-9]+-{0,2}[A-Za-z0-9]+(\\.\\w+)*\\.[a-zA-Z]{2,6}$\", mail)\n",
    "    if s:\n",
    "        print(s)\n",
    "        print('mail is valid')\n",
    "        return True\n",
    "    else:\n",
    "        print('mail is not valid')\n",
    "        return False\n",
    "    \n",
    "mail = input(\"Enter your email :\")\n",
    "valid_mail(mail)"
   ]
  },
  {
   "cell_type": "markdown",
   "metadata": {
    "colab_type": "text",
    "id": "5YoLVVnJzeIK"
   },
   "source": [
    "**9. Valid Password**  \n",
    "Add in the script the verification of the password (obviously if the email is valid) where the only specificity of the password is to contain at least 6 characters"
   ]
  },
  {
   "cell_type": "code",
   "execution_count": 42,
   "metadata": {
    "colab": {},
    "colab_type": "code",
    "id": "1NJd2SIGzeIM"
   },
   "outputs": [
    {
     "name": "stdout",
     "output_type": "stream",
     "text": [
      "Enter your Password :3242efwqef\n",
      "password is valid\n"
     ]
    }
   ],
   "source": [
    "password = input(\"Enter your Password :\")\n",
    "s = re.match('[\\w]{6,}', password)\n",
    "if s:\n",
    "    print('password is valid')\n",
    "else:\n",
    "    print('password is not valid')"
   ]
  },
  {
   "cell_type": "markdown",
   "metadata": {
    "colab_type": "text",
    "id": "QBnkFFmtzeIO"
   },
   "source": [
    "**10. Valid Password bis**  \n",
    "The password must now contain at least 6 characters:  \n",
    "At least one lowercase letter AND at least one uppercase letter AND at least one number AND at least one special character (among $#@)."
   ]
  },
  {
   "cell_type": "code",
   "execution_count": 39,
   "metadata": {
    "colab": {},
    "colab_type": "code",
    "id": "Kh8YQEcjzeIP"
   },
   "outputs": [
    {
     "name": "stdout",
     "output_type": "stream",
     "text": [
      "Enter your Password :Pp#123456\n",
      "password is valid\n"
     ]
    },
    {
     "data": {
      "text/plain": [
       "True"
      ]
     },
     "execution_count": 39,
     "metadata": {},
     "output_type": "execute_result"
    }
   ],
   "source": [
    "def valid_password(password):\n",
    "    s = re.match(\"(?=^.{6,}$)(?=.*\\d)(?=.*[a-z])(?=.*[A-Z])(?=.*[$#@])(?!.*\\s).*$\", password)\n",
    "    if s:\n",
    "        print('password is valid')\n",
    "        return True\n",
    "    else:\n",
    "        print('password is not valid')\n",
    "        return False\n",
    "\n",
    "password = input(\"Enter your Password :\")\n",
    "valid_password(password)"
   ]
  },
  {
   "cell_type": "markdown",
   "metadata": {},
   "source": [
    "**11. Search by groups**  \n",
    "It is possible to search by group, and it is very powerful!  \n",
    "``?P<x>\\w+`` means the capture of a \"group\" named x, this group is an alphanumeric (\\ w) of at least one character (+)"
   ]
  },
  {
   "cell_type": "code",
   "execution_count": 24,
   "metadata": {
    "colab": {},
    "colab_type": "code",
    "id": "B84T52avzeIT",
    "outputId": "8c172ad4-e738-4959-853f-769431aa63fd"
   },
   "outputs": [
    {
     "name": "stdout",
     "output_type": "stream",
     "text": [
      "olivier\n",
      "32\n"
     ]
    }
   ],
   "source": [
    "m = re.search(\"Welcome to (?P<where>\\w+) ! You are (?P<age>\\d+) years old ?\", \"Welcome to olivier ! You are 32 years old ?\")\n",
    "print(m.group('where'))\n",
    "print(m.group('age'))"
   ]
  },
  {
   "cell_type": "code",
   "execution_count": 25,
   "metadata": {
    "colab": {},
    "colab_type": "code",
    "id": "8zIMNbCVzeIW",
    "outputId": "7688cc3b-627d-4c7f-9352-71238148cb88"
   },
   "outputs": [
    {
     "name": "stdout",
     "output_type": "stream",
     "text": [
      "audrey\n",
      "boulevart\n",
      "benextcomapgny\n",
      "com\n"
     ]
    }
   ],
   "source": [
    " # Another Example\n",
    "m = re.search(\"^(?P<who>\\w*)[.]?(?P<who2>\\w*)@(?P<operator>\\w+)[.](?P<zone>\\w+$)\", \"audrey.boulevart@benextcomapgny.com\")\n",
    "if m is not None:\n",
    "    print (m.group(\"who\"))\n",
    "    print (m.group('who2'))\n",
    "    print (m.group('operator'))\n",
    "    print (m.group('zone'))  "
   ]
  },
  {
   "cell_type": "markdown",
   "metadata": {
    "colab_type": "text",
    "id": "jWjUNH0wzeIY"
   },
   "source": [
    "Take back the file ``../data/mail.txt`` and clean it with the regex. The goal is to retrieve the last name, first name, operator and zone, as in the previous example. And store these information in associated lists."
   ]
  },
  {
   "cell_type": "code",
   "execution_count": 26,
   "metadata": {
    "colab": {},
    "colab_type": "code",
    "id": "-lbl8DZDzeIZ"
   },
   "outputs": [],
   "source": [
    "list_mail = open(\"../04.File-handling/data/mail.txt\")"
   ]
  },
  {
   "cell_type": "markdown",
   "metadata": {
    "colab_type": "text",
    "id": "HRj-nKbszeIi"
   },
   "source": [
    "**12. Another way of doing things.**"
   ]
  },
  {
   "cell_type": "code",
   "execution_count": 16,
   "metadata": {
    "colab": {},
    "colab_type": "code",
    "id": "KZ-pp_LdzeIb",
    "outputId": "9ce1a3a7-4cf2-444e-ebdb-0c1bcdb9c3d8"
   },
   "outputs": [
    {
     "name": "stdout",
     "output_type": "stream",
     "text": [
      "['audrey', 'e', 'farid', 'nathalie']\n"
     ]
    }
   ],
   "source": [
    "with open(\"../04.File-handling/data/mail.txt\") as list_mail:\n",
    "    \n",
    "    mail = list_mail.readline()\n",
    "\n",
    "    firstName =[]\n",
    "    name =[]\n",
    "    ope =[]\n",
    "    zone =[]\n",
    "    \n",
    "    while mail != '':\n",
    "        \n",
    "        splitMail = mail.replace('.',' ').split('@')\n",
    "        \n",
    "        if len(splitMail) == 2:\n",
    "            firstName.append(splitMail[0].split()[0])\n",
    "            name.append(splitMail[0].split()[-1])\n",
    "            ope.append(splitMail[1].split()[0])\n",
    "            zone.append(splitMail[1].split()[-1])\n",
    "\n",
    "        mail = list_mail.readline()\n",
    "        \n",
    "    list_mail.close()\n",
    "\n",
    "import pandas as pd \n",
    "\n",
    "df = pd.DataFrame({'First_Name':firstName, 'Surname':name, 'Operation':ope, 'Zone':zone})\n",
    "df.to_csv('../04.File-handling/data/seperated_mails.csv')\n",
    "    \n",
    "print(firstName[0:4])"
   ]
  },
  {
   "cell_type": "code",
   "execution_count": 35,
   "metadata": {},
   "outputs": [
    {
     "data": {
      "text/plain": [
       "(['olivier'], ['32'])"
      ]
     },
     "execution_count": 35,
     "metadata": {},
     "output_type": "execute_result"
    }
   ],
   "source": [
    "\n",
    "place = \"Welcome to olivier ! You are 32 years old ?\"\n",
    "splitPlace = place.split()\n",
    "\n",
    "where =[]\n",
    "age =[]\n",
    "\n",
    "where.append(splitPlace[2])\n",
    "age.append(splitPlace[6])\n",
    "where, age"
   ]
  },
  {
   "cell_type": "markdown",
   "metadata": {},
   "source": [
    "Repeat the previous exercise with this new formula and compare the length of your lists with those of the previous exercise.  \n",
    "What do you notice ?"
   ]
  },
  {
   "cell_type": "markdown",
   "metadata": {},
   "source": [
    "Answer: It is difficult to determine a pattern to obtain certain words."
   ]
  },
  {
   "cell_type": "code",
   "execution_count": 40,
   "metadata": {
    "colab": {},
    "colab_type": "code",
    "id": "N5YTf2YdzeIi"
   },
   "outputs": [
    {
     "name": "stderr",
     "output_type": "stream",
     "text": [
      "test_valid_IP (__main__.TestRegex) ... ok\n",
      "test_valid_mail (__main__.TestRegex) ... ok\n",
      "test_valid_password (__main__.TestRegex) ... "
     ]
    },
    {
     "name": "stdout",
     "output_type": "stream",
     "text": [
      "<re.Match object; span=(0, 12), match='254.12.1.125'>\n",
      "IP is correct\n",
      "<re.Match object; span=(0, 12), match='1.12.245.198'>\n",
      "IP is correct\n",
      "IP is faulty\n",
      "IP is faulty\n",
      "IP is faulty\n",
      "<re.Match object; span=(0, 18), match='mremre@emre.dfhgjd'>\n",
      "mail is valid\n",
      "<re.Match object; span=(0, 22), match='mr#emre@45-Emre.dfhgjd'>\n",
      "mail is valid\n",
      "mail is not valid\n",
      "mail is not valid\n",
      "mail is not valid\n",
      "password is valid\n",
      "password is not valid\n",
      "password is not valid\n",
      "password is not valid\n",
      "password is not valid\n",
      "password is not valid\n"
     ]
    },
    {
     "name": "stderr",
     "output_type": "stream",
     "text": [
      "ok\n",
      "\n",
      "----------------------------------------------------------------------\n",
      "Ran 3 tests in 0.061s\n",
      "\n",
      "OK\n"
     ]
    },
    {
     "data": {
      "text/plain": [
       "<unittest.main.TestProgram at 0x24195a77be0>"
      ]
     },
     "execution_count": 40,
     "metadata": {},
     "output_type": "execute_result"
    }
   ],
   "source": [
    "import unittest\n",
    " \n",
    "class TestRegex(unittest.TestCase):\n",
    "    \n",
    "    def test_valid_IP(self):\n",
    "        self.assertEqual(valid_IP('254.12.1.125'), True)\n",
    "        self.assertEqual(valid_IP('1.12.245.198'), True)\n",
    "        self.assertEqual(valid_IP('123.257.245.198'), False)\n",
    "        self.assertEqual(valid_IP('1.1.1.289'), False)\n",
    "        self.assertEqual(valid_IP('452.12.245.198'), False)\n",
    "        \n",
    "    def test_valid_mail(self):\n",
    "        self.assertEqual(valid_mail('mremre@emre.dfhgjd'), True)\n",
    "        self.assertEqual(valid_mail('mr#emre@45-Emre.dfhgjd'), True)\n",
    "        self.assertEqual(valid_mail('mr#emre@45-Emre.dfhgjde'), False)\n",
    "        self.assertEqual(valid_mail('#mr#emre@45-Emre.dfhgjd'), False)\n",
    "        self.assertEqual(valid_mail('mr#emre#@45-Emre.dfhgjd'), False)\n",
    "        \n",
    "    def test_valid_password(self):\n",
    "        self.assertEqual(valid_password('Pp#123456'), True)\n",
    "        self.assertEqual(valid_password('Pp#12'), False)\n",
    "        self.assertEqual(valid_password('P#123456'), False)\n",
    "        self.assertEqual(valid_password('Pp123456'), False)\n",
    "        self.assertEqual(valid_password('p#123456'), False)\n",
    "        self.assertEqual(valid_password('Pp#asdfd'), False)\n",
    "\n",
    "unittest.main(argv=[''], verbosity=2, exit=False)"
   ]
  },
  {
   "cell_type": "code",
   "execution_count": null,
   "metadata": {},
   "outputs": [],
   "source": []
  }
 ],
 "metadata": {
  "colab": {
   "name": "Av_2_python_regex.ipynb",
   "provenance": [],
   "version": "0.3.2"
  },
  "kernelspec": {
   "display_name": "Python 3",
   "language": "python",
   "name": "python3"
  },
  "language_info": {
   "codemirror_mode": {
    "name": "ipython",
    "version": 3
   },
   "file_extension": ".py",
   "mimetype": "text/x-python",
   "name": "python",
   "nbconvert_exporter": "python",
   "pygments_lexer": "ipython3",
   "version": "3.7.3"
  }
 },
 "nbformat": 4,
 "nbformat_minor": 1
}
