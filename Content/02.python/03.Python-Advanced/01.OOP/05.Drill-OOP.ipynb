{
 "cells": [
  {
   "cell_type": "markdown",
   "metadata": {},
   "source": [
    "# Drill - OOP"
   ]
  },
  {
   "cell_type": "markdown",
   "metadata": {},
   "source": [
    "## Exercise 01 - Dog Inheritance\n",
    "Create a Pets class that holds instances of dogs; this class is completely separate from the Dog class. In other words, the Dog class does not inherit from the Pets class. Then assign three dog instances to an instance of the Pets class. Start with the following code below. Save the file as pets_class.py. Your output should look like this:\n",
    "````\n",
    "I have 3 dogs. \n",
    "Tom is 6. \n",
    "Fletcher is 7. \n",
    "Larry is 9. \n",
    "And they're all mammals, of course.\n",
    "````"
   ]
  },
  {
   "cell_type": "code",
   "execution_count": 37,
   "metadata": {},
   "outputs": [
    {
     "name": "stdout",
     "output_type": "stream",
     "text": [
      "I have 3 dogs\n",
      "Tom is 6.\n",
      "fletcher is 7.\n",
      "Larry is 9.\n",
      "And They're all mammals, of course.\n"
     ]
    }
   ],
   "source": [
    "class Pets:\n",
    "    def __init__(self):\n",
    "        self.lst = []\n",
    "    \n",
    "    def display_pet(self):\n",
    "        print(f'I have {len(self.lst)} dogs')\n",
    "        for pet in self.lst:\n",
    "            print(f\"{pet.name} is {pet.age}.\")\n",
    "        print(f\"And They're all {self.lst[0].species}s, of course.\")\n",
    "        \n",
    "# Parent class\n",
    "class Dog:\n",
    "\n",
    "    # Class attribute\n",
    "    species = 'mammal'\n",
    "\n",
    "    # Initializer / Instance attributes\n",
    "    def __init__(self, name, age):\n",
    "        self.name = name\n",
    "        self.age = age\n",
    "\n",
    "tom = Dog('Tom', 6)\n",
    "flet = Dog('fletcher', 7)\n",
    "lar = Dog('Larry', 9)\n",
    "\n",
    "animals = Pets()\n",
    "animals.lst.extend([tom, flet, lar])\n",
    "animals.display_pet()"
   ]
  },
  {
   "cell_type": "markdown",
   "metadata": {},
   "source": [
    "## Exercise 02 - Hungry Dogs\n",
    "Using the same file, add an instance attribute of is_hungry = True to the Dog class. Then add a method called eat() which changes the value of is_hungry to False when called. Figure out the best way to feed each dog and then output “My dogs are hungry.” if all are hungry or “My dogs are not hungry.” if all are not hungry. The final output should look like this:\n",
    "````\n",
    "I have 3 dogs. \n",
    "Tom is 6. \n",
    "Fletcher is 7. \n",
    "Larry is 9. \n",
    "And they're all mammals, of course. \n",
    "My dogs are not hungry.\n",
    "````\n"
   ]
  },
  {
   "cell_type": "code",
   "execution_count": 38,
   "metadata": {},
   "outputs": [
    {
     "name": "stdout",
     "output_type": "stream",
     "text": [
      "I have 3 dogs\n",
      "Tom is 6.\n",
      "fletcher is 7.\n",
      "Larry is 9.\n",
      "And They're all mammals, of course.\n",
      "My dogs are hungry\n",
      "************\n",
      "I have 3 dogs\n",
      "Tom is 6.\n",
      "fletcher is 7.\n",
      "Larry is 9.\n",
      "And They're all mammals, of course.\n",
      "My dogs are not hungry\n"
     ]
    }
   ],
   "source": [
    "class Pets:\n",
    "    def __init__(self):\n",
    "        self.lst = []\n",
    "    \n",
    "    def display_pet(self):\n",
    "        print(f'I have {len(self.lst)} dogs')\n",
    "        pet_hungry = False\n",
    "        for pet in self.lst:\n",
    "            print(f\"{pet.name} is {pet.age}.\")\n",
    "            if pet.is_hungry == True:\n",
    "                pet_hungry = True\n",
    "        print(f\"And They're all {self.lst[0].species}s, of course.\")\n",
    "        if pet_hungry == False:\n",
    "            print(\"My dogs are not hungry\")\n",
    "        else:\n",
    "            print(\"My dogs are hungry\")\n",
    "\n",
    "    def feed(self):\n",
    "        for pet in self.lst:\n",
    "            if pet.is_hungry == True:\n",
    "                pet.is_hungry = False\n",
    "        \n",
    "# Parent class\n",
    "class Dog:\n",
    "\n",
    "    # Class attribute\n",
    "    species = 'mammal'\n",
    "\n",
    "    # Initializer / Instance attributes\n",
    "    def __init__(self, name, age):\n",
    "        self.name = name\n",
    "        self.age = age\n",
    "        self.is_hungry = False\n",
    "        \n",
    "    def eat(self):\n",
    "        self.is_hungry = True\n",
    "\n",
    "tom = Dog('Tom', 6)\n",
    "flet = Dog('fletcher', 7)\n",
    "lar = Dog('Larry', 9)\n",
    "\n",
    "tom.eat()\n",
    "\n",
    "animals = Pets()\n",
    "animals.lst.extend([tom, flet, lar])\n",
    "animals.display_pet()\n",
    "print(\"************\")\n",
    "animals.feed()\n",
    "animals.display_pet()"
   ]
  },
  {
   "cell_type": "markdown",
   "metadata": {},
   "source": [
    "## Exercise 03 - Dog Walking\n",
    "Next, add a walk() method to both the Pets and Dog classes so that when you call the method on the Pets class, each dog instance assigned to the Pets class will walk(). Save this as dog_walking.py. This is slightly more difficult.\n",
    "\n",
    "Start by implementing the method in the same manner as the speak() method. As for the method in the Pets class, you will need to iterate through the list of dogs, then call the method itself.\n",
    "\n",
    "The output should look like this:\n",
    "\n",
    "````\n",
    "Tom is walking!\n",
    "Fletcher is walking!\n",
    "Larry is walking!\n",
    "````"
   ]
  },
  {
   "cell_type": "code",
   "execution_count": 39,
   "metadata": {},
   "outputs": [
    {
     "name": "stdout",
     "output_type": "stream",
     "text": [
      "Tom is walking!\n",
      "fletcher is walking!\n",
      "Larry is walking!\n"
     ]
    }
   ],
   "source": [
    "class Pets:\n",
    "    def __init__(self):\n",
    "        self.lst = []\n",
    "    \n",
    "    def walk(self):\n",
    "        for i in self.lst:\n",
    "            yield i.walk()\n",
    "        \n",
    "# Parent class\n",
    "class Dog:\n",
    "    # Initializer / Instance attributes\n",
    "    def __init__(self, name, age):\n",
    "        self.name = name\n",
    "        self.age = age\n",
    "    \n",
    "    def walk(self):\n",
    "        return f\"{self.name} is walking!\"\n",
    "\n",
    "tom = Dog('Tom', 6)\n",
    "flet = Dog('fletcher', 7)\n",
    "lar = Dog('Larry', 9)\n",
    "\n",
    "animals = Pets()\n",
    "animals.lst.extend([tom, flet, lar])\n",
    "\n",
    "for i in animals.walk():\n",
    "    print(i)"
   ]
  },
  {
   "cell_type": "markdown",
   "metadata": {},
   "source": [
    "## Exercise 04 - Comprehension Check \n",
    "Answer the following questions about OOP to check your learning progress:\n",
    "\n",
    "1. What’s a class?\n",
    "1. What’s an instance?\n",
    "1. What’s the relationship between a class and an instance?\n",
    "1. What’s the Python syntax used for defining a new class?\n",
    "1. What’s the spelling convention for a class name?\n",
    "1. How do you instantiate, or create an instance of, a class?\n",
    "1. How do you access the attributes and behaviors of a class instance?\n",
    "1. What’s a method?\n",
    "1. What’s the purpose of self?\n",
    "1. What’s the purpose of the __init__ method?\n",
    "1. Describe how inheritance helps prevent code duplication.\n",
    "1. Can child classes override properties of their parents?"
   ]
  },
  {
   "cell_type": "markdown",
   "metadata": {},
   "source": [
    "<br>1) A class is a object which has some characteristics(attribute) and methods (functions).\n",
    "<br>2) An instance is an example of the the class and fits the form of the class. \n",
    "<br>3) An instance include all characteristics of the class.\n",
    "<br>4) We define classes with \"class\" key word. And we put colon in the last of name of the class.\n",
    "<br>5) It is camelcase according to PEP-8.\n",
    "<br>6) Instance_name = clas_name()\n",
    "<br>7) We call attribute with instance_name.attribute_name and call method with instance_name.method_name()\n",
    "<br>8) Methods are functional properties of a class.\n",
    "<br>9) Self provide keeping the characteristics of each instance of a class.\n",
    "<br>10) Init method provide constructing attributes of an instance of a class.\n",
    "<br>11) Thanks to inheritance, in child class, we don't write repeatly same properties which parent class has.\n",
    "<br>12) Yes, child class can override properties of their class. it is called polimorphism."
   ]
  },
  {
   "cell_type": "code",
   "execution_count": null,
   "metadata": {},
   "outputs": [],
   "source": []
  }
 ],
 "metadata": {
  "kernelspec": {
   "display_name": "Python 3",
   "language": "python",
   "name": "python3"
  },
  "language_info": {
   "codemirror_mode": {
    "name": "ipython",
    "version": 3
   },
   "file_extension": ".py",
   "mimetype": "text/x-python",
   "name": "python",
   "nbconvert_exporter": "python",
   "pygments_lexer": "ipython3",
   "version": "3.7.3"
  }
 },
 "nbformat": 4,
 "nbformat_minor": 2
}
