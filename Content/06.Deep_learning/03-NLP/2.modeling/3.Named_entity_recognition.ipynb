{
 "cells": [
  {
   "cell_type": "markdown",
   "metadata": {},
   "source": [
    "# Named entity recognition (N.E.R.)\n",
    "\n",
    "Named entity recognition is a NLP technique to extract specific entities from a document.\n",
    "\n",
    "You could, for example, extract all the addresses or all the prices or both at the same time! It should be easy to do for the model as the format will almost always be the same (there are exceptions of course).\n",
    "    * All the addresses are going to contain a street name, a number, a zip code, a city and a country.\n",
    "    * All the prices are going to be number with a money symbol before or after it.\n",
    "    * All the names are going to start with an uppercase.\n",
    "\n",
    "If you are in this case, even if putting AI in the title of you project is cool, you should ask yourself if a regular expression (RegEx) is not easier and better. \n",
    "\n",
    "But you could also want to only extract prices **without** taxes, or only the address of the receiver in letters. In this case, you want a specific entity, and it's way harder to do with RegEx. That's where NER is useful."
   ]
  },
  {
   "cell_type": "markdown",
   "metadata": {},
   "source": [
    "## The easy way: SpaCy\n",
    "\n",
    "[SpaCy](https://spacy.io/) gives you a set of pre-trained models in several languages. However, they are very general models, so general that if you have a use-case a little bit specific, it will probably not be enough. **But** if you want to do a demo or do a proof of concept, it will be one of the best way to go."
   ]
  },
  {
   "cell_type": "code",
   "execution_count": null,
   "metadata": {},
   "outputs": [],
   "source": [
    "# Load the needed dependencies from SpaCy\n",
    "import spacy\n",
    "from spacy import displacy\n",
    "import en_core_web_sm\n",
    "\n",
    "# Create an instance of the small pipeline and model from SpaCy\n",
    "nlp = en_core_web_sm.load()\n",
    "\n",
    "# The text we want to process\n",
    "text = \"BeCode’s mission : Enabling tomorrow’s digital talents to blossom.We believe that education makes anything possible.Since 2017, BeCode has been offering inclusive coding bootcamps for jobseekers to become developers in partnership with Simplon.\"\n",
    "\n",
    "# Apply the complete NER pipeline from SpaCy (preprocessing + model prediction)\n",
    "doc = nlp(text)\n",
    "\n",
    "# Show the entities detected in a nice way\n",
    "displacy.render(doc, jupyter=True, style='ent')"
   ]
  },
  {
   "cell_type": "markdown",
   "metadata": {},
   "source": [
    "We can also get this information in a more \"useful\" way:"
   ]
  },
  {
   "cell_type": "code",
   "execution_count": null,
   "metadata": {},
   "outputs": [],
   "source": [
    "# Loop over all the tokens preprocessed by SpaCy\n",
    "for token in doc:\n",
    "    # If the token is detected as an entity\n",
    "    if token.ent_type_:\n",
    "        print(f\"{token.text}: {token.ent_type_}\")"
   ]
  },
  {
   "cell_type": "markdown",
   "metadata": {},
   "source": [
    "## SpaCy's magic\n",
    "\n",
    "Simple right? Well, that's the whole purpose of SpaCy. They provide state of the art models with simple usage.\n",
    "\n",
    "Also, the documentation of SpaCy is amazing!\n",
    "\n",
    "## Limitations\n",
    "\n",
    "If you need to train a specific model because the general one's from SpaCy are not enough for your use-case, you will be stuck quite quickly with SpaCy.\n",
    "Why? Because even if you can train a custom model with SpaCy, you will find that SpaCy is not that flexible and that's because it's not SpaCy's main purpose.\n",
    "\n",
    "## Alternatives\n",
    "\n",
    "SpaCy's equivalent with more flexibility is [NLTK](https://www.nltk.org/).\n",
    "NLTK is made as a framework to train deep learning NLP models.\n",
    "\n",
    "[BERT](https://towardsdatascience.com/bert-explained-state-of-the-art-language-model-for-nlp-f8b21a9b6270) is one of the state of the art model architecture for NLP. But it's a bit more complex.\n",
    "BERT is a [transformer](http://jalammar.github.io/illustrated-transformer/) (yes, like the robots) but we will see that later.\n",
    "\n",
    "\n",
    "## Practice time!\n",
    "With the text:\n",
    "```\n",
    "BeCode’s mission : Enabling tomorrow's digital talents to blossom.\n",
    "We believe that education makes anything possible.\n",
    "Since 2017, BeCode has been offering inclusive coding bootcamps for job seekers to become developers in partnership with Simplon.\n",
    "```\n",
    "\n",
    "Try to extracts entities with NLTK.\n",
    "\n",
    "*You don't need to get an amazing accuracy or to get all the entities, the purpose of this exercise is just to make you understand how the library works.*"
   ]
  },
  {
   "cell_type": "code",
   "execution_count": null,
   "metadata": {},
   "outputs": [],
   "source": [
    "# Import NLTK\n",
    "\n",
    "# Preprocess the text\n",
    "text = \"BeCode’s mission: Enabling tomorrow’s digital talents to blossom.We believe that education makes anything possible. Since 2017, BeCode has been offering inclusive coding bootcamps for jobseekers to become developers in partnership with Simplon.\"\n",
    "\n",
    "\n",
    "# Extract entities\n",
    "\n",
    "\n",
    "# Print entities detected\n",
    "\n"
   ]
  },
  {
   "cell_type": "markdown",
   "metadata": {},
   "source": [
    "## Additional resources\n",
    "* [NER with SpaCy and NTLK](https://towardsdatascience.com/named-entity-recognition-with-nltk-and-spacy-8c4a7d88e7da)\n",
    "* [What is named entity recognition (NER) and how can I use it?](https://medium.com/mysuperai/what-is-named-entity-recognition-ner-and-how-can-i-use-it-2b68cf6f545d)\n",
    "* [How does Named Entity Recognition help on Information Extraction in NLP?](https://towardsdatascience.com/named-entity-recognition-3fad3f53c91e)"
   ]
  },
  {
   "cell_type": "markdown",
   "metadata": {},
   "source": [
    "## Final word about SpaCy and NLTK\n",
    "SpaCy and NLTK are fantastic tools that you **need to have** under your belt.\n",
    "\n",
    "If you plan to work in the NLP field, all the time spent learning how to use those libraries is precious.\n",
    "\n",
    "![cool machine](https://media.giphy.com/media/1flAwtHCYosL6LWnHr/giphy.gif)\n"
   ]
  }
 ],
 "metadata": {
  "kernelspec": {
   "display_name": "Python 3",
   "language": "python",
   "name": "python3"
  },
  "language_info": {
   "codemirror_mode": {
    "name": "ipython",
    "version": 3
   },
   "file_extension": ".py",
   "mimetype": "text/x-python",
   "name": "python",
   "nbconvert_exporter": "python",
   "pygments_lexer": "ipython3",
   "version": "3.7.5"
  }
 },
 "nbformat": 4,
 "nbformat_minor": 2
}
