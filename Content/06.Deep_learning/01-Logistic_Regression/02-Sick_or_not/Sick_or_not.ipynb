{
 "cells": [
  {
   "cell_type": "markdown",
   "metadata": {},
   "source": [
    "# Sick or not ?\n",
    "\n",
    "Neural networks are also used and work very well on more traditional data sets than images. Here is a set of data that contains a column with the white blood cell rate, another with the red blood cell rate and a last one with an indication of who is sick or not. (Not sick = 0, sick = 1)\n",
    "\n",
    "The (fictionals) dataset is located in the dataset folder, here is the path :  \n",
    "\n",
    "``\"./dataset/sick_or_not.csv\"`` \n",
    "\n",
    "Rows : 40000\n",
    "\n",
    "## Your task:\n",
    "\n",
    "Design a model that recognizes if the person is sick based on white and red blood cells.  \n",
    "Use neural networks to perform this task. \n",
    "\n",
    "![](https://d418bv7mr3wfv.cloudfront.net/s3/W1siZiIsIjIwMTcvMDUvMzAvMDYvNTMvNTcvODk3L2dpcmwtMjE3MTA1Ml85NjBfNzIwLmpwZyJdLFsicCIsInRodW1iIiwiOTgweDU4MCMiXV0)"
   ]
  },
  {
   "cell_type": "markdown",
   "metadata": {},
   "source": [
    "### Score to beat :\n",
    "Accuracy: **% 96.025**  \n",
    "Loss : **0.1151**  \n",
    "Epochs : **40**  \n",
    "That means that out of **8000** test samples, this model got **7682** correct and **318** incorrect."
   ]
  },
  {
   "cell_type": "code",
   "execution_count": 1,
   "metadata": {},
   "outputs": [],
   "source": [
    "###Enter your code here !\n",
    "import pandas as pd \n",
    "import numpy as np"
   ]
  },
  {
   "cell_type": "code",
   "execution_count": 3,
   "metadata": {},
   "outputs": [
    {
     "data": {
      "text/html": [
       "<div>\n",
       "<style scoped>\n",
       "    .dataframe tbody tr th:only-of-type {\n",
       "        vertical-align: middle;\n",
       "    }\n",
       "\n",
       "    .dataframe tbody tr th {\n",
       "        vertical-align: top;\n",
       "    }\n",
       "\n",
       "    .dataframe thead th {\n",
       "        text-align: right;\n",
       "    }\n",
       "</style>\n",
       "<table border=\"1\" class=\"dataframe\">\n",
       "  <thead>\n",
       "    <tr style=\"text-align: right;\">\n",
       "      <th></th>\n",
       "      <th>white_blood_cell</th>\n",
       "      <th>red_blood_cell</th>\n",
       "      <th>sick</th>\n",
       "    </tr>\n",
       "  </thead>\n",
       "  <tbody>\n",
       "    <tr>\n",
       "      <th>0</th>\n",
       "      <td>1.178028</td>\n",
       "      <td>0.464315</td>\n",
       "      <td>0.0</td>\n",
       "    </tr>\n",
       "    <tr>\n",
       "      <th>1</th>\n",
       "      <td>0.844175</td>\n",
       "      <td>2.440351</td>\n",
       "      <td>0.0</td>\n",
       "    </tr>\n",
       "    <tr>\n",
       "      <th>2</th>\n",
       "      <td>2.878409</td>\n",
       "      <td>-1.438124</td>\n",
       "      <td>1.0</td>\n",
       "    </tr>\n",
       "    <tr>\n",
       "      <th>3</th>\n",
       "      <td>-0.057521</td>\n",
       "      <td>2.054928</td>\n",
       "      <td>1.0</td>\n",
       "    </tr>\n",
       "    <tr>\n",
       "      <th>4</th>\n",
       "      <td>-1.232600</td>\n",
       "      <td>-2.722805</td>\n",
       "      <td>0.0</td>\n",
       "    </tr>\n",
       "  </tbody>\n",
       "</table>\n",
       "</div>"
      ],
      "text/plain": [
       "   white_blood_cell  red_blood_cell  sick\n",
       "0          1.178028        0.464315   0.0\n",
       "1          0.844175        2.440351   0.0\n",
       "2          2.878409       -1.438124   1.0\n",
       "3         -0.057521        2.054928   1.0\n",
       "4         -1.232600       -2.722805   0.0"
      ]
     },
     "execution_count": 3,
     "metadata": {},
     "output_type": "execute_result"
    }
   ],
   "source": [
    "sick = pd.read_csv('dataset/sick_or_not.csv')\n",
    "sick.head()"
   ]
  },
  {
   "cell_type": "code",
   "execution_count": 4,
   "metadata": {},
   "outputs": [
    {
     "name": "stdout",
     "output_type": "stream",
     "text": [
      "<class 'pandas.core.frame.DataFrame'>\n",
      "RangeIndex: 40000 entries, 0 to 39999\n",
      "Data columns (total 3 columns):\n",
      " #   Column            Non-Null Count  Dtype  \n",
      "---  ------            --------------  -----  \n",
      " 0   white_blood_cell  40000 non-null  float64\n",
      " 1   red_blood_cell    40000 non-null  float64\n",
      " 2   sick              40000 non-null  float64\n",
      "dtypes: float64(3)\n",
      "memory usage: 937.6 KB\n"
     ]
    }
   ],
   "source": [
    "sick.info()"
   ]
  },
  {
   "cell_type": "code",
   "execution_count": 7,
   "metadata": {},
   "outputs": [],
   "source": [
    "# Import necessary modules\n",
    "import keras\n",
    "from keras.layers import Dense\n",
    "from keras.models import Sequential\n",
    "from keras.utils import to_categorical\n",
    "\n",
    "X = sick.drop(['sick'], axis=1).values\n",
    "y = to_categorical(sick.sick)\n",
    "\n",
    "# Save the number of columns in predictors: n_cols\n",
    "n_cols = X.shape[1]\n",
    "n_cats = y.shape[1]"
   ]
  },
  {
   "cell_type": "code",
   "execution_count": 9,
   "metadata": {},
   "outputs": [
    {
     "name": "stdout",
     "output_type": "stream",
     "text": [
      "Epoch 1/40\n",
      "875/875 [==============================] - 1s 1ms/step - loss: 0.1303 - accuracy: 0.9550 - val_loss: 0.1131 - val_accuracy: 0.9535\n",
      "Epoch 2/40\n",
      "875/875 [==============================] - 1s 1ms/step - loss: 0.1144 - accuracy: 0.9548 - val_loss: 0.1115 - val_accuracy: 0.9551\n",
      "Epoch 3/40\n",
      "875/875 [==============================] - 1s 1ms/step - loss: 0.1139 - accuracy: 0.9555 - val_loss: 0.1191 - val_accuracy: 0.9528\n",
      "Epoch 4/40\n",
      "875/875 [==============================] - 1s 1ms/step - loss: 0.1139 - accuracy: 0.9557 - val_loss: 0.1119 - val_accuracy: 0.9553\n",
      "Epoch 5/40\n",
      "875/875 [==============================] - 1s 1ms/step - loss: 0.1139 - accuracy: 0.9556 - val_loss: 0.1111 - val_accuracy: 0.9563\n",
      "Epoch 6/40\n",
      "875/875 [==============================] - 1s 1ms/step - loss: 0.1140 - accuracy: 0.9559 - val_loss: 0.1120 - val_accuracy: 0.9546\n",
      "Epoch 7/40\n",
      "875/875 [==============================] - 1s 1ms/step - loss: 0.1135 - accuracy: 0.9557 - val_loss: 0.1137 - val_accuracy: 0.9548\n",
      "Epoch 8/40\n",
      "875/875 [==============================] - 1s 1ms/step - loss: 0.1140 - accuracy: 0.9559 - val_loss: 0.1125 - val_accuracy: 0.9557\n",
      "Epoch 9/40\n",
      "875/875 [==============================] - 1s 1ms/step - loss: 0.1139 - accuracy: 0.9554 - val_loss: 0.1100 - val_accuracy: 0.9555\n",
      "Epoch 10/40\n",
      "875/875 [==============================] - 1s 1ms/step - loss: 0.1133 - accuracy: 0.9569 - val_loss: 0.1096 - val_accuracy: 0.9553\n",
      "Epoch 11/40\n",
      "875/875 [==============================] - 1s 1ms/step - loss: 0.1135 - accuracy: 0.9560 - val_loss: 0.1107 - val_accuracy: 0.9544\n",
      "Epoch 12/40\n",
      "875/875 [==============================] - 1s 1ms/step - loss: 0.1140 - accuracy: 0.9563 - val_loss: 0.1091 - val_accuracy: 0.9560\n",
      "Epoch 13/40\n",
      "875/875 [==============================] - 1s 1ms/step - loss: 0.1130 - accuracy: 0.9565 - val_loss: 0.1142 - val_accuracy: 0.9542\n",
      "Epoch 14/40\n",
      "875/875 [==============================] - 1s 1ms/step - loss: 0.1130 - accuracy: 0.9560 - val_loss: 0.1093 - val_accuracy: 0.9561\n",
      "Epoch 15/40\n",
      "875/875 [==============================] - 1s 1ms/step - loss: 0.1129 - accuracy: 0.9557 - val_loss: 0.1096 - val_accuracy: 0.9554\n",
      "Epoch 16/40\n",
      "875/875 [==============================] - 1s 2ms/step - loss: 0.1130 - accuracy: 0.9560 - val_loss: 0.1107 - val_accuracy: 0.9542\n",
      "Epoch 17/40\n",
      "875/875 [==============================] - 2s 2ms/step - loss: 0.1134 - accuracy: 0.9548 - val_loss: 0.1135 - val_accuracy: 0.9541\n",
      "Epoch 18/40\n",
      "875/875 [==============================] - 2s 2ms/step - loss: 0.1134 - accuracy: 0.9563 - val_loss: 0.1115 - val_accuracy: 0.9552\n",
      "Epoch 19/40\n",
      "875/875 [==============================] - 1s 1ms/step - loss: 0.1128 - accuracy: 0.9560 - val_loss: 0.1109 - val_accuracy: 0.9544\n",
      "Epoch 20/40\n",
      "875/875 [==============================] - 1s 1ms/step - loss: 0.1133 - accuracy: 0.9558 - val_loss: 0.1098 - val_accuracy: 0.9563\n",
      "Epoch 21/40\n",
      "875/875 [==============================] - 1s 2ms/step - loss: 0.1129 - accuracy: 0.9558 - val_loss: 0.1100 - val_accuracy: 0.9555\n",
      "Epoch 22/40\n",
      "875/875 [==============================] - 1s 2ms/step - loss: 0.1129 - accuracy: 0.9563 - val_loss: 0.1118 - val_accuracy: 0.9557\n",
      "Epoch 23/40\n",
      "875/875 [==============================] - 1s 2ms/step - loss: 0.1130 - accuracy: 0.9558 - val_loss: 0.1116 - val_accuracy: 0.9542\n",
      "Epoch 24/40\n",
      "875/875 [==============================] - 1s 2ms/step - loss: 0.1125 - accuracy: 0.9564 - val_loss: 0.1103 - val_accuracy: 0.9560\n",
      "Epoch 25/40\n",
      "875/875 [==============================] - 1s 1ms/step - loss: 0.1133 - accuracy: 0.9561 - val_loss: 0.1092 - val_accuracy: 0.9561\n",
      "Epoch 26/40\n",
      "875/875 [==============================] - 1s 1ms/step - loss: 0.1130 - accuracy: 0.9559 - val_loss: 0.1101 - val_accuracy: 0.9561\n",
      "Epoch 27/40\n",
      "875/875 [==============================] - 1s 2ms/step - loss: 0.1132 - accuracy: 0.9557 - val_loss: 0.1093 - val_accuracy: 0.9547\n",
      "Epoch 28/40\n",
      "875/875 [==============================] - 1s 2ms/step - loss: 0.1131 - accuracy: 0.9557 - val_loss: 0.1099 - val_accuracy: 0.9566\n",
      "Epoch 29/40\n",
      "875/875 [==============================] - 1s 2ms/step - loss: 0.1127 - accuracy: 0.9560 - val_loss: 0.1123 - val_accuracy: 0.9545\n",
      "Epoch 30/40\n",
      "875/875 [==============================] - 1s 2ms/step - loss: 0.1128 - accuracy: 0.9561 - val_loss: 0.1115 - val_accuracy: 0.9540\n",
      "Epoch 31/40\n",
      "875/875 [==============================] - 1s 1ms/step - loss: 0.1128 - accuracy: 0.9563 - val_loss: 0.1121 - val_accuracy: 0.9540\n",
      "Epoch 32/40\n",
      "875/875 [==============================] - 1s 1ms/step - loss: 0.1134 - accuracy: 0.9558 - val_loss: 0.1126 - val_accuracy: 0.9536\n",
      "Epoch 33/40\n",
      "875/875 [==============================] - 1s 1ms/step - loss: 0.1124 - accuracy: 0.9571 - val_loss: 0.1092 - val_accuracy: 0.9547\n",
      "Epoch 34/40\n",
      "875/875 [==============================] - 1s 2ms/step - loss: 0.1126 - accuracy: 0.9560 - val_loss: 0.1105 - val_accuracy: 0.9542\n",
      "Epoch 35/40\n",
      "875/875 [==============================] - 1s 2ms/step - loss: 0.1126 - accuracy: 0.9566 - val_loss: 0.1107 - val_accuracy: 0.9549\n",
      "Epoch 36/40\n",
      "875/875 [==============================] - 1s 2ms/step - loss: 0.1125 - accuracy: 0.9564 - val_loss: 0.1131 - val_accuracy: 0.9546\n",
      "Epoch 37/40\n",
      "875/875 [==============================] - 1s 2ms/step - loss: 0.1129 - accuracy: 0.9562 - val_loss: 0.1100 - val_accuracy: 0.9558\n",
      "Epoch 38/40\n",
      "875/875 [==============================] - 1s 2ms/step - loss: 0.1128 - accuracy: 0.9556 - val_loss: 0.1113 - val_accuracy: 0.9549\n",
      "Epoch 39/40\n",
      "875/875 [==============================] - 1s 2ms/step - loss: 0.1123 - accuracy: 0.9569 - val_loss: 0.1096 - val_accuracy: 0.9557\n",
      "Epoch 40/40\n",
      "875/875 [==============================] - 1s 2ms/step - loss: 0.1123 - accuracy: 0.9565 - val_loss: 0.1116 - val_accuracy: 0.9539\n"
     ]
    },
    {
     "data": {
      "text/plain": [
       "<tensorflow.python.keras.callbacks.History at 0x7efebc7b1650>"
      ]
     },
     "execution_count": 9,
     "metadata": {},
     "output_type": "execute_result"
    }
   ],
   "source": [
    "# Create the model: model\n",
    "model = Sequential()\n",
    "\n",
    "# Add the first hidden layer\n",
    "model.add(Dense(50, activation='relu', input_shape=(n_cols,)))\n",
    "\n",
    "# Add the second hidden layer\n",
    "model.add(Dense(50, activation='relu'))\n",
    "\n",
    "# Add the output layer\n",
    "model.add(Dense(n_cats, activation='softmax'))\n",
    "\n",
    "# Compile the model\n",
    "model.compile(optimizer='adam',\n",
    "              loss='categorical_crossentropy',\n",
    "              metrics=['accuracy'])\n",
    "\n",
    "# Fit the model\n",
    "model.fit(X, y, epochs=40, validation_split=0.3)"
   ]
  },
  {
   "cell_type": "code",
   "execution_count": null,
   "metadata": {},
   "outputs": [],
   "source": []
  }
 ],
 "metadata": {
  "kernelspec": {
   "display_name": "Python 3",
   "language": "python",
   "name": "python3"
  },
  "language_info": {
   "codemirror_mode": {
    "name": "ipython",
    "version": 3
   },
   "file_extension": ".py",
   "mimetype": "text/x-python",
   "name": "python",
   "nbconvert_exporter": "python",
   "pygments_lexer": "ipython3",
   "version": "3.7.5"
  }
 },
 "nbformat": 4,
 "nbformat_minor": 2
}
