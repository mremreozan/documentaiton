{
 "cells": [
  {
   "cell_type": "markdown",
   "metadata": {},
   "source": [
    "# Build your first neural network (with Keras)\n",
    "Neural networks are an area of machine learning that we are hearing a lot about right now... From speech recognition to image searching, autonomous cars and AlphaGo, many of the recent successes of artificial intelligence are based on deep neural networks."
   ]
  },
  {
   "cell_type": "markdown",
   "metadata": {},
   "source": [
    "## What is Keras ?\n",
    "Keras is a high-level neural networks API, written in Python and capable of running on top of TensorFlow, CNTK, or Theano. It was developed with a focus on enabling fast experimentation. Being able to go from idea to result with the least possible delay is key to doing good research.\n",
    "\n",
    "\n",
    "### Install Keras\n",
    "\n",
    "To install this package with conda run one of the following:\n",
    "````\n",
    "conda install -c conda-forge keras \n",
    "conda install -c conda-forge/label/cf201901 keras \n",
    "````\n",
    "\n",
    "Or with pip3\n",
    "````\n",
    "sudo pip3 install keras\n",
    "````"
   ]
  },
  {
   "cell_type": "markdown",
   "metadata": {},
   "source": [
    "## What is the neural network ?\n",
    "A neural network is a set of interconnected formal neurons that solves complex problems such as pattern recognition or natural language processing by adjusting weighting coefficients in a learning phase.\n"
   ]
  },
  {
   "cell_type": "markdown",
   "metadata": {},
   "source": [
    "###  Operation of the neural network\n",
    "A neural network is inspired by the functioning of biological neurons and takes shape in a computer as an algorithm.  \n",
    "The neural network can modify itself according to the results of its actions, which allows learning and problem solving without algorithms, and therefore without traditional programming."
   ]
  },
  {
   "cell_type": "markdown",
   "metadata": {},
   "source": [
    "![biologic vs artificial neuron](./img/bioVSart.png)"
   ]
  },
  {
   "cell_type": "markdown",
   "metadata": {},
   "source": [
    "For our purposes, we can model this neuron according to a set of inputs, which receives a weighted sum of these inputs using weights, adds bias and provides a number based on an activation function. \n"
   ]
  },
  {
   "cell_type": "markdown",
   "metadata": {},
   "source": [
    "![one neuron](./img/nl.png)"
   ]
  },
  {
   "cell_type": "markdown",
   "metadata": {},
   "source": [
    "- **The weights** can be considered as a set of buttons that can be adjusted to obtain different outputs.  \n",
    "\n",
    "\n",
    "- **Bias** can be considered as another button that decides when a neuron remains inactive or, in other words, to what extent the weighted sum must be high for the neuron to be significantly active.  \n",
    "\n",
    "\n",
    "- **The activation function** We will see in more detail the next paragraph"
   ]
  },
  {
   "cell_type": "markdown",
   "metadata": {},
   "source": [
    "### What is an activation function?  \n",
    "\n",
    "The activation function was inspired by the \"action potential\", an electrical phenomenon between two biological neurons.\n",
    "\n",
    "Let's start with a quick reminder of the biology class: A neuron has a cell body, an axon that allows it to send messages to other neurons and dendrites that allow it to receive signals from other neurons.\n",
    "\n",
    "![Image de neuronne](./img/cn.jpg)\n",
    "\n",
    "The neuron receives signals from other neurons through the dendrites. The weight associated with a dendrite, called synaptic weight, is multiplied by the incoming signal. Dendrite signals are accumulated in the cell body and if the resulting signal strength exceeds a certain threshold, the neuron transmits the message to the axon. Otherwise, the signal is killed by the neuron and does not spread any further. The action potential is therefore the variation in signal strength indicating whether or not communication should take place.\n",
    "\n",
    "The activation function decides whether or not to transmit the signal. In this case, it is a simple function with only one parameter: the threshold. Now, when we learn something new, the threshold and connection probability (called synaptic weight) of some neurons change. This creates new connections between neurons, allowing the brain to learn new things.\n",
    "\n",
    "Now let's see how all this works with an artificial neural network: The incoming values in a neuron (x1, x2, x3, ..., xn) are multiplied with their associated weights (reference to synaptic weight) (w1, w2, w3, ..., wn). These multipications are then summed and the bias (reference to the threshold) is added. The image below shows the calculation formula.\n",
    "\n",
    "The purpose of activation is to transform the signal so as to obtain an output value from complex transformations between the inputs. To do this, the activation function must be non-linear. It is this non-linearity that makes it possible to create such transformations.\n",
    "\n",
    "The most commonly used examples of activation functions are sigmoid, softmax, ReLU, tanh, etc.\n",
    "\n",
    "![factivation functions](./img/reLU.png)\n",
    "\n",
    "**Sigmoid :**  \n",
    "The main reason why we use sigmoid function is because it exists between (0 to 1). Therefore, it is especially used for models where we have to predict the probability as an output.Since probability of anything exists only between the range of 0 and 1, sigmoid is the right choice.\n",
    "\n",
    "**Tanh or hyperbolic tangent :**  \n",
    "Tanh is also like logistic sigmoid but better. The range of the tanh function is from (-1 to 1). tanh is also sigmoidal (s - shaped).The advantage is that the negative inputs will be mapped strongly negative and the zero inputs will be mapped near zero in the tanh graph.\n",
    "\n",
    "**ReLU (Rectified Linear Unit) :**  \n",
    "The ReLU is the most used activation function in the world right now.Since, it is used in almost all the convolutional neural networks or deep learning.\n",
    "\n",
    "There are others that are less used. I'll let you check Google to find out."
   ]
  },
  {
   "cell_type": "markdown",
   "metadata": {},
   "source": [
    "### Structure of the network\n",
    "Now that we know how a single neuron works, we can connect them together to form a network in the form of layers.  \n",
    "So an artificial neural network is just an overrated composite function."
   ]
  },
  {
   "cell_type": "markdown",
   "metadata": {},
   "source": [
    "![multicouche](./img/multi.png)"
   ]
  },
  {
   "cell_type": "markdown",
   "metadata": {},
   "source": [
    "A typical neural network consists of 3 types of layers:  \n",
    "\n",
    "- **The input layer:** The given data points are fed into this layer. There can be only 1 input layer. The number of neurons in this layer is equal to the number of inputs. Let's imagine that in input there is a photo that is 28 pixels by 28 pixels. So we need 1 neuron per pixel, which makes 784 Neurons    \n",
    "\n",
    "\n",
    "- **The hidden layers:** These are the layers that try to find patterns in the inputs to get the outputs we need. A network can have an unlimited number of hidden layers.  \n",
    "\n",
    "\n",
    "- **The output layer:** This layer gives us the predictions of the network, ie. the outputs that the network thinks should be correct given its current parameters (weights and biases each neuron). The number of neurons in this layer is equal to the number of values we need to predict. Imagine that we want to create an algorithm that recognizes numbers. Since there are ten digits to recognize (0 to 9), there will be 10 neurons. "
   ]
  },
  {
   "cell_type": "markdown",
   "metadata": {},
   "source": [
    "![neural network](./img/3lnn.svg)"
   ]
  },
  {
   "cell_type": "markdown",
   "metadata": {},
   "source": [
    "Let's see how to implement this"
   ]
  },
  {
   "cell_type": "markdown",
   "metadata": {},
   "source": [
    "## Our dataset: handwritten digits\n",
    "\n",
    "### Overview\n",
    "The MNIST dataset was constructed from two datasets of the US National Institute of Standards and Technology (NIST). The training set consists of handwritten digits from 250 different people, 50 percent high school students, and 50 percent employees from the Census Bureau. Note that the test set contains handwritten digits from different people following the same split.\n",
    "\n",
    "The MNIST dataset is publicly available at http://yann.lecun.com/exdb/mnist/ \n",
    "\n",
    "**But we use keras.datasets**  \n",
    "keras has some methods to download some data known as Yann Lecun's the Dataset.  \n",
    "Feel free to watch and play with the other datasets\n",
    "\n",
    "- https://keras.io/datasets/\n",
    "\n",
    "Before we create and train a model, we have to get some data. We'll be training our network to recognize images of handwritten digits - an easy task for a person, but it would be very difficult to write code that does the same thing without using machine learning.\n",
    "\n",
    "We keep the training and test data separate so we can confirm that our model is able to make predictions on image that it never \"saw\" when it was being trained."
   ]
  },
  {
   "cell_type": "markdown",
   "metadata": {},
   "source": [
    "### Import some tools"
   ]
  },
  {
   "cell_type": "code",
   "execution_count": 2,
   "metadata": {},
   "outputs": [],
   "source": [
    "import keras\n",
    "import numpy as np\n",
    "from keras.datasets import mnist\n",
    "from keras.models import Sequential\n",
    "from keras.layers import Dense, Dropout, Flatten, Activation\n",
    "from keras.layers import Conv2D, MaxPooling2D\n",
    "from keras import backend as K"
   ]
  },
  {
   "cell_type": "markdown",
   "metadata": {},
   "source": [
    "When we download our data, `x_train_raw` will hold the images we'll be using to train our network, and `y_train_raw` will have the integers that are drawn in those images. Similarly, `x_test_raw` will have the images we'll use to test our accuracy and `y_test_raw` will hold the integers we're trying to find. \n",
    "\n",
    "They're suffixed with `_raw` because we'll need to do some preprocessing before we can use this data to train."
   ]
  },
  {
   "cell_type": "code",
   "execution_count": 3,
   "metadata": {},
   "outputs": [
    {
     "name": "stdout",
     "output_type": "stream",
     "text": [
      "Downloading data from https://storage.googleapis.com/tensorflow/tf-keras-datasets/mnist.npz\n",
      "11493376/11490434 [==============================] - 1s 0us/step\n"
     ]
    }
   ],
   "source": [
    "# First we'll download the data. \n",
    "# The data, shuffled and split between train and test sets.\n",
    "(x_train_raw, y_train_raw), (x_test_raw, y_test_raw) = mnist.load_data()"
   ]
  },
  {
   "cell_type": "markdown",
   "metadata": {},
   "source": [
    "**Exercise** : Let's see what we're working with here. Display the object type for ``x_train_raw`` and ``y_train_raw``."
   ]
  },
  {
   "cell_type": "code",
   "execution_count": 4,
   "metadata": {},
   "outputs": [
    {
     "name": "stdout",
     "output_type": "stream",
     "text": [
      "<class 'numpy.ndarray'>\n",
      "<class 'numpy.ndarray'>\n"
     ]
    }
   ],
   "source": [
    "### ENTER YOUR CODE HERE ###\n",
    "print(type(x_train_raw))\n",
    "print(type(y_train_raw))"
   ]
  },
  {
   "cell_type": "markdown",
   "metadata": {},
   "source": [
    "The result should be ``<class 'numpy.ndarray'>``.  \n",
    "\n",
    "**Exercise** : Displays the number of dimensions of ``x_train_raw`` and ``y_train_raw`` with the shape property."
   ]
  },
  {
   "cell_type": "code",
   "execution_count": 5,
   "metadata": {},
   "outputs": [
    {
     "name": "stdout",
     "output_type": "stream",
     "text": [
      "(60000, 28, 28)\n",
      "(60000,)\n"
     ]
    }
   ],
   "source": [
    "### ENTER YOUR CODE HERE ###\n",
    "print(x_train_raw.shape)\n",
    "print(y_train_raw.shape)"
   ]
  },
  {
   "cell_type": "markdown",
   "metadata": {},
   "source": [
    "The result should be : \n",
    "````\n",
    "Shape of x_train_raw: (60000, 28, 28)\n",
    "Shape of y_train_raw: (60000,)\n",
    "````\n",
    "\n",
    "The (60000, 28, 28) means there are 60,000 samples in x_train, and each sample is a 2D array with 28 rows and 28 columns.  \n",
    "The (60000,) means there are 60,000 values (labels) in y_train."
   ]
  },
  {
   "cell_type": "markdown",
   "metadata": {},
   "source": [
    "Let's look at some of the images we'll be training on.\n",
    "- Each one is 28 pixels by 28 pixels, and totally black and white.\n",
    "- The 28 rows and 28 columns of numbers in the training data correspond to the 28 rows and 28 columns of pixels in the image.\n",
    "- The darkness of each pixel is represented as a number in the training data, where 0 is a white pixel and 255 is a black pixel. "
   ]
  },
  {
   "cell_type": "markdown",
   "metadata": {},
   "source": [
    "Let's display the images with Matplotlib and the imgshow() method.  \n",
    "Change the i variable to see other images. "
   ]
  },
  {
   "cell_type": "code",
   "execution_count": 6,
   "metadata": {},
   "outputs": [
    {
     "data": {
      "image/png": "[encoded data removed]",
      "text/plain": [
       "<Figure size 432x288 with 1 Axes>"
      ]
     },
     "metadata": {
      "needs_background": "light"
     },
     "output_type": "display_data"
    },
    {
     "name": "stdout",
     "output_type": "stream",
     "text": [
      "This image represents the number 5\n"
     ]
    }
   ],
   "source": [
    "# Import matplotlib\n",
    "import matplotlib.pyplot as plt \n",
    "\n",
    "# Change the value of i and re-run this cell to look at different samples. There's 60,000 to choose from!\n",
    "i = 0\n",
    "\n",
    "plt.imshow(x_train_raw[i], cmap='Greys', interpolation='nearest')\n",
    "plt.show()\n",
    "\n",
    "print('This image represents the number', y_train_raw[i])"
   ]
  },
  {
   "cell_type": "code",
   "execution_count": 7,
   "metadata": {},
   "outputs": [
    {
     "name": "stdout",
     "output_type": "stream",
     "text": [
      "[[  0   0   0   0   0   0   0   0   0   0   0   0   0   0   0   0   0   0\n",
      "    0   0   0   0   0   0   0   0   0   0]\n",
      " [  0   0   0   0   0   0   0   0   0   0   0   0   0   0   0   0   0   0\n",
      "    0   0   0   0   0   0   0   0   0   0]\n",
      " [  0   0   0   0   0   0   0   0   0   0   0   0   0   0   0   0   0   0\n",
      "    0   0   0   0   0   0   0   0   0   0]\n",
      " [  0   0   0   0   0   0   0   0   0   0   0   0   0   0   0   0   0   0\n",
      "    0   0   0   0   0   0   0   0   0   0]\n",
      " [  0   0   0   0   0   0   0   0   0   0   0   0   0   0   0   0   0   0\n",
      "    0   0   0   0   0   0   0   0   0   0]\n",
      " [  0   0   0   0   0   0   0   0   0   0   0   0   3  18  18  18 126 136\n",
      "  175  26 166 255 247 127   0   0   0   0]\n",
      " [  0   0   0   0   0   0   0   0  30  36  94 154 170 253 253 253 253 253\n",
      "  225 172 253 242 195  64   0   0   0   0]\n",
      " [  0   0   0   0   0   0   0  49 238 253 253 253 253 253 253 253 253 251\n",
      "   93  82  82  56  39   0   0   0   0   0]\n",
      " [  0   0   0   0   0   0   0  18 219 253 253 253 253 253 198 182 247 241\n",
      "    0   0   0   0   0   0   0   0   0   0]\n",
      " [  0   0   0   0   0   0   0   0  80 156 107 253 253 205  11   0  43 154\n",
      "    0   0   0   0   0   0   0   0   0   0]\n",
      " [  0   0   0   0   0   0   0   0   0  14   1 154 253  90   0   0   0   0\n",
      "    0   0   0   0   0   0   0   0   0   0]\n",
      " [  0   0   0   0   0   0   0   0   0   0   0 139 253 190   2   0   0   0\n",
      "    0   0   0   0   0   0   0   0   0   0]\n",
      " [  0   0   0   0   0   0   0   0   0   0   0  11 190 253  70   0   0   0\n",
      "    0   0   0   0   0   0   0   0   0   0]\n",
      " [  0   0   0   0   0   0   0   0   0   0   0   0  35 241 225 160 108   1\n",
      "    0   0   0   0   0   0   0   0   0   0]\n",
      " [  0   0   0   0   0   0   0   0   0   0   0   0   0  81 240 253 253 119\n",
      "   25   0   0   0   0   0   0   0   0   0]\n",
      " [  0   0   0   0   0   0   0   0   0   0   0   0   0   0  45 186 253 253\n",
      "  150  27   0   0   0   0   0   0   0   0]\n",
      " [  0   0   0   0   0   0   0   0   0   0   0   0   0   0   0  16  93 252\n",
      "  253 187   0   0   0   0   0   0   0   0]\n",
      " [  0   0   0   0   0   0   0   0   0   0   0   0   0   0   0   0   0 249\n",
      "  253 249  64   0   0   0   0   0   0   0]\n",
      " [  0   0   0   0   0   0   0   0   0   0   0   0   0   0  46 130 183 253\n",
      "  253 207   2   0   0   0   0   0   0   0]\n",
      " [  0   0   0   0   0   0   0   0   0   0   0   0  39 148 229 253 253 253\n",
      "  250 182   0   0   0   0   0   0   0   0]\n",
      " [  0   0   0   0   0   0   0   0   0   0  24 114 221 253 253 253 253 201\n",
      "   78   0   0   0   0   0   0   0   0   0]\n",
      " [  0   0   0   0   0   0   0   0  23  66 213 253 253 253 253 198  81   2\n",
      "    0   0   0   0   0   0   0   0   0   0]\n",
      " [  0   0   0   0   0   0  18 171 219 253 253 253 253 195  80   9   0   0\n",
      "    0   0   0   0   0   0   0   0   0   0]\n",
      " [  0   0   0   0  55 172 226 253 253 253 253 244 133  11   0   0   0   0\n",
      "    0   0   0   0   0   0   0   0   0   0]\n",
      " [  0   0   0   0 136 253 253 253 212 135 132  16   0   0   0   0   0   0\n",
      "    0   0   0   0   0   0   0   0   0   0]\n",
      " [  0   0   0   0   0   0   0   0   0   0   0   0   0   0   0   0   0   0\n",
      "    0   0   0   0   0   0   0   0   0   0]\n",
      " [  0   0   0   0   0   0   0   0   0   0   0   0   0   0   0   0   0   0\n",
      "    0   0   0   0   0   0   0   0   0   0]\n",
      " [  0   0   0   0   0   0   0   0   0   0   0   0   0   0   0   0   0   0\n",
      "    0   0   0   0   0   0   0   0   0   0]]\n"
     ]
    }
   ],
   "source": [
    "# This image equal this array\n",
    "print(x_train_raw[i])"
   ]
  },
  {
   "cell_type": "markdown",
   "metadata": {},
   "source": [
    "### Preparing the data for training\n",
    "\n",
    "#### Reshaping x\n",
    "\n",
    "Our neural network will have 784 neurons in the input layer - one for each pixel in a sample image. To prepare the data for training we'll reshape `x_train_raw` and `x_test_raw` so that each sample is a 2D array. \n",
    "\n",
    "**Exercise :** Reshape `x_train_raw` and `x_test_raw` in  ``(60000, 784)`` and ``(10000, 784)``\n"
   ]
  },
  {
   "cell_type": "code",
   "execution_count": 8,
   "metadata": {},
   "outputs": [],
   "source": [
    "### ENTER YOUR CODE HERE ### (2 lines)\n",
    "x_train = x_train_raw.reshape((60000, 784))\n",
    "x_test = x_test_raw.reshape((10000, 784))"
   ]
  },
  {
   "cell_type": "code",
   "execution_count": 10,
   "metadata": {},
   "outputs": [
    {
     "name": "stdout",
     "output_type": "stream",
     "text": [
      "Shape of x_train_raw: (60000, 784)\n",
      "Shape of x_test_raw: (10000, 784)\n"
     ]
    }
   ],
   "source": [
    "# Let's see what we're working with here\n",
    "print('Shape of x_train_raw:', x_train.shape)\n",
    "print('Shape of x_test_raw:', x_test.shape) "
   ]
  },
  {
   "cell_type": "code",
   "execution_count": 11,
   "metadata": {},
   "outputs": [
    {
     "data": {
      "text/plain": [
       "array([  0,   0,   0,   0,   0,   0,   0,   0,   0,   0,   0,   0,   0,\n",
       "         0,   0,   0,   0,   0,   0,   0,   0,   0,   0,   0,   0,   0,\n",
       "         0,   0,   0,   0,   0,   0,   0,   0,   0,   0,   0,   0,   0,\n",
       "         0,   0,   0,   0,   0,   0,   0,   0,   0,   0,   0,   0,   0,\n",
       "         0,   0,   0,   0,   0,   0,   0,   0,   0,   0,   0,   0,   0,\n",
       "         0,   0,   0,   0,   0,   0,   0,   0,   0,   0,   0,   0,   0,\n",
       "         0,   0,   0,   0,   0,   0,   0,   0,   0,   0,   0,   0,   0,\n",
       "         0,   0,   0,   0,   0,   0,   0,   0,   0,   0,   0,   0,   0,\n",
       "         0,   0,   0,   0,   0,   0,   0,   0,   0,   0,   0,   0,   0,\n",
       "         0,   0,   0,   0,   0,   0,   0,   0,   0,   0,   0,   0,   0,\n",
       "         0,   0,   0,   0,   0,   0,   0,   0,   0,   0,   0,   0,   0,\n",
       "         0,   0,   0,   0,   0,   0,   0,   0,   0,   3,  18,  18,  18,\n",
       "       126, 136, 175,  26, 166, 255, 247, 127,   0,   0,   0,   0,   0,\n",
       "         0,   0,   0,   0,   0,   0,   0,  30,  36,  94, 154, 170, 253,\n",
       "       253, 253, 253, 253, 225, 172, 253, 242, 195,  64,   0,   0,   0,\n",
       "         0,   0,   0,   0,   0,   0,   0,   0,  49, 238, 253, 253, 253,\n",
       "       253, 253, 253, 253, 253, 251,  93,  82,  82,  56,  39,   0,   0,\n",
       "         0,   0,   0,   0,   0,   0,   0,   0,   0,   0,  18, 219, 253,\n",
       "       253, 253, 253, 253, 198, 182, 247, 241,   0,   0,   0,   0,   0,\n",
       "         0,   0,   0,   0,   0,   0,   0,   0,   0,   0,   0,   0,   0,\n",
       "        80, 156, 107, 253, 253, 205,  11,   0,  43, 154,   0,   0,   0,\n",
       "         0,   0,   0,   0,   0,   0,   0,   0,   0,   0,   0,   0,   0,\n",
       "         0,   0,   0,  14,   1, 154, 253,  90,   0,   0,   0,   0,   0,\n",
       "         0,   0,   0,   0,   0,   0,   0,   0,   0,   0,   0,   0,   0,\n",
       "         0,   0,   0,   0,   0,   0,   0, 139, 253, 190,   2,   0,   0,\n",
       "         0,   0,   0,   0,   0,   0,   0,   0,   0,   0,   0,   0,   0,\n",
       "         0,   0,   0,   0,   0,   0,   0,   0,   0,  11, 190, 253,  70,\n",
       "         0,   0,   0,   0,   0,   0,   0,   0,   0,   0,   0,   0,   0,\n",
       "         0,   0,   0,   0,   0,   0,   0,   0,   0,   0,   0,   0,  35,\n",
       "       241, 225, 160, 108,   1,   0,   0,   0,   0,   0,   0,   0,   0,\n",
       "         0,   0,   0,   0,   0,   0,   0,   0,   0,   0,   0,   0,   0,\n",
       "         0,   0,  81, 240, 253, 253, 119,  25,   0,   0,   0,   0,   0,\n",
       "         0,   0,   0,   0,   0,   0,   0,   0,   0,   0,   0,   0,   0,\n",
       "         0,   0,   0,   0,   0,  45, 186, 253, 253, 150,  27,   0,   0,\n",
       "         0,   0,   0,   0,   0,   0,   0,   0,   0,   0,   0,   0,   0,\n",
       "         0,   0,   0,   0,   0,   0,   0,   0,  16,  93, 252, 253, 187,\n",
       "         0,   0,   0,   0,   0,   0,   0,   0,   0,   0,   0,   0,   0,\n",
       "         0,   0,   0,   0,   0,   0,   0,   0,   0,   0,   0,   0, 249,\n",
       "       253, 249,  64,   0,   0,   0,   0,   0,   0,   0,   0,   0,   0,\n",
       "         0,   0,   0,   0,   0,   0,   0,   0,   0,   0,   0,  46, 130,\n",
       "       183, 253, 253, 207,   2,   0,   0,   0,   0,   0,   0,   0,   0,\n",
       "         0,   0,   0,   0,   0,   0,   0,   0,   0,   0,   0,  39, 148,\n",
       "       229, 253, 253, 253, 250, 182,   0,   0,   0,   0,   0,   0,   0,\n",
       "         0,   0,   0,   0,   0,   0,   0,   0,   0,   0,   0,  24, 114,\n",
       "       221, 253, 253, 253, 253, 201,  78,   0,   0,   0,   0,   0,   0,\n",
       "         0,   0,   0,   0,   0,   0,   0,   0,   0,   0,   0,  23,  66,\n",
       "       213, 253, 253, 253, 253, 198,  81,   2,   0,   0,   0,   0,   0,\n",
       "         0,   0,   0,   0,   0,   0,   0,   0,   0,   0,   0,  18, 171,\n",
       "       219, 253, 253, 253, 253, 195,  80,   9,   0,   0,   0,   0,   0,\n",
       "         0,   0,   0,   0,   0,   0,   0,   0,   0,   0,   0,  55, 172,\n",
       "       226, 253, 253, 253, 253, 244, 133,  11,   0,   0,   0,   0,   0,\n",
       "         0,   0,   0,   0,   0,   0,   0,   0,   0,   0,   0,   0,   0,\n",
       "       136, 253, 253, 253, 212, 135, 132,  16,   0,   0,   0,   0,   0,\n",
       "         0,   0,   0,   0,   0,   0,   0,   0,   0,   0,   0,   0,   0,\n",
       "         0,   0,   0,   0,   0,   0,   0,   0,   0,   0,   0,   0,   0,\n",
       "         0,   0,   0,   0,   0,   0,   0,   0,   0,   0,   0,   0,   0,\n",
       "         0,   0,   0,   0,   0,   0,   0,   0,   0,   0,   0,   0,   0,\n",
       "         0,   0,   0,   0,   0,   0,   0,   0,   0,   0,   0,   0,   0,\n",
       "         0,   0,   0,   0,   0,   0,   0,   0,   0,   0,   0,   0,   0,\n",
       "         0,   0,   0,   0,   0,   0,   0,   0,   0,   0,   0,   0,   0,\n",
       "         0,   0,   0,   0], dtype=uint8)"
      ]
     },
     "execution_count": 11,
     "metadata": {},
     "output_type": "execute_result"
    }
   ],
   "source": [
    "x_train[i]"
   ]
  },
  {
   "cell_type": "markdown",
   "metadata": {},
   "source": [
    "#### Rescaling x\n",
    "\n",
    "We'll also rescale the values of `x_train` and `x_test` to be between 0 and 1.\n",
    "Scaling the data speeds up training."
   ]
  },
  {
   "cell_type": "code",
   "execution_count": 12,
   "metadata": {},
   "outputs": [],
   "source": [
    "x_train = x_train.astype('float32')\n",
    "x_test = x_test.astype('float32')\n",
    "x_train /= 255\n",
    "x_test /= 255"
   ]
  },
  {
   "cell_type": "code",
   "execution_count": 13,
   "metadata": {},
   "outputs": [
    {
     "data": {
      "text/plain": [
       "array([0.        , 0.        , 0.        , 0.        , 0.        ,\n",
       "       0.        , 0.        , 0.        , 0.        , 0.        ,\n",
       "       0.        , 0.        , 0.        , 0.        , 0.        ,\n",
       "       0.        , 0.        , 0.        , 0.        , 0.        ,\n",
       "       0.        , 0.        , 0.        , 0.        , 0.        ,\n",
       "       0.        , 0.        , 0.        , 0.        , 0.        ,\n",
       "       0.        , 0.        , 0.        , 0.        , 0.        ,\n",
       "       0.        , 0.        , 0.        , 0.        , 0.        ,\n",
       "       0.        , 0.        , 0.        , 0.        , 0.        ,\n",
       "       0.        , 0.        , 0.        , 0.        , 0.        ,\n",
       "       0.        , 0.        , 0.        , 0.        , 0.        ,\n",
       "       0.        , 0.        , 0.        , 0.        , 0.        ,\n",
       "       0.        , 0.        , 0.        , 0.        , 0.        ,\n",
       "       0.        , 0.        , 0.        , 0.        , 0.        ,\n",
       "       0.        , 0.        , 0.        , 0.        , 0.        ,\n",
       "       0.        , 0.        , 0.        , 0.        , 0.        ,\n",
       "       0.        , 0.        , 0.        , 0.        , 0.        ,\n",
       "       0.        , 0.        , 0.        , 0.        , 0.        ,\n",
       "       0.        , 0.        , 0.        , 0.        , 0.        ,\n",
       "       0.        , 0.        , 0.        , 0.        , 0.        ,\n",
       "       0.        , 0.        , 0.        , 0.        , 0.        ,\n",
       "       0.        , 0.        , 0.        , 0.        , 0.        ,\n",
       "       0.        , 0.        , 0.        , 0.        , 0.        ,\n",
       "       0.        , 0.        , 0.        , 0.        , 0.        ,\n",
       "       0.        , 0.        , 0.        , 0.        , 0.        ,\n",
       "       0.        , 0.        , 0.        , 0.        , 0.        ,\n",
       "       0.        , 0.        , 0.        , 0.        , 0.        ,\n",
       "       0.        , 0.        , 0.        , 0.        , 0.        ,\n",
       "       0.        , 0.        , 0.        , 0.        , 0.        ,\n",
       "       0.        , 0.        , 0.        , 0.        , 0.        ,\n",
       "       0.        , 0.        , 0.01176471, 0.07058824, 0.07058824,\n",
       "       0.07058824, 0.49411765, 0.53333336, 0.6862745 , 0.10196079,\n",
       "       0.6509804 , 1.        , 0.96862745, 0.49803922, 0.        ,\n",
       "       0.        , 0.        , 0.        , 0.        , 0.        ,\n",
       "       0.        , 0.        , 0.        , 0.        , 0.        ,\n",
       "       0.        , 0.11764706, 0.14117648, 0.36862746, 0.6039216 ,\n",
       "       0.6666667 , 0.99215686, 0.99215686, 0.99215686, 0.99215686,\n",
       "       0.99215686, 0.88235295, 0.6745098 , 0.99215686, 0.9490196 ,\n",
       "       0.7647059 , 0.2509804 , 0.        , 0.        , 0.        ,\n",
       "       0.        , 0.        , 0.        , 0.        , 0.        ,\n",
       "       0.        , 0.        , 0.        , 0.19215687, 0.93333334,\n",
       "       0.99215686, 0.99215686, 0.99215686, 0.99215686, 0.99215686,\n",
       "       0.99215686, 0.99215686, 0.99215686, 0.9843137 , 0.3647059 ,\n",
       "       0.32156864, 0.32156864, 0.21960784, 0.15294118, 0.        ,\n",
       "       0.        , 0.        , 0.        , 0.        , 0.        ,\n",
       "       0.        , 0.        , 0.        , 0.        , 0.        ,\n",
       "       0.        , 0.07058824, 0.85882354, 0.99215686, 0.99215686,\n",
       "       0.99215686, 0.99215686, 0.99215686, 0.7764706 , 0.7137255 ,\n",
       "       0.96862745, 0.94509804, 0.        , 0.        , 0.        ,\n",
       "       0.        , 0.        , 0.        , 0.        , 0.        ,\n",
       "       0.        , 0.        , 0.        , 0.        , 0.        ,\n",
       "       0.        , 0.        , 0.        , 0.        , 0.        ,\n",
       "       0.3137255 , 0.6117647 , 0.41960785, 0.99215686, 0.99215686,\n",
       "       0.8039216 , 0.04313726, 0.        , 0.16862746, 0.6039216 ,\n",
       "       0.        , 0.        , 0.        , 0.        , 0.        ,\n",
       "       0.        , 0.        , 0.        , 0.        , 0.        ,\n",
       "       0.        , 0.        , 0.        , 0.        , 0.        ,\n",
       "       0.        , 0.        , 0.        , 0.        , 0.05490196,\n",
       "       0.00392157, 0.6039216 , 0.99215686, 0.3529412 , 0.        ,\n",
       "       0.        , 0.        , 0.        , 0.        , 0.        ,\n",
       "       0.        , 0.        , 0.        , 0.        , 0.        ,\n",
       "       0.        , 0.        , 0.        , 0.        , 0.        ,\n",
       "       0.        , 0.        , 0.        , 0.        , 0.        ,\n",
       "       0.        , 0.        , 0.        , 0.        , 0.54509807,\n",
       "       0.99215686, 0.74509805, 0.00784314, 0.        , 0.        ,\n",
       "       0.        , 0.        , 0.        , 0.        , 0.        ,\n",
       "       0.        , 0.        , 0.        , 0.        , 0.        ,\n",
       "       0.        , 0.        , 0.        , 0.        , 0.        ,\n",
       "       0.        , 0.        , 0.        , 0.        , 0.        ,\n",
       "       0.        , 0.        , 0.04313726, 0.74509805, 0.99215686,\n",
       "       0.27450982, 0.        , 0.        , 0.        , 0.        ,\n",
       "       0.        , 0.        , 0.        , 0.        , 0.        ,\n",
       "       0.        , 0.        , 0.        , 0.        , 0.        ,\n",
       "       0.        , 0.        , 0.        , 0.        , 0.        ,\n",
       "       0.        , 0.        , 0.        , 0.        , 0.        ,\n",
       "       0.        , 0.13725491, 0.94509804, 0.88235295, 0.627451  ,\n",
       "       0.42352942, 0.00392157, 0.        , 0.        , 0.        ,\n",
       "       0.        , 0.        , 0.        , 0.        , 0.        ,\n",
       "       0.        , 0.        , 0.        , 0.        , 0.        ,\n",
       "       0.        , 0.        , 0.        , 0.        , 0.        ,\n",
       "       0.        , 0.        , 0.        , 0.        , 0.        ,\n",
       "       0.31764707, 0.9411765 , 0.99215686, 0.99215686, 0.46666667,\n",
       "       0.09803922, 0.        , 0.        , 0.        , 0.        ,\n",
       "       0.        , 0.        , 0.        , 0.        , 0.        ,\n",
       "       0.        , 0.        , 0.        , 0.        , 0.        ,\n",
       "       0.        , 0.        , 0.        , 0.        , 0.        ,\n",
       "       0.        , 0.        , 0.        , 0.        , 0.1764706 ,\n",
       "       0.7294118 , 0.99215686, 0.99215686, 0.5882353 , 0.10588235,\n",
       "       0.        , 0.        , 0.        , 0.        , 0.        ,\n",
       "       0.        , 0.        , 0.        , 0.        , 0.        ,\n",
       "       0.        , 0.        , 0.        , 0.        , 0.        ,\n",
       "       0.        , 0.        , 0.        , 0.        , 0.        ,\n",
       "       0.        , 0.        , 0.        , 0.0627451 , 0.3647059 ,\n",
       "       0.9882353 , 0.99215686, 0.73333335, 0.        , 0.        ,\n",
       "       0.        , 0.        , 0.        , 0.        , 0.        ,\n",
       "       0.        , 0.        , 0.        , 0.        , 0.        ,\n",
       "       0.        , 0.        , 0.        , 0.        , 0.        ,\n",
       "       0.        , 0.        , 0.        , 0.        , 0.        ,\n",
       "       0.        , 0.        , 0.        , 0.9764706 , 0.99215686,\n",
       "       0.9764706 , 0.2509804 , 0.        , 0.        , 0.        ,\n",
       "       0.        , 0.        , 0.        , 0.        , 0.        ,\n",
       "       0.        , 0.        , 0.        , 0.        , 0.        ,\n",
       "       0.        , 0.        , 0.        , 0.        , 0.        ,\n",
       "       0.        , 0.        , 0.        , 0.18039216, 0.50980395,\n",
       "       0.7176471 , 0.99215686, 0.99215686, 0.8117647 , 0.00784314,\n",
       "       0.        , 0.        , 0.        , 0.        , 0.        ,\n",
       "       0.        , 0.        , 0.        , 0.        , 0.        ,\n",
       "       0.        , 0.        , 0.        , 0.        , 0.        ,\n",
       "       0.        , 0.        , 0.        , 0.        , 0.15294118,\n",
       "       0.5803922 , 0.8980392 , 0.99215686, 0.99215686, 0.99215686,\n",
       "       0.98039216, 0.7137255 , 0.        , 0.        , 0.        ,\n",
       "       0.        , 0.        , 0.        , 0.        , 0.        ,\n",
       "       0.        , 0.        , 0.        , 0.        , 0.        ,\n",
       "       0.        , 0.        , 0.        , 0.        , 0.        ,\n",
       "       0.09411765, 0.44705883, 0.8666667 , 0.99215686, 0.99215686,\n",
       "       0.99215686, 0.99215686, 0.7882353 , 0.30588236, 0.        ,\n",
       "       0.        , 0.        , 0.        , 0.        , 0.        ,\n",
       "       0.        , 0.        , 0.        , 0.        , 0.        ,\n",
       "       0.        , 0.        , 0.        , 0.        , 0.        ,\n",
       "       0.        , 0.09019608, 0.25882354, 0.8352941 , 0.99215686,\n",
       "       0.99215686, 0.99215686, 0.99215686, 0.7764706 , 0.31764707,\n",
       "       0.00784314, 0.        , 0.        , 0.        , 0.        ,\n",
       "       0.        , 0.        , 0.        , 0.        , 0.        ,\n",
       "       0.        , 0.        , 0.        , 0.        , 0.        ,\n",
       "       0.        , 0.        , 0.07058824, 0.67058825, 0.85882354,\n",
       "       0.99215686, 0.99215686, 0.99215686, 0.99215686, 0.7647059 ,\n",
       "       0.3137255 , 0.03529412, 0.        , 0.        , 0.        ,\n",
       "       0.        , 0.        , 0.        , 0.        , 0.        ,\n",
       "       0.        , 0.        , 0.        , 0.        , 0.        ,\n",
       "       0.        , 0.        , 0.        , 0.21568628, 0.6745098 ,\n",
       "       0.8862745 , 0.99215686, 0.99215686, 0.99215686, 0.99215686,\n",
       "       0.95686275, 0.52156866, 0.04313726, 0.        , 0.        ,\n",
       "       0.        , 0.        , 0.        , 0.        , 0.        ,\n",
       "       0.        , 0.        , 0.        , 0.        , 0.        ,\n",
       "       0.        , 0.        , 0.        , 0.        , 0.        ,\n",
       "       0.        , 0.53333336, 0.99215686, 0.99215686, 0.99215686,\n",
       "       0.83137256, 0.5294118 , 0.5176471 , 0.0627451 , 0.        ,\n",
       "       0.        , 0.        , 0.        , 0.        , 0.        ,\n",
       "       0.        , 0.        , 0.        , 0.        , 0.        ,\n",
       "       0.        , 0.        , 0.        , 0.        , 0.        ,\n",
       "       0.        , 0.        , 0.        , 0.        , 0.        ,\n",
       "       0.        , 0.        , 0.        , 0.        , 0.        ,\n",
       "       0.        , 0.        , 0.        , 0.        , 0.        ,\n",
       "       0.        , 0.        , 0.        , 0.        , 0.        ,\n",
       "       0.        , 0.        , 0.        , 0.        , 0.        ,\n",
       "       0.        , 0.        , 0.        , 0.        , 0.        ,\n",
       "       0.        , 0.        , 0.        , 0.        , 0.        ,\n",
       "       0.        , 0.        , 0.        , 0.        , 0.        ,\n",
       "       0.        , 0.        , 0.        , 0.        , 0.        ,\n",
       "       0.        , 0.        , 0.        , 0.        , 0.        ,\n",
       "       0.        , 0.        , 0.        , 0.        , 0.        ,\n",
       "       0.        , 0.        , 0.        , 0.        , 0.        ,\n",
       "       0.        , 0.        , 0.        , 0.        , 0.        ,\n",
       "       0.        , 0.        , 0.        , 0.        , 0.        ,\n",
       "       0.        , 0.        , 0.        , 0.        , 0.        ,\n",
       "       0.        , 0.        , 0.        , 0.        , 0.        ,\n",
       "       0.        , 0.        , 0.        , 0.        ], dtype=float32)"
      ]
     },
     "execution_count": 13,
     "metadata": {},
     "output_type": "execute_result"
    }
   ],
   "source": [
    "x_train[i]"
   ]
  },
  {
   "cell_type": "markdown",
   "metadata": {},
   "source": [
    "Now all RGB's values have been converted to values ranging from 0 to 1."
   ]
  },
  {
   "cell_type": "markdown",
   "metadata": {},
   "source": [
    "#### Categorical encoding y\n",
    "\n",
    "We'll also change the values of `y_train` and `y_test` from integers to a categorical encoding. The new values will be arrays of length 10, where all the values are 0 except where the index is the desired number, which will be 1. For example, if the number represented in the image was 2, the cateorical encoding would be `[0, 0, 1, 0, 0, 0, 0, 0, 0, 0]` (since the third position has index 2).\n",
    "\n",
    "Why did we do this? This way our output layer will have 10 neurons, where each neuron corresponds to a different number.\n",
    "![target](./img/target.png)\n",
    "\n",
    "In the case of this image, it's 6\n",
    "\n",
    "**Exercice :** Convert `y_train_raw` and `y_test_raw` to binary class matrices with [to_categorical method](https://www.tensorflow.org/api_docs/python/tf/keras/utils/to_categorical)"
   ]
  },
  {
   "cell_type": "code",
   "execution_count": 14,
   "metadata": {},
   "outputs": [],
   "source": [
    "from keras.utils.np_utils import to_categorical\n",
    "\n",
    "### Convert `y_train_raw` and `y_test_raw` to binary class matrices\n",
    "### ENTER YOUR CODE HERE ### (2 lines)\n",
    "y_train = to_categorical(y_train_raw)\n",
    "y_test = to_categorical(y_test_raw)\n",
    "\n",
    "### END ### "
   ]
  },
  {
   "cell_type": "code",
   "execution_count": 15,
   "metadata": {},
   "outputs": [
    {
     "name": "stdout",
     "output_type": "stream",
     "text": [
      "[[0. 0. 0. ... 0. 0. 0.]\n",
      " [1. 0. 0. ... 0. 0. 0.]\n",
      " [0. 0. 0. ... 0. 0. 0.]\n",
      " ...\n",
      " [0. 0. 0. ... 0. 0. 0.]\n",
      " [0. 0. 0. ... 0. 0. 0.]\n",
      " [0. 0. 0. ... 0. 1. 0.]]\n"
     ]
    }
   ],
   "source": [
    "print(y_train)"
   ]
  },
  {
   "cell_type": "markdown",
   "metadata": {},
   "source": [
    "---\n",
    "## Building the neural network\n",
    "\n",
    "It's time for you to build your network! Here's a brief overview of how to work with Keras to get you started.\n",
    "\n",
    "The core data structure of Keras is a model, a way to organize layers. The simplest type of model is the [Sequential model](https://keras.io/models/sequential/), a linear stack of layers. For more complex architectures, you should use the Keras functional API, which allows to build arbitrary graphs of layers.\n",
    "\n",
    "\n",
    "**Exercise :** Create a new model by calling ```Sequential```"
   ]
  },
  {
   "cell_type": "code",
   "execution_count": 16,
   "metadata": {},
   "outputs": [],
   "source": [
    "### ENTER YOUR CODE HERE ### (1 line)\n",
    "model = Sequential()"
   ]
  },
  {
   "cell_type": "markdown",
   "metadata": {},
   "source": [
    "#### Add hidden layer\n",
    "[Dense](https://keras.io/layers/core/#dense) layers are fully connected, with each neuron in the previous layer being connected to each neuron in the new layer. The number you pass as an argument is the number of new neurons that are created.\n",
    "\n",
    "![dense layer](./img/dense.png)\n",
    "\n",
    "Since the input layer doesn't actually do anything, the first layer you create with Keras is really the first *hidden* layer. It has to know how many inputs to expect, which you can specify with `input_shape`. After the first layer, no other layer needs `input_shape`.\n",
    "\n",
    "Use ``Dense()`` object.  \n",
    "\n",
    "**Exercise :** Add ``Dense()`` layer in your model with `model.add(`layer`)`. Don't forget to indicate the number of inputs, in our case 784 entries ! EX :  ``input_shape=(784, )``. Your Dense layer must contain 10 neurons\n",
    "\n",
    "[Refer to the documentation.](https://keras.io/layers/core/#dense)"
   ]
  },
  {
   "cell_type": "code",
   "execution_count": 17,
   "metadata": {},
   "outputs": [],
   "source": [
    "### ENTER YOUR CODE HERE ### (1 line)\n",
    "model = Sequential()\n",
    "\n",
    "### ENTER YOUR CODE HERE ### (1 line)\n",
    "model.add(Dense(100, input_shape=(784,)))\n",
    "model.add(Activation('relu'))\n",
    "model.add(Flatten())\n",
    "\n",
    "model.add(Dense(10))\n",
    "model.add(Activation('softmax'))"
   ]
  },
  {
   "cell_type": "markdown",
   "metadata": {},
   "source": [
    "#### After adding a `Dense` layer, add an [Activation](https://keras.io/activations/) layer.\n",
    "\n",
    "This layer represents the activation functions for all the neurons in the layer before it. There are plenty of choices of actiation functions: `'sigmoid'`, `'hard_sigmoid'`, `'relu'`, `'softplus'`, `'tanh'`, `'softsign'`, `'softmax'`, `'elu'`, `'selu'`, and `'linear'`. If you're curious about what these activation functions look like, google is your friend!\n",
    "\n",
    "**Exercise :** Add an [Activation](https://keras.io/activations/) layer with ``softmax`` parameter. "
   ]
  },
  {
   "cell_type": "code",
   "execution_count": 18,
   "metadata": {},
   "outputs": [],
   "source": [
    "### ENTER YOUR CODE HERE ### (1 line)\n",
    "model.add(Dense(10, activation='softmax'))"
   ]
  },
  {
   "cell_type": "markdown",
   "metadata": {},
   "source": [
    "We will already try to see what our model gives with a single layer and there \"softmax\" activation function !"
   ]
  },
  {
   "cell_type": "markdown",
   "metadata": {},
   "source": [
    "### Compiling the model\n",
    "Once the model is built, it has to be compiled with `model.compile`\n",
    "These are added during the model's compile step:\n",
    "\n",
    "- *Optimizer* : his is how the model is updated based on the data it sees and its loss function. The `'optimizer'` is the strategy you want to use to find the right weights and biases for your model. A solid go-to choice is `'adam'`, but there are many others: `'sgd'`, `'rmsprop'`, `'adagrad'`, `'adadelta'`, `'adamax'`, and `'nadam'`.\n",
    "\n",
    "- *Loss function* : This measures how accurate the model is during training. We want to minimize this function to \"steer\" the model in the right direction. The `loss` argument describes the way you want the optimizer to gauge the correctness of the model. We'll be using `'categorical_crossentropy'` for this model.\n",
    "\n",
    "- *Metrics* : Used to monitor the training and testing steps. The following example uses accuracy, the fraction of the images that are correctly classified."
   ]
  },
  {
   "cell_type": "code",
   "execution_count": 19,
   "metadata": {},
   "outputs": [],
   "source": [
    "model.compile(loss=keras.losses.categorical_crossentropy,\n",
    "              optimizer=\"adam\",\n",
    "              metrics=['accuracy'])"
   ]
  },
  {
   "cell_type": "markdown",
   "metadata": {},
   "source": [
    "### Training the model\n",
    "\n",
    "We'll be using the data in `x_train` and `y_train` to fit the weights and biases in our model. \n",
    "\n",
    "The number of `epochs` is the number of times the model trains on every sample of the training set. More epochs means the model gets more opportunities to learn from the data, but it means the model takes longer to train. \n",
    "\n",
    "Too many epochs can also lead to *overfitting*, where instead of learning a general solution to the problem, the model essentially \"memorizes\" the answers for the examples it was trained on. If this happens, the accuracy on the training set is very high, while the accuracy on the test set is low. This is one of the reasons we keep the training and test sets separate, so we can tell if our model has been overfit.\n",
    "\n",
    "\n",
    "**Exercise :** Use the data in `x_train` and `y_train` to fit in our model. Change the number of epochs to improve your model. But normally, a maximum of 80 epochs should be used here."
   ]
  },
  {
   "cell_type": "code",
   "execution_count": 20,
   "metadata": {},
   "outputs": [
    {
     "name": "stdout",
     "output_type": "stream",
     "text": [
      "Epoch 1/40\n",
      "1875/1875 [==============================] - 4s 2ms/step - loss: 1.4166 - accuracy: 0.4891\n",
      "Epoch 2/40\n",
      "1875/1875 [==============================] - 4s 2ms/step - loss: 0.9634 - accuracy: 0.5107\n",
      "Epoch 3/40\n",
      "1875/1875 [==============================] - 4s 2ms/step - loss: 0.8707 - accuracy: 0.5220\n",
      "Epoch 4/40\n",
      "1875/1875 [==============================] - 5s 2ms/step - loss: 0.7118 - accuracy: 0.7095\n",
      "Epoch 5/40\n",
      "1875/1875 [==============================] - 5s 3ms/step - loss: 0.4025 - accuracy: 0.9083\n",
      "Epoch 6/40\n",
      "1875/1875 [==============================] - 4s 2ms/step - loss: 0.2669 - accuracy: 0.9628\n",
      "Epoch 7/40\n",
      "1875/1875 [==============================] - 4s 2ms/step - loss: 0.1843 - accuracy: 0.9737\n",
      "Epoch 8/40\n",
      "1875/1875 [==============================] - 4s 2ms/step - loss: 0.1383 - accuracy: 0.9788\n",
      "Epoch 9/40\n",
      "1875/1875 [==============================] - 4s 2ms/step - loss: 0.1092 - accuracy: 0.9821\n",
      "Epoch 10/40\n",
      "1875/1875 [==============================] - 5s 2ms/step - loss: 0.0909 - accuracy: 0.9845\n",
      "Epoch 11/40\n",
      "1875/1875 [==============================] - 5s 3ms/step - loss: 0.0769 - accuracy: 0.9861\n",
      "Epoch 12/40\n",
      "1875/1875 [==============================] - 4s 2ms/step - loss: 0.0649 - accuracy: 0.9878\n",
      "Epoch 13/40\n",
      "1875/1875 [==============================] - 4s 2ms/step - loss: 0.0567 - accuracy: 0.9890\n",
      "Epoch 14/40\n",
      "1875/1875 [==============================] - 4s 2ms/step - loss: 0.0519 - accuracy: 0.9897\n",
      "Epoch 15/40\n",
      "1875/1875 [==============================] - 4s 2ms/step - loss: 0.0470 - accuracy: 0.9906\n",
      "Epoch 16/40\n",
      "1875/1875 [==============================] - 5s 2ms/step - loss: 0.0439 - accuracy: 0.9908\n",
      "Epoch 17/40\n",
      "1875/1875 [==============================] - 4s 2ms/step - loss: 0.0410 - accuracy: 0.9919\n",
      "Epoch 18/40\n",
      "1875/1875 [==============================] - 5s 3ms/step - loss: 0.0348 - accuracy: 0.9929\n",
      "Epoch 19/40\n",
      "1875/1875 [==============================] - 4s 2ms/step - loss: 0.0356 - accuracy: 0.9928\n",
      "Epoch 20/40\n",
      "1875/1875 [==============================] - 4s 2ms/step - loss: 0.0331 - accuracy: 0.9932\n",
      "Epoch 21/40\n",
      "1875/1875 [==============================] - 4s 2ms/step - loss: 0.0295 - accuracy: 0.9942\n",
      "Epoch 22/40\n",
      "1875/1875 [==============================] - 5s 3ms/step - loss: 0.0298 - accuracy: 0.9938\n",
      "Epoch 23/40\n",
      "1875/1875 [==============================] - 4s 2ms/step - loss: 0.0250 - accuracy: 0.9952\n",
      "Epoch 24/40\n",
      "1875/1875 [==============================] - 4s 2ms/step - loss: 0.0259 - accuracy: 0.9947\n",
      "Epoch 25/40\n",
      "1875/1875 [==============================] - 4s 2ms/step - loss: 0.0237 - accuracy: 0.9952\n",
      "Epoch 26/40\n",
      "1875/1875 [==============================] - 5s 2ms/step - loss: 0.0225 - accuracy: 0.9955\n",
      "Epoch 27/40\n",
      "1875/1875 [==============================] - 4s 2ms/step - loss: 0.0244 - accuracy: 0.9952\n",
      "Epoch 28/40\n",
      "1875/1875 [==============================] - 4s 2ms/step - loss: 0.0223 - accuracy: 0.9954\n",
      "Epoch 29/40\n",
      "1875/1875 [==============================] - 4s 2ms/step - loss: 0.0227 - accuracy: 0.9952\n",
      "Epoch 30/40\n",
      "1875/1875 [==============================] - 4s 2ms/step - loss: 0.0203 - accuracy: 0.9962\n",
      "Epoch 31/40\n",
      "1875/1875 [==============================] - 5s 3ms/step - loss: 0.0187 - accuracy: 0.9962\n",
      "Epoch 32/40\n",
      "1875/1875 [==============================] - 4s 2ms/step - loss: 0.0202 - accuracy: 0.9959\n",
      "Epoch 33/40\n",
      "1875/1875 [==============================] - 4s 2ms/step - loss: 0.0200 - accuracy: 0.9961\n",
      "Epoch 34/40\n",
      "1875/1875 [==============================] - 4s 2ms/step - loss: 0.0203 - accuracy: 0.9958\n",
      "Epoch 35/40\n",
      "1875/1875 [==============================] - 4s 2ms/step - loss: 0.0155 - accuracy: 0.9971\n",
      "Epoch 36/40\n",
      "1875/1875 [==============================] - 4s 2ms/step - loss: 0.0203 - accuracy: 0.9960\n",
      "Epoch 37/40\n",
      "1875/1875 [==============================] - 5s 2ms/step - loss: 0.0177 - accuracy: 0.9963\n",
      "Epoch 38/40\n",
      "1875/1875 [==============================] - 4s 2ms/step - loss: 0.0159 - accuracy: 0.9969\n",
      "Epoch 39/40\n",
      "1875/1875 [==============================] - 4s 2ms/step - loss: 0.0175 - accuracy: 0.9966\n",
      "Epoch 40/40\n",
      "1875/1875 [==============================] - 4s 2ms/step - loss: 0.0163 - accuracy: 0.9967\n"
     ]
    },
    {
     "data": {
      "text/plain": [
       "<tensorflow.python.keras.callbacks.History at 0x7f1a18598950>"
      ]
     },
     "execution_count": 20,
     "metadata": {},
     "output_type": "execute_result"
    }
   ],
   "source": [
    "### ENTER YOUR CODE HERE ### (1 line)\n",
    "model.fit(x_train, y_train, epochs=40)"
   ]
  },
  {
   "cell_type": "markdown",
   "metadata": {},
   "source": [
    "### Evaluating the model\n",
    "\n",
    "There's a lot of different ways to evaluate a model's performance after it's been trained. One of the most straightforward ways is to look at its accuracy, which is the percent of samples it predicted correctly.\n",
    "\n",
    "We'll use the test set data (that wasn't used during training) to calculate you model's accuracy."
   ]
  },
  {
   "cell_type": "code",
   "execution_count": 21,
   "metadata": {},
   "outputs": [
    {
     "name": "stdout",
     "output_type": "stream",
     "text": [
      "Accuracy: % 96.86\n",
      "That means that out of 10000 test samples, this model got 9686 correct and 314 incorrect\n"
     ]
    }
   ],
   "source": [
    "from sklearn.metrics import accuracy_score, confusion_matrix\n",
    "predictions = model.predict(x_test)\n",
    "print(\"Accuracy: %\", accuracy_score(y_test.argmax(axis=1), predictions.argmax(axis=1)) * 100)\n",
    "\n",
    "correct_preds = (y_test.argmax(axis=1) == predictions.argmax(axis=1))\n",
    "print(\"That means that out of\", y_test.shape[0] ,\"test samples, this model got\", \n",
    "      np.where(correct_preds)[0].size, \"correct and\",\n",
    "      np.where(~correct_preds)[0].size, \"incorrect\")"
   ]
  },
  {
   "cell_type": "markdown",
   "metadata": {},
   "source": [
    "You should get a result that should be within 92% accuracy. With a single layer !  \n",
    "Let's try to see what it looks like if it adds depth. \n",
    "\n",
    "**Exercise :** Add a ``Dense`` layer that contains 50 neurons and uses the \"sigmoid\" activation function. Add this layer **before** the one we created previously!"
   ]
  },
  {
   "cell_type": "code",
   "execution_count": 22,
   "metadata": {},
   "outputs": [],
   "source": [
    "model2 = Sequential()\n",
    "\n",
    "### ENTER YOUR CODE HERE ### (1 or 2 lines)\n",
    "model2.add(Dense(50, activation='sigmoid'))\n",
    "\n",
    "### END\n",
    "model2.add(Dense(10))\n",
    "model2.add(Activation('softmax'))"
   ]
  },
  {
   "cell_type": "markdown",
   "metadata": {},
   "source": [
    "### Compiling the model (again)"
   ]
  },
  {
   "cell_type": "code",
   "execution_count": 23,
   "metadata": {},
   "outputs": [],
   "source": [
    "# The compiling step. Pick your optimizer! \n",
    "model2.compile(optimizer='adam', loss='categorical_crossentropy')"
   ]
  },
  {
   "cell_type": "markdown",
   "metadata": {},
   "source": [
    "### Training the model (again)"
   ]
  },
  {
   "cell_type": "code",
   "execution_count": 24,
   "metadata": {},
   "outputs": [
    {
     "name": "stdout",
     "output_type": "stream",
     "text": [
      "Epoch 1/40\n",
      "1875/1875 [==============================] - 3s 2ms/step - loss: 0.5053\n",
      "Epoch 2/40\n",
      "1875/1875 [==============================] - 3s 2ms/step - loss: 0.2281\n",
      "Epoch 3/40\n",
      "1875/1875 [==============================] - 3s 2ms/step - loss: 0.1785\n",
      "Epoch 4/40\n",
      "1875/1875 [==============================] - 3s 2ms/step - loss: 0.1487\n",
      "Epoch 5/40\n",
      "1875/1875 [==============================] - 3s 2ms/step - loss: 0.1283\n",
      "Epoch 6/40\n",
      "1875/1875 [==============================] - 3s 1ms/step - loss: 0.1122\n",
      "Epoch 7/40\n",
      "1875/1875 [==============================] - 4s 2ms/step - loss: 0.1002\n",
      "Epoch 8/40\n",
      "1875/1875 [==============================] - 5s 3ms/step - loss: 0.0903\n",
      "Epoch 9/40\n",
      "1875/1875 [==============================] - 3s 2ms/step - loss: 0.0819\n",
      "Epoch 10/40\n",
      "1875/1875 [==============================] - 3s 1ms/step - loss: 0.0745\n",
      "Epoch 11/40\n",
      "1875/1875 [==============================] - 3s 2ms/step - loss: 0.0682\n",
      "Epoch 12/40\n",
      "1875/1875 [==============================] - 3s 1ms/step - loss: 0.0623\n",
      "Epoch 13/40\n",
      "1875/1875 [==============================] - 3s 1ms/step - loss: 0.0574\n",
      "Epoch 14/40\n",
      "1875/1875 [==============================] - 3s 1ms/step - loss: 0.0533\n",
      "Epoch 15/40\n",
      "1875/1875 [==============================] - 3s 2ms/step - loss: 0.0492\n",
      "Epoch 16/40\n",
      "1875/1875 [==============================] - 3s 1ms/step - loss: 0.0459\n",
      "Epoch 17/40\n",
      "1875/1875 [==============================] - 3s 1ms/step - loss: 0.0423\n",
      "Epoch 18/40\n",
      "1875/1875 [==============================] - 3s 2ms/step - loss: 0.0393\n",
      "Epoch 19/40\n",
      "1875/1875 [==============================] - 3s 2ms/step - loss: 0.0363\n",
      "Epoch 20/40\n",
      "1875/1875 [==============================] - 4s 2ms/step - loss: 0.0341\n",
      "Epoch 21/40\n",
      "1875/1875 [==============================] - 3s 2ms/step - loss: 0.0316\n",
      "Epoch 22/40\n",
      "1875/1875 [==============================] - 3s 2ms/step - loss: 0.0294\n",
      "Epoch 23/40\n",
      "1875/1875 [==============================] - 3s 2ms/step - loss: 0.0271\n",
      "Epoch 24/40\n",
      "1875/1875 [==============================] - 4s 2ms/step - loss: 0.0257\n",
      "Epoch 25/40\n",
      "1875/1875 [==============================] - 3s 2ms/step - loss: 0.0235\n",
      "Epoch 26/40\n",
      "1875/1875 [==============================] - 3s 1ms/step - loss: 0.0220\n",
      "Epoch 27/40\n",
      "1875/1875 [==============================] - 3s 1ms/step - loss: 0.0208\n",
      "Epoch 28/40\n",
      "1875/1875 [==============================] - 3s 1ms/step - loss: 0.0189\n",
      "Epoch 29/40\n",
      "1875/1875 [==============================] - 3s 1ms/step - loss: 0.0177\n",
      "Epoch 30/40\n",
      "1875/1875 [==============================] - 3s 2ms/step - loss: 0.0163\n",
      "Epoch 31/40\n",
      "1875/1875 [==============================] - 4s 2ms/step - loss: 0.0152\n",
      "Epoch 32/40\n",
      "1875/1875 [==============================] - 3s 2ms/step - loss: 0.0142\n",
      "Epoch 33/40\n",
      "1875/1875 [==============================] - 3s 2ms/step - loss: 0.0130\n",
      "Epoch 34/40\n",
      "1875/1875 [==============================] - 3s 1ms/step - loss: 0.0123\n",
      "Epoch 35/40\n",
      "1875/1875 [==============================] - 3s 1ms/step - loss: 0.0111\n",
      "Epoch 36/40\n",
      "1875/1875 [==============================] - 3s 2ms/step - loss: 0.0105\n",
      "Epoch 37/40\n",
      "1875/1875 [==============================] - 3s 2ms/step - loss: 0.0096\n",
      "Epoch 38/40\n",
      "1875/1875 [==============================] - 3s 2ms/step - loss: 0.0090\n",
      "Epoch 39/40\n",
      "1875/1875 [==============================] - 3s 1ms/step - loss: 0.0083\n",
      "Epoch 40/40\n",
      "1875/1875 [==============================] - 3s 2ms/step - loss: 0.0076\n"
     ]
    },
    {
     "data": {
      "text/plain": [
       "<tensorflow.python.keras.callbacks.History at 0x7f1a18511c50>"
      ]
     },
     "execution_count": 24,
     "metadata": {},
     "output_type": "execute_result"
    }
   ],
   "source": [
    "model2.fit(x_train,y_train, epochs=40)"
   ]
  },
  {
   "cell_type": "markdown",
   "metadata": {},
   "source": [
    "### Evaluating the model (again)"
   ]
  },
  {
   "cell_type": "code",
   "execution_count": 25,
   "metadata": {},
   "outputs": [
    {
     "name": "stdout",
     "output_type": "stream",
     "text": [
      "Accuracy: % 96.86\n",
      "That means that out of 10000 test samples, this model got 9686 correct and 314 incorrect\n"
     ]
    }
   ],
   "source": [
    "predictions2 = model2.predict(x_test)\n",
    "print(\"Accuracy: %\", accuracy_score(y_test.argmax(axis=1), predictions.argmax(axis=1)) * 100)\n",
    "\n",
    "correct_preds2 = (y_test.argmax(axis=1) == predictions2.argmax(axis=1))\n",
    "print(\"That means that out of\", y_test.shape[0] ,\"test samples, this model got\", \n",
    "      np.where(correct_preds)[0].size, \"correct and\",\n",
    "      np.where(~correct_preds)[0].size, \"incorrect\")"
   ]
  },
  {
   "cell_type": "markdown",
   "metadata": {},
   "source": [
    "You should have gotten something close to this:"
   ]
  },
  {
   "cell_type": "markdown",
   "metadata": {},
   "source": [
    "````\n",
    "Accuracy: % 96.31\n",
    "\n",
    "That means that out of 10000 test samples, this model got 9631 correct and 369 incorrect\n",
    "````"
   ]
  },
  {
   "cell_type": "markdown",
   "metadata": {},
   "source": [
    "### Analyze the errors "
   ]
  },
  {
   "cell_type": "markdown",
   "metadata": {},
   "source": [
    "We can also assess the model's performance with a confusion matrix. In this matrix, rows and columns represent actual numbers and predicted numbers for each sample of the test set. \n",
    "\n",
    "Example : \n",
    "\n",
    "- If the number 900 is at row 6 and column 6 of the confusion matrix, that means that there were 900 samples where model predicted that the image was a drawing of a 6 and it was right\n",
    "- If the number 17 is at row 4 and column 9, that means that there were 17 times where the model predicted a 9, but the image was actually showing a 4\n",
    "\n",
    "In this heatmap, a diagonal stripe represents all the samples the model got right: when it predicted 0 for a 0, 1 for a 1, etc. Every other part of the matrix represents samples that the model got wrong."
   ]
  },
  {
   "cell_type": "code",
   "execution_count": 26,
   "metadata": {},
   "outputs": [
    {
     "data": {
      "image/png": "[encoded data removed]",
      "text/plain": [
       "<Figure size 720x576 with 2 Axes>"
      ]
     },
     "metadata": {
      "needs_background": "light"
     },
     "output_type": "display_data"
    }
   ],
   "source": [
    "import seaborn as sns\n",
    "cm = confusion_matrix(y_test.argmax(axis=1), predictions2.argmax(axis=1))\n",
    "\n",
    "plt.figure(figsize=(10, 8))\n",
    "sns.heatmap(cm, cmap=\"viridis\", vmax=100, annot=True, fmt='g')\n",
    "plt.gca().set_xlabel(\"Predicted number\", fontsize=16)\n",
    "plt.gca().set_ylabel(\"Actual number\", fontsize = 16)\n",
    "plt.show()"
   ]
  },
  {
   "cell_type": "markdown",
   "metadata": {},
   "source": [
    "This visualization is included just because I thought it was  interesting :)\n",
    "\n",
    "Each time the neural net makes a prediction every neuron in the output layer outputs a number. The highest number is chosen as the neural network's prediction, but we can inspect all the outputs to get an idea of what the neural network's second or third choice might have been."
   ]
  },
  {
   "cell_type": "code",
   "execution_count": 27,
   "metadata": {},
   "outputs": [
    {
     "data": {
      "image/png": "[encoded data removed]",
      "text/plain": [
       "<Figure size 432x288 with 1 Axes>"
      ]
     },
     "metadata": {
      "needs_background": "light"
     },
     "output_type": "display_data"
    },
    {
     "name": "stdout",
     "output_type": "stream",
     "text": [
      "This image represents the number 7\n",
      "\n",
      "Your model ranked its predictions this way: \n",
      "\n",
      "8 \tScore: 83.33503\n",
      "5 \tScore: 9.63866\n",
      "1 \tScore: 6.92553\n",
      "9 \tScore: 0.05250\n",
      "7 \tScore: 0.03579\n",
      "0 \tScore: 0.00701\n",
      "4 \tScore: 0.00306\n",
      "3 \tScore: 0.00240\n",
      "6 \tScore: 0.00002\n",
      "2 \tScore: 0.00002\n"
     ]
    }
   ],
   "source": [
    "# Every time you run this cell, a random sample will be chosen from the ones that your model made the wrong prediction on\n",
    "\n",
    "i = np.random.choice(np.where(~correct_preds)[0])\n",
    "\n",
    "plt.imshow(x_test_raw[i], cmap='Greys', interpolation='nearest')\n",
    "plt.show()\n",
    "\n",
    "print(\"This image represents the number\", y_test_raw[i])\n",
    "print()\n",
    "print(\"Your model ranked its predictions this way: \\n\")\n",
    "for num, score in sorted(list(enumerate(predictions[i])), key=lambda pair: pair[1], reverse=True):\n",
    "    print(num, \"\\tScore: {0:.5f}\".format((score) * 100))"
   ]
  },
  {
   "cell_type": "markdown",
   "metadata": {},
   "source": [
    "### Save your model"
   ]
  },
  {
   "cell_type": "code",
   "execution_count": 28,
   "metadata": {},
   "outputs": [],
   "source": [
    "model2.save(\"model.h5\")"
   ]
  },
  {
   "cell_type": "markdown",
   "metadata": {},
   "source": [
    "## Go further \n",
    "You could try adding layers to get an even better score ? \n",
    "Look [here](https://keras.io/layers/core/), maybe some layers can help you! \n",
    "\n",
    "### To read :\n",
    "[Selecting the Best Architecture for Artificial Neural Networks](https://heartbeat.fritz.ai/selecting-the-best-architecture-for-artificial-neural-networks-7b051f775b4)\n"
   ]
  },
  {
   "cell_type": "markdown",
   "metadata": {},
   "source": [
    "**Code Documentation:**  \n",
    "* `batch_size` number of images per loop step\n",
    "* `epochs` number of train loops\n",
    "* `num_classes` there are 10 digits 0-9\n",
    "* `x_train.astype('float32')` trains faster than int\n",
    "* `x_train /= 255` from 0-255 to 0-1\n",
    "* `verbose=1` 1 for progress bar logging"
   ]
  },
  {
   "cell_type": "markdown",
   "metadata": {},
   "source": [
    "### Keras Documentation:  \n",
    "* [to_categorical](https://keras.io/utils/#to_categorical) aka one_hot\n",
    "* [Dense](https://keras.io/layers/core/#dense)\n",
    "* [Flatten](https://keras.io/layers/core/#flatten)"
   ]
  }
 ],
 "metadata": {
  "kernelspec": {
   "display_name": "Python 3",
   "language": "python",
   "name": "python3"
  },
  "language_info": {
   "codemirror_mode": {
    "name": "ipython",
    "version": 3
   },
   "file_extension": ".py",
   "mimetype": "text/x-python",
   "name": "python",
   "nbconvert_exporter": "python",
   "pygments_lexer": "ipython3",
   "version": "3.7.5"
  }
 },
 "nbformat": 4,
 "nbformat_minor": 2
}
